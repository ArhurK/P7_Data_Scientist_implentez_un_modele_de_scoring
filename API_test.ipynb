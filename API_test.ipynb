{
 "cells": [
  {
   "cell_type": "code",
   "execution_count": 1,
   "id": "93bf5c91",
   "metadata": {},
   "outputs": [],
   "source": [
    "# pip install --upgrade scikit-learn"
   ]
  },
  {
   "cell_type": "code",
   "execution_count": 2,
   "id": "ec6d7a40",
   "metadata": {},
   "outputs": [],
   "source": [
    "# pip install mlflow"
   ]
  },
  {
   "cell_type": "code",
   "execution_count": 1,
   "id": "9569b1ed",
   "metadata": {},
   "outputs": [],
   "source": [
    "# pip install --upgrade lightgbm\n"
   ]
  },
  {
   "cell_type": "code",
   "execution_count": 28,
   "id": "d9a4f555",
   "metadata": {
    "collapsed": true
   },
   "outputs": [
    {
     "name": "stdout",
     "output_type": "stream",
     "text": [
      "Collecting uvicornNote: you may need to restart the kernel to use updated packages.\n",
      "\n",
      "  Obtaining dependency information for uvicorn from https://files.pythonhosted.org/packages/7e/17/4b7a76fffa7babf397481040d8aef2725b2b81ae19f1a31b5ca0c17d49e6/uvicorn-0.24.0.post1-py3-none-any.whl.metadata\n",
      "  Downloading uvicorn-0.24.0.post1-py3-none-any.whl.metadata (6.4 kB)\n",
      "Requirement already satisfied: click>=7.0 in c:\\users\\hankour\\anaconda3\\lib\\site-packages (from uvicorn) (8.0.4)\n",
      "Collecting h11>=0.8 (from uvicorn)\n",
      "  Downloading h11-0.14.0-py3-none-any.whl (58 kB)\n",
      "     ---------------------------------------- 0.0/58.3 kB ? eta -:--:--\n",
      "     ---------------------------------------- 58.3/58.3 kB ? eta 0:00:00\n",
      "Requirement already satisfied: typing-extensions>=4.0 in c:\\users\\hankour\\anaconda3\\lib\\site-packages (from uvicorn) (4.8.0)\n",
      "Requirement already satisfied: colorama in c:\\users\\hankour\\anaconda3\\lib\\site-packages (from click>=7.0->uvicorn) (0.4.6)\n",
      "Downloading uvicorn-0.24.0.post1-py3-none-any.whl (59 kB)\n",
      "   ---------------------------------------- 0.0/59.7 kB ? eta -:--:--\n",
      "   ---------------------------------------- 59.7/59.7 kB ? eta 0:00:00\n",
      "Installing collected packages: h11, uvicorn\n",
      "Successfully installed h11-0.14.0 uvicorn-0.24.0.post1\n"
     ]
    },
    {
     "name": "stderr",
     "output_type": "stream",
     "text": [
      "WARNING: Ignoring invalid distribution -pencv-contrib-python (c:\\users\\hankour\\anaconda3\\lib\\site-packages)\n",
      "WARNING: Ignoring invalid distribution -pencv-python (c:\\users\\hankour\\anaconda3\\lib\\site-packages)\n",
      "WARNING: Ignoring invalid distribution -pencv-contrib-python (c:\\users\\hankour\\anaconda3\\lib\\site-packages)\n",
      "WARNING: Ignoring invalid distribution -pencv-python (c:\\users\\hankour\\anaconda3\\lib\\site-packages)\n"
     ]
    }
   ],
   "source": [
    "# pip install uvicorn"
   ]
  },
  {
   "cell_type": "code",
   "execution_count": 6,
   "id": "3fcea35f",
   "metadata": {},
   "outputs": [],
   "source": [
    "import fastapi"
   ]
  },
  {
   "cell_type": "code",
   "execution_count": 1,
   "id": "26c68a8f",
   "metadata": {
    "scrolled": true
   },
   "outputs": [
    {
     "name": "stderr",
     "output_type": "stream",
     "text": [
      "C:\\Users\\Hankour\\anaconda3\\lib\\site-packages\\sklearn\\base.py:348: InconsistentVersionWarning: Trying to unpickle estimator LabelEncoder from version 1.2.2 when using version 1.3.2. This might lead to breaking code or invalid results. Use at your own risk. For more info please refer to:\n",
      "https://scikit-learn.org/stable/model_persistence.html#security-maintainability-limitations\n",
      "  warnings.warn(\n"
     ]
    }
   ],
   "source": [
    "import mlflow.sklearn\n",
    "import pandas as pd\n",
    "import uvicorn\n",
    "\n",
    "# Charger le modèle MLFlow\n",
    "model_path = r\"C:\\Users\\Hankour\\OneDrive\\Bureau\\OC_Arthur\\mlruns\\159852288404653738\\89e2dedfd3dd428b849adecd8c60de14\\artifacts\\model_lgbm_class_weight_best_model\"\n",
    "model = mlflow.sklearn.load_model(model_path)\n"
   ]
  },
  {
   "cell_type": "code",
   "execution_count": 2,
   "id": "eb62dd61",
   "metadata": {},
   "outputs": [
    {
     "data": {
      "text/html": [
       "<style>#sk-container-id-1 {color: black;}#sk-container-id-1 pre{padding: 0;}#sk-container-id-1 div.sk-toggleable {background-color: white;}#sk-container-id-1 label.sk-toggleable__label {cursor: pointer;display: block;width: 100%;margin-bottom: 0;padding: 0.3em;box-sizing: border-box;text-align: center;}#sk-container-id-1 label.sk-toggleable__label-arrow:before {content: \"▸\";float: left;margin-right: 0.25em;color: #696969;}#sk-container-id-1 label.sk-toggleable__label-arrow:hover:before {color: black;}#sk-container-id-1 div.sk-estimator:hover label.sk-toggleable__label-arrow:before {color: black;}#sk-container-id-1 div.sk-toggleable__content {max-height: 0;max-width: 0;overflow: hidden;text-align: left;background-color: #f0f8ff;}#sk-container-id-1 div.sk-toggleable__content pre {margin: 0.2em;color: black;border-radius: 0.25em;background-color: #f0f8ff;}#sk-container-id-1 input.sk-toggleable__control:checked~div.sk-toggleable__content {max-height: 200px;max-width: 100%;overflow: auto;}#sk-container-id-1 input.sk-toggleable__control:checked~label.sk-toggleable__label-arrow:before {content: \"▾\";}#sk-container-id-1 div.sk-estimator input.sk-toggleable__control:checked~label.sk-toggleable__label {background-color: #d4ebff;}#sk-container-id-1 div.sk-label input.sk-toggleable__control:checked~label.sk-toggleable__label {background-color: #d4ebff;}#sk-container-id-1 input.sk-hidden--visually {border: 0;clip: rect(1px 1px 1px 1px);clip: rect(1px, 1px, 1px, 1px);height: 1px;margin: -1px;overflow: hidden;padding: 0;position: absolute;width: 1px;}#sk-container-id-1 div.sk-estimator {font-family: monospace;background-color: #f0f8ff;border: 1px dotted black;border-radius: 0.25em;box-sizing: border-box;margin-bottom: 0.5em;}#sk-container-id-1 div.sk-estimator:hover {background-color: #d4ebff;}#sk-container-id-1 div.sk-parallel-item::after {content: \"\";width: 100%;border-bottom: 1px solid gray;flex-grow: 1;}#sk-container-id-1 div.sk-label:hover label.sk-toggleable__label {background-color: #d4ebff;}#sk-container-id-1 div.sk-serial::before {content: \"\";position: absolute;border-left: 1px solid gray;box-sizing: border-box;top: 0;bottom: 0;left: 50%;z-index: 0;}#sk-container-id-1 div.sk-serial {display: flex;flex-direction: column;align-items: center;background-color: white;padding-right: 0.2em;padding-left: 0.2em;position: relative;}#sk-container-id-1 div.sk-item {position: relative;z-index: 1;}#sk-container-id-1 div.sk-parallel {display: flex;align-items: stretch;justify-content: center;background-color: white;position: relative;}#sk-container-id-1 div.sk-item::before, #sk-container-id-1 div.sk-parallel-item::before {content: \"\";position: absolute;border-left: 1px solid gray;box-sizing: border-box;top: 0;bottom: 0;left: 50%;z-index: -1;}#sk-container-id-1 div.sk-parallel-item {display: flex;flex-direction: column;z-index: 1;position: relative;background-color: white;}#sk-container-id-1 div.sk-parallel-item:first-child::after {align-self: flex-end;width: 50%;}#sk-container-id-1 div.sk-parallel-item:last-child::after {align-self: flex-start;width: 50%;}#sk-container-id-1 div.sk-parallel-item:only-child::after {width: 0;}#sk-container-id-1 div.sk-dashed-wrapped {border: 1px dashed gray;margin: 0 0.4em 0.5em 0.4em;box-sizing: border-box;padding-bottom: 0.4em;background-color: white;}#sk-container-id-1 div.sk-label label {font-family: monospace;font-weight: bold;display: inline-block;line-height: 1.2em;}#sk-container-id-1 div.sk-label-container {text-align: center;}#sk-container-id-1 div.sk-container {/* jupyter's `normalize.less` sets `[hidden] { display: none; }` but bootstrap.min.css set `[hidden] { display: none !important; }` so we also need the `!important` here to be able to override the default hidden behavior on the sphinx rendered scikit-learn.org. See: https://github.com/scikit-learn/scikit-learn/issues/21755 */display: inline-block !important;position: relative;}#sk-container-id-1 div.sk-text-repr-fallback {display: none;}</style><div id=\"sk-container-id-1\" class=\"sk-top-container\"><div class=\"sk-text-repr-fallback\"><pre>LGBMClassifier(bagging_fraction=0.7999999999999999, bagging_freq=8,\n",
       "               class_weight={0: 0.08, 1: 0.91},\n",
       "               feature_fraction=0.8999999999999999, learning_rate=0.2,\n",
       "               metric=&#x27;binary_logloss&#x27;, num_leaves=20, objective=&#x27;binary&#x27;,\n",
       "               verbose=0, verbosity=-1)</pre><b>In a Jupyter environment, please rerun this cell to show the HTML representation or trust the notebook. <br />On GitHub, the HTML representation is unable to render, please try loading this page with nbviewer.org.</b></div><div class=\"sk-container\" hidden><div class=\"sk-item\"><div class=\"sk-estimator sk-toggleable\"><input class=\"sk-toggleable__control sk-hidden--visually\" id=\"sk-estimator-id-1\" type=\"checkbox\" checked><label for=\"sk-estimator-id-1\" class=\"sk-toggleable__label sk-toggleable__label-arrow\">LGBMClassifier</label><div class=\"sk-toggleable__content\"><pre>LGBMClassifier(bagging_fraction=0.7999999999999999, bagging_freq=8,\n",
       "               class_weight={0: 0.08, 1: 0.91},\n",
       "               feature_fraction=0.8999999999999999, learning_rate=0.2,\n",
       "               metric=&#x27;binary_logloss&#x27;, num_leaves=20, objective=&#x27;binary&#x27;,\n",
       "               verbose=0, verbosity=-1)</pre></div></div></div></div></div>"
      ],
      "text/plain": [
       "LGBMClassifier(bagging_fraction=0.7999999999999999, bagging_freq=8,\n",
       "               class_weight={0: 0.08, 1: 0.91},\n",
       "               feature_fraction=0.8999999999999999, learning_rate=0.2,\n",
       "               metric='binary_logloss', num_leaves=20, objective='binary',\n",
       "               verbose=0, verbosity=-1)"
      ]
     },
     "execution_count": 2,
     "metadata": {},
     "output_type": "execute_result"
    }
   ],
   "source": [
    "model"
   ]
  },
  {
   "cell_type": "code",
   "execution_count": 18,
   "id": "1b19e704",
   "metadata": {},
   "outputs": [
    {
     "name": "stdout",
     "output_type": "stream",
     "text": [
      " * Serving Flask app '__main__'\n",
      " * Debug mode: on\n"
     ]
    },
    {
     "name": "stderr",
     "output_type": "stream",
     "text": [
      "C:\\Users\\Hankour\\anaconda3\\lib\\site-packages\\sklearn\\base.py:348: InconsistentVersionWarning: Trying to unpickle estimator LabelEncoder from version 1.2.2 when using version 1.3.2. This might lead to breaking code or invalid results. Use at your own risk. For more info please refer to:\n",
      "https://scikit-learn.org/stable/model_persistence.html#security-maintainability-limitations\n",
      "  warnings.warn(\n",
      "WARNING: This is a development server. Do not use it in a production deployment. Use a production WSGI server instead.\n",
      " * Running on http://127.0.0.1:5000\n",
      "Press CTRL+C to quit\n",
      " * Restarting with watchdog (windowsapi)\n"
     ]
    },
    {
     "ename": "SystemExit",
     "evalue": "1",
     "output_type": "error",
     "traceback": [
      "An exception has occurred, use %tb to see the full traceback.\n",
      "\u001b[1;31mSystemExit\u001b[0m\u001b[1;31m:\u001b[0m 1\n"
     ]
    },
    {
     "name": "stderr",
     "output_type": "stream",
     "text": [
      "C:\\Users\\Hankour\\anaconda3\\lib\\site-packages\\IPython\\core\\interactiveshell.py:3465: UserWarning: To exit: use 'exit', 'quit', or Ctrl-D.\n",
      "  warn(\"To exit: use 'exit', 'quit', or Ctrl-D.\", stacklevel=1)\n"
     ]
    }
   ],
   "source": [
    "import mlflow.sklearn\n",
    "import pandas as pd\n",
    "import uvicorn\n",
    "import fastapi\n",
    "\n",
    "# Charger le modèle MLFlow\n",
    "model_path = r\"C:\\Users\\Hankour\\OneDrive\\Bureau\\OC_Arthur\\mlruns\\159852288404653738\\89e2dedfd3dd428b849adecd8c60de14\\artifacts\\model_lgbm_class_weight_best_model\"\n",
    "model = mlflow.sklearn.load_model(model_path)\n",
    "\n",
    "\n",
    "from flask import Flask, request, jsonify\n",
    "import pandas as pd\n",
    "import mlflow.sklearn\n",
    "\n",
    "app = Flask(__name__)\n",
    "\n",
    "@app.get('/predict_proba') # get pas post\n",
    "def predict_proba(id_client = None):\n",
    "    \n",
    "    # Charger les données du formulaire\n",
    "#     data = request.json\n",
    "#     df = pd.DataFrame(data)\n",
    "    df_test = pd.read_pickle('test_df.pkl')\n",
    "    \n",
    "    # Sélection ID client\n",
    "    try:\n",
    "        selected_row = df.loc[df['SK_ID_CURR'] == id_client['index']]\n",
    "    except IndexError:\n",
    "        print('ID Not found')\n",
    "    else:\n",
    "        # Acces à la ligne sélectionnée\n",
    "        print(selected_row)\n",
    "    \n",
    "    # Sélection des features\n",
    "    feats = [f for f in df_test.columns if f not in ['TARGET','SK_ID_CURR','SK_ID_BUREAU','SK_ID_PREV','index']]\n",
    "    X = df[feats]\n",
    "\n",
    "    # Effectuer la prédiction\n",
    "    predictions = model.predict_proba(X)\n",
    "\n",
    "    # Convertir les prédictions en format JSON\n",
    "    # Faire plutot f('prediction{id_client}')\n",
    "    result = {'predictions': predictions.tolist()}\n",
    "\n",
    "    return jsonify(result)\n",
    "\n",
    "if __name__ == '__main__':\n",
    "    app.run(debug=True)\n"
   ]
  },
  {
   "cell_type": "code",
   "execution_count": 7,
   "id": "ea216863",
   "metadata": {},
   "outputs": [],
   "source": [
    "# uvicorn.run(app)"
   ]
  },
  {
   "cell_type": "markdown",
   "id": "3f08f22f",
   "metadata": {},
   "source": [
    "## Faire une requête qui envoi un ID client"
   ]
  },
  {
   "cell_type": "code",
   "execution_count": 17,
   "id": "dd8980a9",
   "metadata": {},
   "outputs": [
    {
     "data": {
      "text/plain": [
       "<Response [500]>"
      ]
     },
     "execution_count": 17,
     "metadata": {},
     "output_type": "execute_result"
    }
   ],
   "source": [
    "import requests \n",
    "import json \n",
    "\n",
    "requete_test = {'index' : 100001} # dicto ==> json \n",
    "requete_test_json = json.dumps(requete_test)\n",
    "requete_test_json\n",
    "\n",
    "requests.get(url = 'http://127.0.0.1:8000/predict_proba', data = requete_test  )\n",
    "# requete_test = {index : 100001} # dicto ==> json \n"
   ]
  },
  {
   "cell_type": "code",
   "execution_count": null,
   "id": "b7b6ae32",
   "metadata": {},
   "outputs": [],
   "source": []
  },
  {
   "cell_type": "code",
   "execution_count": null,
   "id": "3fee6628",
   "metadata": {},
   "outputs": [],
   "source": []
  },
  {
   "cell_type": "code",
   "execution_count": null,
   "id": "fd0d286b",
   "metadata": {},
   "outputs": [],
   "source": []
  },
  {
   "cell_type": "code",
   "execution_count": null,
   "id": "2a42a519",
   "metadata": {},
   "outputs": [],
   "source": [
    "# fin du programme\n",
    "end"
   ]
  },
  {
   "cell_type": "code",
   "execution_count": 19,
   "id": "a8904418",
   "metadata": {},
   "outputs": [
    {
     "data": {
      "text/plain": [
       "100001"
      ]
     },
     "execution_count": 19,
     "metadata": {},
     "output_type": "execute_result"
    }
   ],
   "source": [
    "requete_test['index']"
   ]
  },
  {
   "cell_type": "code",
   "execution_count": 7,
   "id": "bcc9b6f6",
   "metadata": {},
   "outputs": [
    {
     "data": {
      "text/html": [
       "<div>\n",
       "<style scoped>\n",
       "    .dataframe tbody tr th:only-of-type {\n",
       "        vertical-align: middle;\n",
       "    }\n",
       "\n",
       "    .dataframe tbody tr th {\n",
       "        vertical-align: top;\n",
       "    }\n",
       "\n",
       "    .dataframe thead th {\n",
       "        text-align: right;\n",
       "    }\n",
       "</style>\n",
       "<table border=\"1\" class=\"dataframe\">\n",
       "  <thead>\n",
       "    <tr style=\"text-align: right;\">\n",
       "      <th></th>\n",
       "      <th>index</th>\n",
       "      <th>SK_ID_CURR</th>\n",
       "      <th>TARGET</th>\n",
       "      <th>CODE_GENDER</th>\n",
       "      <th>FLAG_OWN_CAR</th>\n",
       "      <th>FLAG_OWN_REALTY</th>\n",
       "      <th>CNT_CHILDREN</th>\n",
       "      <th>AMT_INCOME_TOTAL</th>\n",
       "      <th>AMT_CREDIT</th>\n",
       "      <th>AMT_ANNUITY</th>\n",
       "      <th>...</th>\n",
       "      <th>CC_NAME_CONTRACT_STATUS_Signed_MAX</th>\n",
       "      <th>CC_NAME_CONTRACT_STATUS_Signed_MEAN</th>\n",
       "      <th>CC_NAME_CONTRACT_STATUS_Signed_SUM</th>\n",
       "      <th>CC_NAME_CONTRACT_STATUS_Signed_VAR</th>\n",
       "      <th>CC_NAME_CONTRACT_STATUS_nan_MIN</th>\n",
       "      <th>CC_NAME_CONTRACT_STATUS_nan_MAX</th>\n",
       "      <th>CC_NAME_CONTRACT_STATUS_nan_MEAN</th>\n",
       "      <th>CC_NAME_CONTRACT_STATUS_nan_SUM</th>\n",
       "      <th>CC_NAME_CONTRACT_STATUS_nan_VAR</th>\n",
       "      <th>CC_COUNT</th>\n",
       "    </tr>\n",
       "  </thead>\n",
       "  <tbody>\n",
       "    <tr>\n",
       "      <th>307511</th>\n",
       "      <td>0</td>\n",
       "      <td>100001</td>\n",
       "      <td>NaN</td>\n",
       "      <td>1</td>\n",
       "      <td>0</td>\n",
       "      <td>0</td>\n",
       "      <td>0</td>\n",
       "      <td>135000.0</td>\n",
       "      <td>568800.0</td>\n",
       "      <td>20560.5</td>\n",
       "      <td>...</td>\n",
       "      <td>NaN</td>\n",
       "      <td>NaN</td>\n",
       "      <td>NaN</td>\n",
       "      <td>NaN</td>\n",
       "      <td>NaN</td>\n",
       "      <td>NaN</td>\n",
       "      <td>NaN</td>\n",
       "      <td>NaN</td>\n",
       "      <td>NaN</td>\n",
       "      <td>NaN</td>\n",
       "    </tr>\n",
       "    <tr>\n",
       "      <th>307512</th>\n",
       "      <td>1</td>\n",
       "      <td>100005</td>\n",
       "      <td>NaN</td>\n",
       "      <td>0</td>\n",
       "      <td>0</td>\n",
       "      <td>0</td>\n",
       "      <td>0</td>\n",
       "      <td>99000.0</td>\n",
       "      <td>222768.0</td>\n",
       "      <td>17370.0</td>\n",
       "      <td>...</td>\n",
       "      <td>NaN</td>\n",
       "      <td>NaN</td>\n",
       "      <td>NaN</td>\n",
       "      <td>NaN</td>\n",
       "      <td>NaN</td>\n",
       "      <td>NaN</td>\n",
       "      <td>NaN</td>\n",
       "      <td>NaN</td>\n",
       "      <td>NaN</td>\n",
       "      <td>NaN</td>\n",
       "    </tr>\n",
       "    <tr>\n",
       "      <th>307513</th>\n",
       "      <td>2</td>\n",
       "      <td>100013</td>\n",
       "      <td>NaN</td>\n",
       "      <td>0</td>\n",
       "      <td>1</td>\n",
       "      <td>0</td>\n",
       "      <td>0</td>\n",
       "      <td>202500.0</td>\n",
       "      <td>663264.0</td>\n",
       "      <td>69777.0</td>\n",
       "      <td>...</td>\n",
       "      <td>0.0</td>\n",
       "      <td>0.0</td>\n",
       "      <td>0.0</td>\n",
       "      <td>0.0</td>\n",
       "      <td>0.0</td>\n",
       "      <td>0.0</td>\n",
       "      <td>0.0</td>\n",
       "      <td>0.0</td>\n",
       "      <td>0.0</td>\n",
       "      <td>96.0</td>\n",
       "    </tr>\n",
       "    <tr>\n",
       "      <th>307514</th>\n",
       "      <td>3</td>\n",
       "      <td>100028</td>\n",
       "      <td>NaN</td>\n",
       "      <td>1</td>\n",
       "      <td>0</td>\n",
       "      <td>0</td>\n",
       "      <td>2</td>\n",
       "      <td>315000.0</td>\n",
       "      <td>1575000.0</td>\n",
       "      <td>49018.5</td>\n",
       "      <td>...</td>\n",
       "      <td>0.0</td>\n",
       "      <td>0.0</td>\n",
       "      <td>0.0</td>\n",
       "      <td>0.0</td>\n",
       "      <td>0.0</td>\n",
       "      <td>0.0</td>\n",
       "      <td>0.0</td>\n",
       "      <td>0.0</td>\n",
       "      <td>0.0</td>\n",
       "      <td>49.0</td>\n",
       "    </tr>\n",
       "    <tr>\n",
       "      <th>307515</th>\n",
       "      <td>4</td>\n",
       "      <td>100038</td>\n",
       "      <td>NaN</td>\n",
       "      <td>0</td>\n",
       "      <td>1</td>\n",
       "      <td>1</td>\n",
       "      <td>1</td>\n",
       "      <td>180000.0</td>\n",
       "      <td>625500.0</td>\n",
       "      <td>32067.0</td>\n",
       "      <td>...</td>\n",
       "      <td>NaN</td>\n",
       "      <td>NaN</td>\n",
       "      <td>NaN</td>\n",
       "      <td>NaN</td>\n",
       "      <td>NaN</td>\n",
       "      <td>NaN</td>\n",
       "      <td>NaN</td>\n",
       "      <td>NaN</td>\n",
       "      <td>NaN</td>\n",
       "      <td>NaN</td>\n",
       "    </tr>\n",
       "  </tbody>\n",
       "</table>\n",
       "<p>5 rows × 798 columns</p>\n",
       "</div>"
      ],
      "text/plain": [
       "        index  SK_ID_CURR  TARGET  CODE_GENDER  FLAG_OWN_CAR  FLAG_OWN_REALTY  \\\n",
       "307511      0      100001     NaN            1             0                0   \n",
       "307512      1      100005     NaN            0             0                0   \n",
       "307513      2      100013     NaN            0             1                0   \n",
       "307514      3      100028     NaN            1             0                0   \n",
       "307515      4      100038     NaN            0             1                1   \n",
       "\n",
       "        CNT_CHILDREN  AMT_INCOME_TOTAL  AMT_CREDIT  AMT_ANNUITY  ...  \\\n",
       "307511             0          135000.0    568800.0      20560.5  ...   \n",
       "307512             0           99000.0    222768.0      17370.0  ...   \n",
       "307513             0          202500.0    663264.0      69777.0  ...   \n",
       "307514             2          315000.0   1575000.0      49018.5  ...   \n",
       "307515             1          180000.0    625500.0      32067.0  ...   \n",
       "\n",
       "        CC_NAME_CONTRACT_STATUS_Signed_MAX  \\\n",
       "307511                                 NaN   \n",
       "307512                                 NaN   \n",
       "307513                                 0.0   \n",
       "307514                                 0.0   \n",
       "307515                                 NaN   \n",
       "\n",
       "        CC_NAME_CONTRACT_STATUS_Signed_MEAN  \\\n",
       "307511                                  NaN   \n",
       "307512                                  NaN   \n",
       "307513                                  0.0   \n",
       "307514                                  0.0   \n",
       "307515                                  NaN   \n",
       "\n",
       "        CC_NAME_CONTRACT_STATUS_Signed_SUM  \\\n",
       "307511                                 NaN   \n",
       "307512                                 NaN   \n",
       "307513                                 0.0   \n",
       "307514                                 0.0   \n",
       "307515                                 NaN   \n",
       "\n",
       "        CC_NAME_CONTRACT_STATUS_Signed_VAR  CC_NAME_CONTRACT_STATUS_nan_MIN  \\\n",
       "307511                                 NaN                              NaN   \n",
       "307512                                 NaN                              NaN   \n",
       "307513                                 0.0                              0.0   \n",
       "307514                                 0.0                              0.0   \n",
       "307515                                 NaN                              NaN   \n",
       "\n",
       "        CC_NAME_CONTRACT_STATUS_nan_MAX  CC_NAME_CONTRACT_STATUS_nan_MEAN  \\\n",
       "307511                              NaN                               NaN   \n",
       "307512                              NaN                               NaN   \n",
       "307513                              0.0                               0.0   \n",
       "307514                              0.0                               0.0   \n",
       "307515                              NaN                               NaN   \n",
       "\n",
       "        CC_NAME_CONTRACT_STATUS_nan_SUM  CC_NAME_CONTRACT_STATUS_nan_VAR  \\\n",
       "307511                              NaN                              NaN   \n",
       "307512                              NaN                              NaN   \n",
       "307513                              0.0                              0.0   \n",
       "307514                              0.0                              0.0   \n",
       "307515                              NaN                              NaN   \n",
       "\n",
       "        CC_COUNT  \n",
       "307511       NaN  \n",
       "307512       NaN  \n",
       "307513      96.0  \n",
       "307514      49.0  \n",
       "307515       NaN  \n",
       "\n",
       "[5 rows x 798 columns]"
      ]
     },
     "execution_count": 7,
     "metadata": {},
     "output_type": "execute_result"
    }
   ],
   "source": [
    "df_test = pd.read_pickle('test_df.pkl')\n",
    "df_test.head()"
   ]
  },
  {
   "cell_type": "code",
   "execution_count": 11,
   "id": "de5e63f0",
   "metadata": {},
   "outputs": [],
   "source": [
    "feats = [f for f in df_test.columns if f not in ['TARGET','SK_ID_CURR','SK_ID_BUREAU','SK_ID_PREV','index']]"
   ]
  },
  {
   "cell_type": "code",
   "execution_count": 26,
   "id": "40a13870",
   "metadata": {},
   "outputs": [
    {
     "data": {
      "text/plain": [
       "array([[0.64045506, 0.35954494]])"
      ]
     },
     "execution_count": 26,
     "metadata": {},
     "output_type": "execute_result"
    }
   ],
   "source": [
    "model.predict_proba(df_test[feats].iloc[:1,:])"
   ]
  },
  {
   "cell_type": "code",
   "execution_count": 19,
   "id": "6e9e2f34",
   "metadata": {},
   "outputs": [
    {
     "data": {
      "text/plain": [
       "(48744, (48744, 798))"
      ]
     },
     "execution_count": 19,
     "metadata": {},
     "output_type": "execute_result"
    }
   ],
   "source": [
    "df_test['SK_ID_CURR'].nunique() , df_test.shape"
   ]
  },
  {
   "cell_type": "code",
   "execution_count": null,
   "id": "397a3372",
   "metadata": {},
   "outputs": [],
   "source": []
  },
  {
   "cell_type": "markdown",
   "id": "e9b30cf0",
   "metadata": {},
   "source": [
    "## Brouillon "
   ]
  },
  {
   "cell_type": "code",
   "execution_count": 1,
   "id": "b3389a18",
   "metadata": {},
   "outputs": [
    {
     "ename": "FileNotFoundError",
     "evalue": "[Errno 2] No such file or directory: 'votre_modele_test.joblib'",
     "output_type": "error",
     "traceback": [
      "\u001b[1;31m---------------------------------------------------------------------------\u001b[0m",
      "\u001b[1;31mFileNotFoundError\u001b[0m                         Traceback (most recent call last)",
      "\u001b[1;32m~\\AppData\\Local\\Temp\\ipykernel_10176\\2739438342.py\u001b[0m in \u001b[0;36m<module>\u001b[1;34m\u001b[0m\n\u001b[0;32m      6\u001b[0m \u001b[1;33m\u001b[0m\u001b[0m\n\u001b[0;32m      7\u001b[0m \u001b[1;31m# Chargez votre modèle\u001b[0m\u001b[1;33m\u001b[0m\u001b[1;33m\u001b[0m\u001b[0m\n\u001b[1;32m----> 8\u001b[1;33m \u001b[0mmodel\u001b[0m \u001b[1;33m=\u001b[0m \u001b[0mjoblib\u001b[0m\u001b[1;33m.\u001b[0m\u001b[0mload\u001b[0m\u001b[1;33m(\u001b[0m\u001b[1;34m'votre_modele_test.joblib'\u001b[0m\u001b[1;33m)\u001b[0m  \u001b[1;31m# Assurez-vous de spécifier le bon chemin\u001b[0m\u001b[1;33m\u001b[0m\u001b[1;33m\u001b[0m\u001b[0m\n\u001b[0m\u001b[0;32m      9\u001b[0m \u001b[1;33m\u001b[0m\u001b[0m\n\u001b[0;32m     10\u001b[0m \u001b[1;33m@\u001b[0m\u001b[0mapp\u001b[0m\u001b[1;33m.\u001b[0m\u001b[0mroute\u001b[0m\u001b[1;33m(\u001b[0m\u001b[1;34m'/predict_proba'\u001b[0m\u001b[1;33m,\u001b[0m \u001b[0mmethods\u001b[0m\u001b[1;33m=\u001b[0m\u001b[1;33m[\u001b[0m\u001b[1;34m'POST'\u001b[0m\u001b[1;33m]\u001b[0m\u001b[1;33m)\u001b[0m\u001b[1;33m\u001b[0m\u001b[1;33m\u001b[0m\u001b[0m\n",
      "\u001b[1;32m~\\anaconda3\\lib\\site-packages\\joblib\\numpy_pickle.py\u001b[0m in \u001b[0;36mload\u001b[1;34m(filename, mmap_mode)\u001b[0m\n\u001b[0;32m    648\u001b[0m             \u001b[0mobj\u001b[0m \u001b[1;33m=\u001b[0m \u001b[0m_unpickle\u001b[0m\u001b[1;33m(\u001b[0m\u001b[0mfobj\u001b[0m\u001b[1;33m)\u001b[0m\u001b[1;33m\u001b[0m\u001b[1;33m\u001b[0m\u001b[0m\n\u001b[0;32m    649\u001b[0m     \u001b[1;32melse\u001b[0m\u001b[1;33m:\u001b[0m\u001b[1;33m\u001b[0m\u001b[1;33m\u001b[0m\u001b[0m\n\u001b[1;32m--> 650\u001b[1;33m         \u001b[1;32mwith\u001b[0m \u001b[0mopen\u001b[0m\u001b[1;33m(\u001b[0m\u001b[0mfilename\u001b[0m\u001b[1;33m,\u001b[0m \u001b[1;34m'rb'\u001b[0m\u001b[1;33m)\u001b[0m \u001b[1;32mas\u001b[0m \u001b[0mf\u001b[0m\u001b[1;33m:\u001b[0m\u001b[1;33m\u001b[0m\u001b[1;33m\u001b[0m\u001b[0m\n\u001b[0m\u001b[0;32m    651\u001b[0m             \u001b[1;32mwith\u001b[0m \u001b[0m_read_fileobject\u001b[0m\u001b[1;33m(\u001b[0m\u001b[0mf\u001b[0m\u001b[1;33m,\u001b[0m \u001b[0mfilename\u001b[0m\u001b[1;33m,\u001b[0m \u001b[0mmmap_mode\u001b[0m\u001b[1;33m)\u001b[0m \u001b[1;32mas\u001b[0m \u001b[0mfobj\u001b[0m\u001b[1;33m:\u001b[0m\u001b[1;33m\u001b[0m\u001b[1;33m\u001b[0m\u001b[0m\n\u001b[0;32m    652\u001b[0m                 \u001b[1;32mif\u001b[0m \u001b[0misinstance\u001b[0m\u001b[1;33m(\u001b[0m\u001b[0mfobj\u001b[0m\u001b[1;33m,\u001b[0m \u001b[0mstr\u001b[0m\u001b[1;33m)\u001b[0m\u001b[1;33m:\u001b[0m\u001b[1;33m\u001b[0m\u001b[1;33m\u001b[0m\u001b[0m\n",
      "\u001b[1;31mFileNotFoundError\u001b[0m: [Errno 2] No such file or directory: 'votre_modele_test.joblib'"
     ]
    }
   ],
   "source": [
    "from flask import Flask, request, jsonify\n",
    "\n",
    "import joblib  # ou importez le module que vous utilisez pour charger votre modèle\n",
    "\n",
    "app = Flask(__name__)\n",
    "\n",
    "# Chargez votre modèle\n",
    "model = joblib.load('votre_modele_test.joblib')  # Assurez-vous de spécifier le bon chemin\n",
    "\n",
    "@app.route('/predict_proba', methods=['POST'])\n",
    "def predict_proba():\n",
    "    try:\n",
    "        # Récupérez les données du corps de la requête\n",
    "        data = request.get_json()\n",
    "\n",
    "        # Assurez-vous que l'ID client est présent dans les données\n",
    "        if 'client_id' not in data:\n",
    "            return jsonify({'error': 'ID client manquant'}), 400\n",
    "\n",
    "        # Vous devrez adapter cette partie en fonction de la structure de vos données\n",
    "        # Par exemple, supposons que vous ayez une fonction get_features_from_client_id\n",
    "        client_features = get_features_from_client_id(data['client_id'])\n",
    "\n",
    "        # Effectuez la prédiction de probabilité\n",
    "        probability = model.predict_proba(client_features.reshape(1, -1))\n",
    "\n",
    "        # Retournez la probabilité sous forme de réponse JSON\n",
    "        return jsonify({'probability': probability.tolist()[0][1]})\n",
    "\n",
    "    except Exception as e:\n",
    "        return jsonify({'error': str(e)}), 500\n",
    "\n",
    "if __name__ == '__main__':\n",
    "    app.run(debug=True)\n"
   ]
  },
  {
   "cell_type": "code",
   "execution_count": null,
   "id": "5c0dc442",
   "metadata": {},
   "outputs": [],
   "source": [
    "from fastapi import FastAPI, HTTPException\n",
    "from pydantic import BaseModel\n",
    "import mlflow\n",
    "import mlflow.sklearn\n",
    "import os\n",
    "\n",
    "app = FastAPI()\n",
    "\n",
    "# Exemple de modèle pour la requête\n",
    "class ClientIDInput(BaseModel):\n",
    "    client_id: int\n",
    "\n",
    "# Exemple de modèle pour la réponse\n",
    "class ProbabilityOutput(BaseModel):\n",
    "    probability: float\n",
    "\n",
    "# Remplacez cela par le chemin local de votre modèle MLflow\n",
    "chemin_modele_mlflow = \"/chemin/vers/votre/modele/mlflow\"\n",
    "\n",
    "# Charger le modèle MLflow\n",
    "loaded_model = mlflow.sklearn.load_model(chemin_modele_mlflow)\n",
    "\n",
    "# Point de terminaison de l'API\n",
    "@app.post(\"/predict_probability\", response_model=ProbabilityOutput)\n",
    "async def predict_probability_api(input_data: ClientIDInput):\n",
    "    try:\n",
    "        # Utilisez le modèle chargé pour faire la prédiction\n",
    "        client_features = get_features_from_client_id(input_data.client_id)\n",
    "        probability = loaded_model.predict_proba(client_features.reshape(1, -1))[0, 1]\n",
    "\n",
    "        # Retournez la probabilité sous forme de réponse JSON\n",
    "        return {\"probability\": probability}\n",
    "\n",
    "    except Exception as e:\n",
    "        raise HTTPException(status_code=500, detail=str(e))\n",
    "\n",
    "# Fonction fictive pour obtenir les caractéristiques du client à partir de l'ID\n",
    "def get_features_from_client_id(client_id: int):\n",
    "    # Remplacez cela par la logique appropriée pour récupérer les caractéristiques du client\n",
    "    # à partir de l'ID du client\n",
    "    return [client_id, client_id + 1, client_id * 2]\n",
    "\n",
    "# Pour exécuter l'API avec uvicorn\n",
    "# Exécutez le script et accédez à http://127.0.0.1:8000/docs pour voir la documentation interactive\n",
    "# et http://127.0.0.1:8000/redoc pour voir la documentation alternative\n",
    "if __name__ == \"__main__\":\n",
    "    import uvicorn\n",
    "    uvicorn.run(app, host=\"127.0.0.1\", port=8000)\n"
   ]
  }
 ],
 "metadata": {
  "kernelspec": {
   "display_name": "Python 3 (ipykernel)",
   "language": "python",
   "name": "python3"
  },
  "language_info": {
   "codemirror_mode": {
    "name": "ipython",
    "version": 3
   },
   "file_extension": ".py",
   "mimetype": "text/x-python",
   "name": "python",
   "nbconvert_exporter": "python",
   "pygments_lexer": "ipython3",
   "version": "3.9.17"
  }
 },
 "nbformat": 4,
 "nbformat_minor": 5
}
