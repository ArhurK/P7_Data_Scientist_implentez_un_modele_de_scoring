{
  "cells": [
    {
      "cell_type": "markdown",
      "metadata": {
        "id": "view-in-github",
        "colab_type": "text"
      },
      "source": [
        "<a href=\"https://colab.research.google.com/github/ArhurK/P7_Data_Scientist_implentez_un_modele_de_scoring/blob/main/P7_Data_Scientist_Scoring.ipynb\" target=\"_parent\"><img src=\"https://colab.research.google.com/assets/colab-badge.svg\" alt=\"Open In Colab\"/></a>"
      ]
    },
    {
      "cell_type": "markdown",
      "metadata": {
        "id": "0gzafpX_86K0"
      },
      "source": [
        "# Connection à Kaggle et téléchargement du dossier zip"
      ]
    },
    {
      "cell_type": "markdown",
      "metadata": {
        "id": "EpA076m0xJdo"
      },
      "source": [
        "Construire un modèle de scoring qui donnera une prédiction sur la probabilité de faillite d'un client de façon automatique."
      ]
    },
    {
      "cell_type": "code",
      "execution_count": null,
      "metadata": {
        "id": "TBOprwky52By"
      },
      "outputs": [],
      "source": [
        "from google.colab import files\n",
        "files.upload()"
      ]
    },
    {
      "cell_type": "code",
      "execution_count": 2,
      "metadata": {
        "id": "9L7zP9AS6tM5"
      },
      "outputs": [],
      "source": [
        "!mkdir -p ~/.kaggle\n",
        "!mv kaggle.json ~/.kaggle/"
      ]
    },
    {
      "cell_type": "code",
      "execution_count": 3,
      "metadata": {
        "id": "punpox8c60IP"
      },
      "outputs": [],
      "source": [
        "!chmod 600 ~/.kaggle/kaggle.json\n"
      ]
    },
    {
      "cell_type": "code",
      "execution_count": 4,
      "metadata": {
        "colab": {
          "base_uri": "https://localhost:8080/"
        },
        "id": "wOEV13PL614x",
        "outputId": "a19433e8-bcf4-4e0f-a5c2-0a5b0357d213"
      },
      "outputs": [
        {
          "output_type": "stream",
          "name": "stdout",
          "text": [
            "Downloading home-credit-default-risk.zip to /content\n",
            "100% 688M/688M [00:25<00:00, 28.7MB/s]\n",
            "100% 688M/688M [00:25<00:00, 28.2MB/s]\n"
          ]
        }
      ],
      "source": [
        "!kaggle competitions download -c home-credit-default-risk"
      ]
    },
    {
      "cell_type": "markdown",
      "metadata": {
        "id": "Iu15pxwm8_9x"
      },
      "source": [
        "## Extraction du dossier zip"
      ]
    },
    {
      "cell_type": "code",
      "execution_count": 5,
      "metadata": {
        "colab": {
          "base_uri": "https://localhost:8080/"
        },
        "id": "7coU2Ysk92R8",
        "outputId": "fb204707-a65f-4c86-9c6f-77aab67b9e0e"
      },
      "outputs": [
        {
          "output_type": "stream",
          "name": "stdout",
          "text": [
            "/content\n"
          ]
        }
      ],
      "source": [
        "import os\n",
        "print(os.getcwd())"
      ]
    },
    {
      "cell_type": "code",
      "execution_count": 6,
      "metadata": {
        "id": "Dhx0fbl_8X0z"
      },
      "outputs": [],
      "source": [
        "import zipfile\n",
        "\n",
        "# Sélection du fichier zip\n",
        "zip_file_name = \"home-credit-default-risk.zip\"\n",
        "\n",
        "# On définit le working directory\n",
        "working_directory = \"/content\"\n",
        "\n",
        "\n",
        "# Dézipper le fichier\n",
        "with zipfile.ZipFile(zip_file_name, 'r') as zip_ref:\n",
        "    zip_ref.extractall(working_directory)  # Extrayez le contenu du fichier zip dans le working directory\n"
      ]
    },
    {
      "cell_type": "markdown",
      "metadata": {
        "id": "M5HU7Ubf-jBb"
      },
      "source": [
        "# Exploration"
      ]
    },
    {
      "cell_type": "code",
      "execution_count": null,
      "metadata": {
        "id": "GKvERPNk-hrR"
      },
      "outputs": [],
      "source": [
        "import pandas as pd\n",
        "import numpy as np\n",
        "import matplotlib.pyplot as plt\n",
        "import seaborn as sns"
      ]
    },
    {
      "cell_type": "code",
      "execution_count": null,
      "metadata": {
        "colab": {
          "base_uri": "https://localhost:8080/",
          "height": 206
        },
        "id": "Rf-wPy45-41q",
        "outputId": "b00bf1a7-5243-4d73-8dfa-7c2b7b7b05b5"
      },
      "outputs": [
        {
          "data": {
            "text/html": [
              "\n",
              "  <div id=\"df-b7bb9773-e5db-4306-a59f-cb3a50bc10a3\" class=\"colab-df-container\">\n",
              "    <div>\n",
              "<style scoped>\n",
              "    .dataframe tbody tr th:only-of-type {\n",
              "        vertical-align: middle;\n",
              "    }\n",
              "\n",
              "    .dataframe tbody tr th {\n",
              "        vertical-align: top;\n",
              "    }\n",
              "\n",
              "    .dataframe thead th {\n",
              "        text-align: right;\n",
              "    }\n",
              "</style>\n",
              "<table border=\"1\" class=\"dataframe\">\n",
              "  <thead>\n",
              "    <tr style=\"text-align: right;\">\n",
              "      <th></th>\n",
              "      <th>Unnamed: 0</th>\n",
              "      <th>Table</th>\n",
              "      <th>Row</th>\n",
              "      <th>Description</th>\n",
              "      <th>Special</th>\n",
              "    </tr>\n",
              "  </thead>\n",
              "  <tbody>\n",
              "    <tr>\n",
              "      <th>0</th>\n",
              "      <td>1</td>\n",
              "      <td>application_{train|test}.csv</td>\n",
              "      <td>SK_ID_CURR</td>\n",
              "      <td>ID of loan in our sample</td>\n",
              "      <td>NaN</td>\n",
              "    </tr>\n",
              "    <tr>\n",
              "      <th>1</th>\n",
              "      <td>2</td>\n",
              "      <td>application_{train|test}.csv</td>\n",
              "      <td>TARGET</td>\n",
              "      <td>Target variable (1 - client with payment diffi...</td>\n",
              "      <td>NaN</td>\n",
              "    </tr>\n",
              "    <tr>\n",
              "      <th>2</th>\n",
              "      <td>5</td>\n",
              "      <td>application_{train|test}.csv</td>\n",
              "      <td>NAME_CONTRACT_TYPE</td>\n",
              "      <td>Identification if loan is cash or revolving</td>\n",
              "      <td>NaN</td>\n",
              "    </tr>\n",
              "    <tr>\n",
              "      <th>3</th>\n",
              "      <td>6</td>\n",
              "      <td>application_{train|test}.csv</td>\n",
              "      <td>CODE_GENDER</td>\n",
              "      <td>Gender of the client</td>\n",
              "      <td>NaN</td>\n",
              "    </tr>\n",
              "    <tr>\n",
              "      <th>4</th>\n",
              "      <td>7</td>\n",
              "      <td>application_{train|test}.csv</td>\n",
              "      <td>FLAG_OWN_CAR</td>\n",
              "      <td>Flag if the client owns a car</td>\n",
              "      <td>NaN</td>\n",
              "    </tr>\n",
              "  </tbody>\n",
              "</table>\n",
              "</div>\n",
              "    <div class=\"colab-df-buttons\">\n",
              "\n",
              "  <div class=\"colab-df-container\">\n",
              "    <button class=\"colab-df-convert\" onclick=\"convertToInteractive('df-b7bb9773-e5db-4306-a59f-cb3a50bc10a3')\"\n",
              "            title=\"Convert this dataframe to an interactive table.\"\n",
              "            style=\"display:none;\">\n",
              "\n",
              "  <svg xmlns=\"http://www.w3.org/2000/svg\" height=\"24px\" viewBox=\"0 -960 960 960\">\n",
              "    <path d=\"M120-120v-720h720v720H120Zm60-500h600v-160H180v160Zm220 220h160v-160H400v160Zm0 220h160v-160H400v160ZM180-400h160v-160H180v160Zm440 0h160v-160H620v160ZM180-180h160v-160H180v160Zm440 0h160v-160H620v160Z\"/>\n",
              "  </svg>\n",
              "    </button>\n",
              "\n",
              "  <style>\n",
              "    .colab-df-container {\n",
              "      display:flex;\n",
              "      gap: 12px;\n",
              "    }\n",
              "\n",
              "    .colab-df-convert {\n",
              "      background-color: #E8F0FE;\n",
              "      border: none;\n",
              "      border-radius: 50%;\n",
              "      cursor: pointer;\n",
              "      display: none;\n",
              "      fill: #1967D2;\n",
              "      height: 32px;\n",
              "      padding: 0 0 0 0;\n",
              "      width: 32px;\n",
              "    }\n",
              "\n",
              "    .colab-df-convert:hover {\n",
              "      background-color: #E2EBFA;\n",
              "      box-shadow: 0px 1px 2px rgba(60, 64, 67, 0.3), 0px 1px 3px 1px rgba(60, 64, 67, 0.15);\n",
              "      fill: #174EA6;\n",
              "    }\n",
              "\n",
              "    .colab-df-buttons div {\n",
              "      margin-bottom: 4px;\n",
              "    }\n",
              "\n",
              "    [theme=dark] .colab-df-convert {\n",
              "      background-color: #3B4455;\n",
              "      fill: #D2E3FC;\n",
              "    }\n",
              "\n",
              "    [theme=dark] .colab-df-convert:hover {\n",
              "      background-color: #434B5C;\n",
              "      box-shadow: 0px 1px 3px 1px rgba(0, 0, 0, 0.15);\n",
              "      filter: drop-shadow(0px 1px 2px rgba(0, 0, 0, 0.3));\n",
              "      fill: #FFFFFF;\n",
              "    }\n",
              "  </style>\n",
              "\n",
              "    <script>\n",
              "      const buttonEl =\n",
              "        document.querySelector('#df-b7bb9773-e5db-4306-a59f-cb3a50bc10a3 button.colab-df-convert');\n",
              "      buttonEl.style.display =\n",
              "        google.colab.kernel.accessAllowed ? 'block' : 'none';\n",
              "\n",
              "      async function convertToInteractive(key) {\n",
              "        const element = document.querySelector('#df-b7bb9773-e5db-4306-a59f-cb3a50bc10a3');\n",
              "        const dataTable =\n",
              "          await google.colab.kernel.invokeFunction('convertToInteractive',\n",
              "                                                    [key], {});\n",
              "        if (!dataTable) return;\n",
              "\n",
              "        const docLinkHtml = 'Like what you see? Visit the ' +\n",
              "          '<a target=\"_blank\" href=https://colab.research.google.com/notebooks/data_table.ipynb>data table notebook</a>'\n",
              "          + ' to learn more about interactive tables.';\n",
              "        element.innerHTML = '';\n",
              "        dataTable['output_type'] = 'display_data';\n",
              "        await google.colab.output.renderOutput(dataTable, element);\n",
              "        const docLink = document.createElement('div');\n",
              "        docLink.innerHTML = docLinkHtml;\n",
              "        element.appendChild(docLink);\n",
              "      }\n",
              "    </script>\n",
              "  </div>\n",
              "\n",
              "\n",
              "<div id=\"df-02a132f3-007f-48e9-89d3-32b573a0c054\">\n",
              "  <button class=\"colab-df-quickchart\" onclick=\"quickchart('df-02a132f3-007f-48e9-89d3-32b573a0c054')\"\n",
              "            title=\"Suggest charts.\"\n",
              "            style=\"display:none;\">\n",
              "\n",
              "<svg xmlns=\"http://www.w3.org/2000/svg\" height=\"24px\"viewBox=\"0 0 24 24\"\n",
              "     width=\"24px\">\n",
              "    <g>\n",
              "        <path d=\"M19 3H5c-1.1 0-2 .9-2 2v14c0 1.1.9 2 2 2h14c1.1 0 2-.9 2-2V5c0-1.1-.9-2-2-2zM9 17H7v-7h2v7zm4 0h-2V7h2v10zm4 0h-2v-4h2v4z\"/>\n",
              "    </g>\n",
              "</svg>\n",
              "  </button>\n",
              "\n",
              "<style>\n",
              "  .colab-df-quickchart {\n",
              "      --bg-color: #E8F0FE;\n",
              "      --fill-color: #1967D2;\n",
              "      --hover-bg-color: #E2EBFA;\n",
              "      --hover-fill-color: #174EA6;\n",
              "      --disabled-fill-color: #AAA;\n",
              "      --disabled-bg-color: #DDD;\n",
              "  }\n",
              "\n",
              "  [theme=dark] .colab-df-quickchart {\n",
              "      --bg-color: #3B4455;\n",
              "      --fill-color: #D2E3FC;\n",
              "      --hover-bg-color: #434B5C;\n",
              "      --hover-fill-color: #FFFFFF;\n",
              "      --disabled-bg-color: #3B4455;\n",
              "      --disabled-fill-color: #666;\n",
              "  }\n",
              "\n",
              "  .colab-df-quickchart {\n",
              "    background-color: var(--bg-color);\n",
              "    border: none;\n",
              "    border-radius: 50%;\n",
              "    cursor: pointer;\n",
              "    display: none;\n",
              "    fill: var(--fill-color);\n",
              "    height: 32px;\n",
              "    padding: 0;\n",
              "    width: 32px;\n",
              "  }\n",
              "\n",
              "  .colab-df-quickchart:hover {\n",
              "    background-color: var(--hover-bg-color);\n",
              "    box-shadow: 0 1px 2px rgba(60, 64, 67, 0.3), 0 1px 3px 1px rgba(60, 64, 67, 0.15);\n",
              "    fill: var(--button-hover-fill-color);\n",
              "  }\n",
              "\n",
              "  .colab-df-quickchart-complete:disabled,\n",
              "  .colab-df-quickchart-complete:disabled:hover {\n",
              "    background-color: var(--disabled-bg-color);\n",
              "    fill: var(--disabled-fill-color);\n",
              "    box-shadow: none;\n",
              "  }\n",
              "\n",
              "  .colab-df-spinner {\n",
              "    border: 2px solid var(--fill-color);\n",
              "    border-color: transparent;\n",
              "    border-bottom-color: var(--fill-color);\n",
              "    animation:\n",
              "      spin 1s steps(1) infinite;\n",
              "  }\n",
              "\n",
              "  @keyframes spin {\n",
              "    0% {\n",
              "      border-color: transparent;\n",
              "      border-bottom-color: var(--fill-color);\n",
              "      border-left-color: var(--fill-color);\n",
              "    }\n",
              "    20% {\n",
              "      border-color: transparent;\n",
              "      border-left-color: var(--fill-color);\n",
              "      border-top-color: var(--fill-color);\n",
              "    }\n",
              "    30% {\n",
              "      border-color: transparent;\n",
              "      border-left-color: var(--fill-color);\n",
              "      border-top-color: var(--fill-color);\n",
              "      border-right-color: var(--fill-color);\n",
              "    }\n",
              "    40% {\n",
              "      border-color: transparent;\n",
              "      border-right-color: var(--fill-color);\n",
              "      border-top-color: var(--fill-color);\n",
              "    }\n",
              "    60% {\n",
              "      border-color: transparent;\n",
              "      border-right-color: var(--fill-color);\n",
              "    }\n",
              "    80% {\n",
              "      border-color: transparent;\n",
              "      border-right-color: var(--fill-color);\n",
              "      border-bottom-color: var(--fill-color);\n",
              "    }\n",
              "    90% {\n",
              "      border-color: transparent;\n",
              "      border-bottom-color: var(--fill-color);\n",
              "    }\n",
              "  }\n",
              "</style>\n",
              "\n",
              "  <script>\n",
              "    async function quickchart(key) {\n",
              "      const quickchartButtonEl =\n",
              "        document.querySelector('#' + key + ' button');\n",
              "      quickchartButtonEl.disabled = true;  // To prevent multiple clicks.\n",
              "      quickchartButtonEl.classList.add('colab-df-spinner');\n",
              "      try {\n",
              "        const charts = await google.colab.kernel.invokeFunction(\n",
              "            'suggestCharts', [key], {});\n",
              "      } catch (error) {\n",
              "        console.error('Error during call to suggestCharts:', error);\n",
              "      }\n",
              "      quickchartButtonEl.classList.remove('colab-df-spinner');\n",
              "      quickchartButtonEl.classList.add('colab-df-quickchart-complete');\n",
              "    }\n",
              "    (() => {\n",
              "      let quickchartButtonEl =\n",
              "        document.querySelector('#df-02a132f3-007f-48e9-89d3-32b573a0c054 button');\n",
              "      quickchartButtonEl.style.display =\n",
              "        google.colab.kernel.accessAllowed ? 'block' : 'none';\n",
              "    })();\n",
              "  </script>\n",
              "</div>\n",
              "    </div>\n",
              "  </div>\n"
            ],
            "text/plain": [
              "   Unnamed: 0                         Table                 Row  \\\n",
              "0           1  application_{train|test}.csv          SK_ID_CURR   \n",
              "1           2  application_{train|test}.csv              TARGET   \n",
              "2           5  application_{train|test}.csv  NAME_CONTRACT_TYPE   \n",
              "3           6  application_{train|test}.csv         CODE_GENDER   \n",
              "4           7  application_{train|test}.csv        FLAG_OWN_CAR   \n",
              "\n",
              "                                         Description Special  \n",
              "0                           ID of loan in our sample     NaN  \n",
              "1  Target variable (1 - client with payment diffi...     NaN  \n",
              "2        Identification if loan is cash or revolving     NaN  \n",
              "3                               Gender of the client     NaN  \n",
              "4                      Flag if the client owns a car     NaN  "
            ]
          },
          "execution_count": 28,
          "metadata": {},
          "output_type": "execute_result"
        }
      ],
      "source": [
        "df_col_desc = pd.read_csv('HomeCredit_columns_description.csv', sep=\",\", encoding='latin1')\n",
        "df_col_desc.head()"
      ]
    },
    {
      "cell_type": "code",
      "execution_count": null,
      "metadata": {
        "colab": {
          "base_uri": "https://localhost:8080/",
          "height": 423
        },
        "id": "xW_O8_5RLZO3",
        "outputId": "e22250c2-f9d5-474e-b3e6-bd27c42b3af4"
      },
      "outputs": [
        {
          "data": {
            "text/html": [
              "\n",
              "  <div id=\"df-364b5475-9851-4315-b90c-8938912b25f1\" class=\"colab-df-container\">\n",
              "    <div>\n",
              "<style scoped>\n",
              "    .dataframe tbody tr th:only-of-type {\n",
              "        vertical-align: middle;\n",
              "    }\n",
              "\n",
              "    .dataframe tbody tr th {\n",
              "        vertical-align: top;\n",
              "    }\n",
              "\n",
              "    .dataframe thead th {\n",
              "        text-align: right;\n",
              "    }\n",
              "</style>\n",
              "<table border=\"1\" class=\"dataframe\">\n",
              "  <thead>\n",
              "    <tr style=\"text-align: right;\">\n",
              "      <th></th>\n",
              "      <th>Table</th>\n",
              "      <th>Row</th>\n",
              "      <th>Description</th>\n",
              "    </tr>\n",
              "  </thead>\n",
              "  <tbody>\n",
              "    <tr>\n",
              "      <th>0</th>\n",
              "      <td>application_{train|test}.csv</td>\n",
              "      <td>SK_ID_CURR</td>\n",
              "      <td>ID of loan in our sample</td>\n",
              "    </tr>\n",
              "    <tr>\n",
              "      <th>1</th>\n",
              "      <td>application_{train|test}.csv</td>\n",
              "      <td>TARGET</td>\n",
              "      <td>Target variable (1 - client with payment diffi...</td>\n",
              "    </tr>\n",
              "    <tr>\n",
              "      <th>2</th>\n",
              "      <td>application_{train|test}.csv</td>\n",
              "      <td>NAME_CONTRACT_TYPE</td>\n",
              "      <td>Identification if loan is cash or revolving</td>\n",
              "    </tr>\n",
              "    <tr>\n",
              "      <th>3</th>\n",
              "      <td>application_{train|test}.csv</td>\n",
              "      <td>CODE_GENDER</td>\n",
              "      <td>Gender of the client</td>\n",
              "    </tr>\n",
              "    <tr>\n",
              "      <th>4</th>\n",
              "      <td>application_{train|test}.csv</td>\n",
              "      <td>FLAG_OWN_CAR</td>\n",
              "      <td>Flag if the client owns a car</td>\n",
              "    </tr>\n",
              "    <tr>\n",
              "      <th>...</th>\n",
              "      <td>...</td>\n",
              "      <td>...</td>\n",
              "      <td>...</td>\n",
              "    </tr>\n",
              "    <tr>\n",
              "      <th>214</th>\n",
              "      <td>installments_payments.csv</td>\n",
              "      <td>NUM_INSTALMENT_NUMBER</td>\n",
              "      <td>On which installment we observe payment</td>\n",
              "    </tr>\n",
              "    <tr>\n",
              "      <th>215</th>\n",
              "      <td>installments_payments.csv</td>\n",
              "      <td>DAYS_INSTALMENT</td>\n",
              "      <td>When the installment of previous credit was su...</td>\n",
              "    </tr>\n",
              "    <tr>\n",
              "      <th>216</th>\n",
              "      <td>installments_payments.csv</td>\n",
              "      <td>DAYS_ENTRY_PAYMENT</td>\n",
              "      <td>When was the installments of previous credit p...</td>\n",
              "    </tr>\n",
              "    <tr>\n",
              "      <th>217</th>\n",
              "      <td>installments_payments.csv</td>\n",
              "      <td>AMT_INSTALMENT</td>\n",
              "      <td>What was the prescribed installment amount of ...</td>\n",
              "    </tr>\n",
              "    <tr>\n",
              "      <th>218</th>\n",
              "      <td>installments_payments.csv</td>\n",
              "      <td>AMT_PAYMENT</td>\n",
              "      <td>What the client actually paid on previous cred...</td>\n",
              "    </tr>\n",
              "  </tbody>\n",
              "</table>\n",
              "<p>219 rows × 3 columns</p>\n",
              "</div>\n",
              "    <div class=\"colab-df-buttons\">\n",
              "\n",
              "  <div class=\"colab-df-container\">\n",
              "    <button class=\"colab-df-convert\" onclick=\"convertToInteractive('df-364b5475-9851-4315-b90c-8938912b25f1')\"\n",
              "            title=\"Convert this dataframe to an interactive table.\"\n",
              "            style=\"display:none;\">\n",
              "\n",
              "  <svg xmlns=\"http://www.w3.org/2000/svg\" height=\"24px\" viewBox=\"0 -960 960 960\">\n",
              "    <path d=\"M120-120v-720h720v720H120Zm60-500h600v-160H180v160Zm220 220h160v-160H400v160Zm0 220h160v-160H400v160ZM180-400h160v-160H180v160Zm440 0h160v-160H620v160ZM180-180h160v-160H180v160Zm440 0h160v-160H620v160Z\"/>\n",
              "  </svg>\n",
              "    </button>\n",
              "\n",
              "  <style>\n",
              "    .colab-df-container {\n",
              "      display:flex;\n",
              "      gap: 12px;\n",
              "    }\n",
              "\n",
              "    .colab-df-convert {\n",
              "      background-color: #E8F0FE;\n",
              "      border: none;\n",
              "      border-radius: 50%;\n",
              "      cursor: pointer;\n",
              "      display: none;\n",
              "      fill: #1967D2;\n",
              "      height: 32px;\n",
              "      padding: 0 0 0 0;\n",
              "      width: 32px;\n",
              "    }\n",
              "\n",
              "    .colab-df-convert:hover {\n",
              "      background-color: #E2EBFA;\n",
              "      box-shadow: 0px 1px 2px rgba(60, 64, 67, 0.3), 0px 1px 3px 1px rgba(60, 64, 67, 0.15);\n",
              "      fill: #174EA6;\n",
              "    }\n",
              "\n",
              "    .colab-df-buttons div {\n",
              "      margin-bottom: 4px;\n",
              "    }\n",
              "\n",
              "    [theme=dark] .colab-df-convert {\n",
              "      background-color: #3B4455;\n",
              "      fill: #D2E3FC;\n",
              "    }\n",
              "\n",
              "    [theme=dark] .colab-df-convert:hover {\n",
              "      background-color: #434B5C;\n",
              "      box-shadow: 0px 1px 3px 1px rgba(0, 0, 0, 0.15);\n",
              "      filter: drop-shadow(0px 1px 2px rgba(0, 0, 0, 0.3));\n",
              "      fill: #FFFFFF;\n",
              "    }\n",
              "  </style>\n",
              "\n",
              "    <script>\n",
              "      const buttonEl =\n",
              "        document.querySelector('#df-364b5475-9851-4315-b90c-8938912b25f1 button.colab-df-convert');\n",
              "      buttonEl.style.display =\n",
              "        google.colab.kernel.accessAllowed ? 'block' : 'none';\n",
              "\n",
              "      async function convertToInteractive(key) {\n",
              "        const element = document.querySelector('#df-364b5475-9851-4315-b90c-8938912b25f1');\n",
              "        const dataTable =\n",
              "          await google.colab.kernel.invokeFunction('convertToInteractive',\n",
              "                                                    [key], {});\n",
              "        if (!dataTable) return;\n",
              "\n",
              "        const docLinkHtml = 'Like what you see? Visit the ' +\n",
              "          '<a target=\"_blank\" href=https://colab.research.google.com/notebooks/data_table.ipynb>data table notebook</a>'\n",
              "          + ' to learn more about interactive tables.';\n",
              "        element.innerHTML = '';\n",
              "        dataTable['output_type'] = 'display_data';\n",
              "        await google.colab.output.renderOutput(dataTable, element);\n",
              "        const docLink = document.createElement('div');\n",
              "        docLink.innerHTML = docLinkHtml;\n",
              "        element.appendChild(docLink);\n",
              "      }\n",
              "    </script>\n",
              "  </div>\n",
              "\n",
              "\n",
              "<div id=\"df-708c63db-e248-42b4-bb42-44148308d117\">\n",
              "  <button class=\"colab-df-quickchart\" onclick=\"quickchart('df-708c63db-e248-42b4-bb42-44148308d117')\"\n",
              "            title=\"Suggest charts.\"\n",
              "            style=\"display:none;\">\n",
              "\n",
              "<svg xmlns=\"http://www.w3.org/2000/svg\" height=\"24px\"viewBox=\"0 0 24 24\"\n",
              "     width=\"24px\">\n",
              "    <g>\n",
              "        <path d=\"M19 3H5c-1.1 0-2 .9-2 2v14c0 1.1.9 2 2 2h14c1.1 0 2-.9 2-2V5c0-1.1-.9-2-2-2zM9 17H7v-7h2v7zm4 0h-2V7h2v10zm4 0h-2v-4h2v4z\"/>\n",
              "    </g>\n",
              "</svg>\n",
              "  </button>\n",
              "\n",
              "<style>\n",
              "  .colab-df-quickchart {\n",
              "      --bg-color: #E8F0FE;\n",
              "      --fill-color: #1967D2;\n",
              "      --hover-bg-color: #E2EBFA;\n",
              "      --hover-fill-color: #174EA6;\n",
              "      --disabled-fill-color: #AAA;\n",
              "      --disabled-bg-color: #DDD;\n",
              "  }\n",
              "\n",
              "  [theme=dark] .colab-df-quickchart {\n",
              "      --bg-color: #3B4455;\n",
              "      --fill-color: #D2E3FC;\n",
              "      --hover-bg-color: #434B5C;\n",
              "      --hover-fill-color: #FFFFFF;\n",
              "      --disabled-bg-color: #3B4455;\n",
              "      --disabled-fill-color: #666;\n",
              "  }\n",
              "\n",
              "  .colab-df-quickchart {\n",
              "    background-color: var(--bg-color);\n",
              "    border: none;\n",
              "    border-radius: 50%;\n",
              "    cursor: pointer;\n",
              "    display: none;\n",
              "    fill: var(--fill-color);\n",
              "    height: 32px;\n",
              "    padding: 0;\n",
              "    width: 32px;\n",
              "  }\n",
              "\n",
              "  .colab-df-quickchart:hover {\n",
              "    background-color: var(--hover-bg-color);\n",
              "    box-shadow: 0 1px 2px rgba(60, 64, 67, 0.3), 0 1px 3px 1px rgba(60, 64, 67, 0.15);\n",
              "    fill: var(--button-hover-fill-color);\n",
              "  }\n",
              "\n",
              "  .colab-df-quickchart-complete:disabled,\n",
              "  .colab-df-quickchart-complete:disabled:hover {\n",
              "    background-color: var(--disabled-bg-color);\n",
              "    fill: var(--disabled-fill-color);\n",
              "    box-shadow: none;\n",
              "  }\n",
              "\n",
              "  .colab-df-spinner {\n",
              "    border: 2px solid var(--fill-color);\n",
              "    border-color: transparent;\n",
              "    border-bottom-color: var(--fill-color);\n",
              "    animation:\n",
              "      spin 1s steps(1) infinite;\n",
              "  }\n",
              "\n",
              "  @keyframes spin {\n",
              "    0% {\n",
              "      border-color: transparent;\n",
              "      border-bottom-color: var(--fill-color);\n",
              "      border-left-color: var(--fill-color);\n",
              "    }\n",
              "    20% {\n",
              "      border-color: transparent;\n",
              "      border-left-color: var(--fill-color);\n",
              "      border-top-color: var(--fill-color);\n",
              "    }\n",
              "    30% {\n",
              "      border-color: transparent;\n",
              "      border-left-color: var(--fill-color);\n",
              "      border-top-color: var(--fill-color);\n",
              "      border-right-color: var(--fill-color);\n",
              "    }\n",
              "    40% {\n",
              "      border-color: transparent;\n",
              "      border-right-color: var(--fill-color);\n",
              "      border-top-color: var(--fill-color);\n",
              "    }\n",
              "    60% {\n",
              "      border-color: transparent;\n",
              "      border-right-color: var(--fill-color);\n",
              "    }\n",
              "    80% {\n",
              "      border-color: transparent;\n",
              "      border-right-color: var(--fill-color);\n",
              "      border-bottom-color: var(--fill-color);\n",
              "    }\n",
              "    90% {\n",
              "      border-color: transparent;\n",
              "      border-bottom-color: var(--fill-color);\n",
              "    }\n",
              "  }\n",
              "</style>\n",
              "\n",
              "  <script>\n",
              "    async function quickchart(key) {\n",
              "      const quickchartButtonEl =\n",
              "        document.querySelector('#' + key + ' button');\n",
              "      quickchartButtonEl.disabled = true;  // To prevent multiple clicks.\n",
              "      quickchartButtonEl.classList.add('colab-df-spinner');\n",
              "      try {\n",
              "        const charts = await google.colab.kernel.invokeFunction(\n",
              "            'suggestCharts', [key], {});\n",
              "      } catch (error) {\n",
              "        console.error('Error during call to suggestCharts:', error);\n",
              "      }\n",
              "      quickchartButtonEl.classList.remove('colab-df-spinner');\n",
              "      quickchartButtonEl.classList.add('colab-df-quickchart-complete');\n",
              "    }\n",
              "    (() => {\n",
              "      let quickchartButtonEl =\n",
              "        document.querySelector('#df-708c63db-e248-42b4-bb42-44148308d117 button');\n",
              "      quickchartButtonEl.style.display =\n",
              "        google.colab.kernel.accessAllowed ? 'block' : 'none';\n",
              "    })();\n",
              "  </script>\n",
              "</div>\n",
              "    </div>\n",
              "  </div>\n"
            ],
            "text/plain": [
              "                            Table                    Row  \\\n",
              "0    application_{train|test}.csv             SK_ID_CURR   \n",
              "1    application_{train|test}.csv                 TARGET   \n",
              "2    application_{train|test}.csv     NAME_CONTRACT_TYPE   \n",
              "3    application_{train|test}.csv            CODE_GENDER   \n",
              "4    application_{train|test}.csv           FLAG_OWN_CAR   \n",
              "..                            ...                    ...   \n",
              "214     installments_payments.csv  NUM_INSTALMENT_NUMBER   \n",
              "215     installments_payments.csv        DAYS_INSTALMENT   \n",
              "216     installments_payments.csv     DAYS_ENTRY_PAYMENT   \n",
              "217     installments_payments.csv         AMT_INSTALMENT   \n",
              "218     installments_payments.csv            AMT_PAYMENT   \n",
              "\n",
              "                                           Description  \n",
              "0                             ID of loan in our sample  \n",
              "1    Target variable (1 - client with payment diffi...  \n",
              "2          Identification if loan is cash or revolving  \n",
              "3                                 Gender of the client  \n",
              "4                        Flag if the client owns a car  \n",
              "..                                                 ...  \n",
              "214            On which installment we observe payment  \n",
              "215  When the installment of previous credit was su...  \n",
              "216  When was the installments of previous credit p...  \n",
              "217  What was the prescribed installment amount of ...  \n",
              "218  What the client actually paid on previous cred...  \n",
              "\n",
              "[219 rows x 3 columns]"
            ]
          },
          "execution_count": 29,
          "metadata": {},
          "output_type": "execute_result"
        }
      ],
      "source": [
        "df_col_desc[['Table','Row','Description']]"
      ]
    },
    {
      "cell_type": "code",
      "execution_count": null,
      "metadata": {
        "id": "GvrYg0vPOr9e"
      },
      "outputs": [],
      "source": [
        "df_ap = pd.read_csv('application_train.csv')"
      ]
    },
    {
      "cell_type": "code",
      "execution_count": null,
      "metadata": {
        "colab": {
          "base_uri": "https://localhost:8080/"
        },
        "id": "6RDEyYnDvili",
        "outputId": "662c0ef9-c42f-4aa7-9e85-0e992fdeb097"
      },
      "outputs": [
        {
          "data": {
            "text/plain": [
              "(307511, 122)"
            ]
          },
          "execution_count": 31,
          "metadata": {},
          "output_type": "execute_result"
        }
      ],
      "source": [
        "df_ap.shape"
      ]
    },
    {
      "cell_type": "code",
      "execution_count": null,
      "metadata": {
        "colab": {
          "base_uri": "https://localhost:8080/"
        },
        "id": "ANYwDMbfwYoe",
        "outputId": "5ea64faf-0e52-4657-de31-de58907abae6"
      },
      "outputs": [
        {
          "data": {
            "text/plain": [
              "Laborers                 55186\n",
              "Sales staff              32102\n",
              "Core staff               27570\n",
              "Managers                 21371\n",
              "Drivers                  18603\n",
              "High skill tech staff    11380\n",
              "Accountants               9813\n",
              "Medicine staff            8537\n",
              "Security staff            6721\n",
              "Cooking staff             5946\n",
              "Cleaning staff            4653\n",
              "Private service staff     2652\n",
              "Low-skill Laborers        2093\n",
              "Waiters/barmen staff      1348\n",
              "Secretaries               1305\n",
              "Realty agents              751\n",
              "HR staff                   563\n",
              "IT staff                   526\n",
              "Name: OCCUPATION_TYPE, dtype: int64"
            ]
          },
          "execution_count": 32,
          "metadata": {},
          "output_type": "execute_result"
        }
      ],
      "source": [
        "df_ap['OCCUPATION_TYPE'].value_counts()\n",
        "# Quand NAn == Unknown ? Peut-être une info pertinante ? pk ne pas communiquer son métier ?"
      ]
    },
    {
      "cell_type": "code",
      "execution_count": null,
      "metadata": {
        "colab": {
          "base_uri": "https://localhost:8080/"
        },
        "id": "Ss6_mPkbz0Bg",
        "outputId": "a543b4e9-a0fc-4f16-e443-c841334a0066"
      },
      "outputs": [
        {
          "data": {
            "text/plain": [
              "0.285898    721\n",
              "0.262258    417\n",
              "0.265256    343\n",
              "0.159679    322\n",
              "0.265312    306\n",
              "           ... \n",
              "0.004725      1\n",
              "0.257313      1\n",
              "0.282030      1\n",
              "0.181540      1\n",
              "0.267834      1\n",
              "Name: EXT_SOURCE_2, Length: 119831, dtype: int64"
            ]
          },
          "execution_count": 33,
          "metadata": {},
          "output_type": "execute_result"
        }
      ],
      "source": [
        "df_ap['EXT_SOURCE_2'].value_counts() # Data Leakage ?"
      ]
    },
    {
      "cell_type": "code",
      "execution_count": null,
      "metadata": {
        "colab": {
          "base_uri": "https://localhost:8080/"
        },
        "id": "qRtC1L9PO42H",
        "outputId": "843507b3-a725-4a29-b381-1554bd60c109"
      },
      "outputs": [
        {
          "data": {
            "text/plain": [
              "COMMONAREA_MEDI                 0.698723\n",
              "COMMONAREA_AVG                  0.698723\n",
              "COMMONAREA_MODE                 0.698723\n",
              "NONLIVINGAPARTMENTS_MODE        0.694330\n",
              "NONLIVINGAPARTMENTS_AVG         0.694330\n",
              "NONLIVINGAPARTMENTS_MEDI        0.694330\n",
              "FONDKAPREMONT_MODE              0.683862\n",
              "LIVINGAPARTMENTS_MODE           0.683550\n",
              "LIVINGAPARTMENTS_AVG            0.683550\n",
              "LIVINGAPARTMENTS_MEDI           0.683550\n",
              "FLOORSMIN_AVG                   0.678486\n",
              "FLOORSMIN_MODE                  0.678486\n",
              "FLOORSMIN_MEDI                  0.678486\n",
              "YEARS_BUILD_MEDI                0.664978\n",
              "YEARS_BUILD_MODE                0.664978\n",
              "YEARS_BUILD_AVG                 0.664978\n",
              "OWN_CAR_AGE                     0.659908\n",
              "LANDAREA_MEDI                   0.593767\n",
              "LANDAREA_MODE                   0.593767\n",
              "LANDAREA_AVG                    0.593767\n",
              "BASEMENTAREA_MEDI               0.585160\n",
              "BASEMENTAREA_AVG                0.585160\n",
              "BASEMENTAREA_MODE               0.585160\n",
              "EXT_SOURCE_1                    0.563811\n",
              "NONLIVINGAREA_MODE              0.551792\n",
              "NONLIVINGAREA_AVG               0.551792\n",
              "NONLIVINGAREA_MEDI              0.551792\n",
              "ELEVATORS_MEDI                  0.532960\n",
              "ELEVATORS_AVG                   0.532960\n",
              "ELEVATORS_MODE                  0.532960\n",
              "WALLSMATERIAL_MODE              0.508408\n",
              "APARTMENTS_MEDI                 0.507497\n",
              "APARTMENTS_AVG                  0.507497\n",
              "APARTMENTS_MODE                 0.507497\n",
              "ENTRANCES_MEDI                  0.503488\n",
              "ENTRANCES_AVG                   0.503488\n",
              "ENTRANCES_MODE                  0.503488\n",
              "LIVINGAREA_AVG                  0.501933\n",
              "LIVINGAREA_MODE                 0.501933\n",
              "LIVINGAREA_MEDI                 0.501933\n",
              "HOUSETYPE_MODE                  0.501761\n",
              "FLOORSMAX_MODE                  0.497608\n",
              "FLOORSMAX_MEDI                  0.497608\n",
              "FLOORSMAX_AVG                   0.497608\n",
              "YEARS_BEGINEXPLUATATION_MODE    0.487810\n",
              "YEARS_BEGINEXPLUATATION_MEDI    0.487810\n",
              "YEARS_BEGINEXPLUATATION_AVG     0.487810\n",
              "TOTALAREA_MODE                  0.482685\n",
              "EMERGENCYSTATE_MODE             0.473983\n",
              "OCCUPATION_TYPE                 0.313455\n",
              "dtype: float64"
            ]
          },
          "execution_count": 34,
          "metadata": {},
          "output_type": "execute_result"
        }
      ],
      "source": [
        "df_ap.isna().mean().sort_values(ascending=False).head(50)#[49:70]\n"
      ]
    },
    {
      "cell_type": "code",
      "execution_count": null,
      "metadata": {
        "colab": {
          "base_uri": "https://localhost:8080/"
        },
        "id": "ENhKe57r0to7",
        "outputId": "00925965-042c-4fbf-c0be-a7bfd93e3419"
      },
      "outputs": [
        {
          "name": "stdout",
          "output_type": "stream",
          "text": [
            "Nombre de colonnes > 45 % de valeurs manquantes : \n",
            "49\n"
          ]
        }
      ],
      "source": [
        "print('Nombre de colonnes > 45 % de valeurs manquantes : ')\n",
        "print(df_ap[df_ap.columns[df_ap.isna().mean() > 0.45]].shape[1])"
      ]
    },
    {
      "cell_type": "code",
      "execution_count": null,
      "metadata": {
        "colab": {
          "base_uri": "https://localhost:8080/",
          "height": 1000
        },
        "id": "rMwnTUL01ynR",
        "outputId": "ea50023d-60b0-4917-b95f-b8e287de3ecd"
      },
      "outputs": [
        {
          "data": {
            "text/html": [
              "\n",
              "  <div id=\"df-9c66b146-abdc-427e-be84-5fc28f0ff504\" class=\"colab-df-container\">\n",
              "    <div>\n",
              "<style scoped>\n",
              "    .dataframe tbody tr th:only-of-type {\n",
              "        vertical-align: middle;\n",
              "    }\n",
              "\n",
              "    .dataframe tbody tr th {\n",
              "        vertical-align: top;\n",
              "    }\n",
              "\n",
              "    .dataframe thead th {\n",
              "        text-align: right;\n",
              "    }\n",
              "</style>\n",
              "<table border=\"1\" class=\"dataframe\">\n",
              "  <thead>\n",
              "    <tr style=\"text-align: right;\">\n",
              "      <th></th>\n",
              "      <th>Row</th>\n",
              "      <th>Description</th>\n",
              "    </tr>\n",
              "  </thead>\n",
              "  <tbody>\n",
              "    <tr>\n",
              "      <th>21</th>\n",
              "      <td>OWN_CAR_AGE</td>\n",
              "      <td>Age of client's car</td>\n",
              "    </tr>\n",
              "    <tr>\n",
              "      <th>41</th>\n",
              "      <td>EXT_SOURCE_1</td>\n",
              "      <td>Normalized score from external data source</td>\n",
              "    </tr>\n",
              "    <tr>\n",
              "      <th>44</th>\n",
              "      <td>APARTMENTS_AVG</td>\n",
              "      <td>Normalized information about building where th...</td>\n",
              "    </tr>\n",
              "    <tr>\n",
              "      <th>45</th>\n",
              "      <td>BASEMENTAREA_AVG</td>\n",
              "      <td>Normalized information about building where th...</td>\n",
              "    </tr>\n",
              "    <tr>\n",
              "      <th>46</th>\n",
              "      <td>YEARS_BEGINEXPLUATATION_AVG</td>\n",
              "      <td>Normalized information about building where th...</td>\n",
              "    </tr>\n",
              "    <tr>\n",
              "      <th>47</th>\n",
              "      <td>YEARS_BUILD_AVG</td>\n",
              "      <td>Normalized information about building where th...</td>\n",
              "    </tr>\n",
              "    <tr>\n",
              "      <th>48</th>\n",
              "      <td>COMMONAREA_AVG</td>\n",
              "      <td>Normalized information about building where th...</td>\n",
              "    </tr>\n",
              "    <tr>\n",
              "      <th>49</th>\n",
              "      <td>ELEVATORS_AVG</td>\n",
              "      <td>Normalized information about building where th...</td>\n",
              "    </tr>\n",
              "    <tr>\n",
              "      <th>50</th>\n",
              "      <td>ENTRANCES_AVG</td>\n",
              "      <td>Normalized information about building where th...</td>\n",
              "    </tr>\n",
              "    <tr>\n",
              "      <th>51</th>\n",
              "      <td>FLOORSMAX_AVG</td>\n",
              "      <td>Normalized information about building where th...</td>\n",
              "    </tr>\n",
              "    <tr>\n",
              "      <th>52</th>\n",
              "      <td>FLOORSMIN_AVG</td>\n",
              "      <td>Normalized information about building where th...</td>\n",
              "    </tr>\n",
              "    <tr>\n",
              "      <th>53</th>\n",
              "      <td>LANDAREA_AVG</td>\n",
              "      <td>Normalized information about building where th...</td>\n",
              "    </tr>\n",
              "    <tr>\n",
              "      <th>54</th>\n",
              "      <td>LIVINGAPARTMENTS_AVG</td>\n",
              "      <td>Normalized information about building where th...</td>\n",
              "    </tr>\n",
              "    <tr>\n",
              "      <th>55</th>\n",
              "      <td>LIVINGAREA_AVG</td>\n",
              "      <td>Normalized information about building where th...</td>\n",
              "    </tr>\n",
              "    <tr>\n",
              "      <th>56</th>\n",
              "      <td>NONLIVINGAPARTMENTS_AVG</td>\n",
              "      <td>Normalized information about building where th...</td>\n",
              "    </tr>\n",
              "    <tr>\n",
              "      <th>57</th>\n",
              "      <td>NONLIVINGAREA_AVG</td>\n",
              "      <td>Normalized information about building where th...</td>\n",
              "    </tr>\n",
              "    <tr>\n",
              "      <th>58</th>\n",
              "      <td>APARTMENTS_MODE</td>\n",
              "      <td>Normalized information about building where th...</td>\n",
              "    </tr>\n",
              "    <tr>\n",
              "      <th>59</th>\n",
              "      <td>BASEMENTAREA_MODE</td>\n",
              "      <td>Normalized information about building where th...</td>\n",
              "    </tr>\n",
              "    <tr>\n",
              "      <th>60</th>\n",
              "      <td>YEARS_BEGINEXPLUATATION_MODE</td>\n",
              "      <td>Normalized information about building where th...</td>\n",
              "    </tr>\n",
              "    <tr>\n",
              "      <th>61</th>\n",
              "      <td>YEARS_BUILD_MODE</td>\n",
              "      <td>Normalized information about building where th...</td>\n",
              "    </tr>\n",
              "    <tr>\n",
              "      <th>62</th>\n",
              "      <td>COMMONAREA_MODE</td>\n",
              "      <td>Normalized information about building where th...</td>\n",
              "    </tr>\n",
              "    <tr>\n",
              "      <th>63</th>\n",
              "      <td>ELEVATORS_MODE</td>\n",
              "      <td>Normalized information about building where th...</td>\n",
              "    </tr>\n",
              "    <tr>\n",
              "      <th>64</th>\n",
              "      <td>ENTRANCES_MODE</td>\n",
              "      <td>Normalized information about building where th...</td>\n",
              "    </tr>\n",
              "    <tr>\n",
              "      <th>65</th>\n",
              "      <td>FLOORSMAX_MODE</td>\n",
              "      <td>Normalized information about building where th...</td>\n",
              "    </tr>\n",
              "    <tr>\n",
              "      <th>66</th>\n",
              "      <td>FLOORSMIN_MODE</td>\n",
              "      <td>Normalized information about building where th...</td>\n",
              "    </tr>\n",
              "    <tr>\n",
              "      <th>67</th>\n",
              "      <td>LANDAREA_MODE</td>\n",
              "      <td>Normalized information about building where th...</td>\n",
              "    </tr>\n",
              "    <tr>\n",
              "      <th>68</th>\n",
              "      <td>LIVINGAPARTMENTS_MODE</td>\n",
              "      <td>Normalized information about building where th...</td>\n",
              "    </tr>\n",
              "    <tr>\n",
              "      <th>69</th>\n",
              "      <td>LIVINGAREA_MODE</td>\n",
              "      <td>Normalized information about building where th...</td>\n",
              "    </tr>\n",
              "    <tr>\n",
              "      <th>70</th>\n",
              "      <td>NONLIVINGAPARTMENTS_MODE</td>\n",
              "      <td>Normalized information about building where th...</td>\n",
              "    </tr>\n",
              "    <tr>\n",
              "      <th>71</th>\n",
              "      <td>NONLIVINGAREA_MODE</td>\n",
              "      <td>Normalized information about building where th...</td>\n",
              "    </tr>\n",
              "    <tr>\n",
              "      <th>72</th>\n",
              "      <td>APARTMENTS_MEDI</td>\n",
              "      <td>Normalized information about building where th...</td>\n",
              "    </tr>\n",
              "    <tr>\n",
              "      <th>73</th>\n",
              "      <td>BASEMENTAREA_MEDI</td>\n",
              "      <td>Normalized information about building where th...</td>\n",
              "    </tr>\n",
              "    <tr>\n",
              "      <th>74</th>\n",
              "      <td>YEARS_BEGINEXPLUATATION_MEDI</td>\n",
              "      <td>Normalized information about building where th...</td>\n",
              "    </tr>\n",
              "    <tr>\n",
              "      <th>75</th>\n",
              "      <td>YEARS_BUILD_MEDI</td>\n",
              "      <td>Normalized information about building where th...</td>\n",
              "    </tr>\n",
              "    <tr>\n",
              "      <th>76</th>\n",
              "      <td>COMMONAREA_MEDI</td>\n",
              "      <td>Normalized information about building where th...</td>\n",
              "    </tr>\n",
              "    <tr>\n",
              "      <th>77</th>\n",
              "      <td>ELEVATORS_MEDI</td>\n",
              "      <td>Normalized information about building where th...</td>\n",
              "    </tr>\n",
              "    <tr>\n",
              "      <th>78</th>\n",
              "      <td>ENTRANCES_MEDI</td>\n",
              "      <td>Normalized information about building where th...</td>\n",
              "    </tr>\n",
              "    <tr>\n",
              "      <th>79</th>\n",
              "      <td>FLOORSMAX_MEDI</td>\n",
              "      <td>Normalized information about building where th...</td>\n",
              "    </tr>\n",
              "    <tr>\n",
              "      <th>80</th>\n",
              "      <td>FLOORSMIN_MEDI</td>\n",
              "      <td>Normalized information about building where th...</td>\n",
              "    </tr>\n",
              "    <tr>\n",
              "      <th>81</th>\n",
              "      <td>LANDAREA_MEDI</td>\n",
              "      <td>Normalized information about building where th...</td>\n",
              "    </tr>\n",
              "    <tr>\n",
              "      <th>82</th>\n",
              "      <td>LIVINGAPARTMENTS_MEDI</td>\n",
              "      <td>Normalized information about building where th...</td>\n",
              "    </tr>\n",
              "    <tr>\n",
              "      <th>83</th>\n",
              "      <td>LIVINGAREA_MEDI</td>\n",
              "      <td>Normalized information about building where th...</td>\n",
              "    </tr>\n",
              "    <tr>\n",
              "      <th>84</th>\n",
              "      <td>NONLIVINGAPARTMENTS_MEDI</td>\n",
              "      <td>Normalized information about building where th...</td>\n",
              "    </tr>\n",
              "    <tr>\n",
              "      <th>85</th>\n",
              "      <td>NONLIVINGAREA_MEDI</td>\n",
              "      <td>Normalized information about building where th...</td>\n",
              "    </tr>\n",
              "    <tr>\n",
              "      <th>86</th>\n",
              "      <td>FONDKAPREMONT_MODE</td>\n",
              "      <td>Normalized information about building where th...</td>\n",
              "    </tr>\n",
              "    <tr>\n",
              "      <th>87</th>\n",
              "      <td>HOUSETYPE_MODE</td>\n",
              "      <td>Normalized information about building where th...</td>\n",
              "    </tr>\n",
              "    <tr>\n",
              "      <th>88</th>\n",
              "      <td>TOTALAREA_MODE</td>\n",
              "      <td>Normalized information about building where th...</td>\n",
              "    </tr>\n",
              "    <tr>\n",
              "      <th>89</th>\n",
              "      <td>WALLSMATERIAL_MODE</td>\n",
              "      <td>Normalized information about building where th...</td>\n",
              "    </tr>\n",
              "    <tr>\n",
              "      <th>90</th>\n",
              "      <td>EMERGENCYSTATE_MODE</td>\n",
              "      <td>Normalized information about building where th...</td>\n",
              "    </tr>\n",
              "  </tbody>\n",
              "</table>\n",
              "</div>\n",
              "    <div class=\"colab-df-buttons\">\n",
              "\n",
              "  <div class=\"colab-df-container\">\n",
              "    <button class=\"colab-df-convert\" onclick=\"convertToInteractive('df-9c66b146-abdc-427e-be84-5fc28f0ff504')\"\n",
              "            title=\"Convert this dataframe to an interactive table.\"\n",
              "            style=\"display:none;\">\n",
              "\n",
              "  <svg xmlns=\"http://www.w3.org/2000/svg\" height=\"24px\" viewBox=\"0 -960 960 960\">\n",
              "    <path d=\"M120-120v-720h720v720H120Zm60-500h600v-160H180v160Zm220 220h160v-160H400v160Zm0 220h160v-160H400v160ZM180-400h160v-160H180v160Zm440 0h160v-160H620v160ZM180-180h160v-160H180v160Zm440 0h160v-160H620v160Z\"/>\n",
              "  </svg>\n",
              "    </button>\n",
              "\n",
              "  <style>\n",
              "    .colab-df-container {\n",
              "      display:flex;\n",
              "      gap: 12px;\n",
              "    }\n",
              "\n",
              "    .colab-df-convert {\n",
              "      background-color: #E8F0FE;\n",
              "      border: none;\n",
              "      border-radius: 50%;\n",
              "      cursor: pointer;\n",
              "      display: none;\n",
              "      fill: #1967D2;\n",
              "      height: 32px;\n",
              "      padding: 0 0 0 0;\n",
              "      width: 32px;\n",
              "    }\n",
              "\n",
              "    .colab-df-convert:hover {\n",
              "      background-color: #E2EBFA;\n",
              "      box-shadow: 0px 1px 2px rgba(60, 64, 67, 0.3), 0px 1px 3px 1px rgba(60, 64, 67, 0.15);\n",
              "      fill: #174EA6;\n",
              "    }\n",
              "\n",
              "    .colab-df-buttons div {\n",
              "      margin-bottom: 4px;\n",
              "    }\n",
              "\n",
              "    [theme=dark] .colab-df-convert {\n",
              "      background-color: #3B4455;\n",
              "      fill: #D2E3FC;\n",
              "    }\n",
              "\n",
              "    [theme=dark] .colab-df-convert:hover {\n",
              "      background-color: #434B5C;\n",
              "      box-shadow: 0px 1px 3px 1px rgba(0, 0, 0, 0.15);\n",
              "      filter: drop-shadow(0px 1px 2px rgba(0, 0, 0, 0.3));\n",
              "      fill: #FFFFFF;\n",
              "    }\n",
              "  </style>\n",
              "\n",
              "    <script>\n",
              "      const buttonEl =\n",
              "        document.querySelector('#df-9c66b146-abdc-427e-be84-5fc28f0ff504 button.colab-df-convert');\n",
              "      buttonEl.style.display =\n",
              "        google.colab.kernel.accessAllowed ? 'block' : 'none';\n",
              "\n",
              "      async function convertToInteractive(key) {\n",
              "        const element = document.querySelector('#df-9c66b146-abdc-427e-be84-5fc28f0ff504');\n",
              "        const dataTable =\n",
              "          await google.colab.kernel.invokeFunction('convertToInteractive',\n",
              "                                                    [key], {});\n",
              "        if (!dataTable) return;\n",
              "\n",
              "        const docLinkHtml = 'Like what you see? Visit the ' +\n",
              "          '<a target=\"_blank\" href=https://colab.research.google.com/notebooks/data_table.ipynb>data table notebook</a>'\n",
              "          + ' to learn more about interactive tables.';\n",
              "        element.innerHTML = '';\n",
              "        dataTable['output_type'] = 'display_data';\n",
              "        await google.colab.output.renderOutput(dataTable, element);\n",
              "        const docLink = document.createElement('div');\n",
              "        docLink.innerHTML = docLinkHtml;\n",
              "        element.appendChild(docLink);\n",
              "      }\n",
              "    </script>\n",
              "  </div>\n",
              "\n",
              "\n",
              "<div id=\"df-a75b448e-2525-497e-a896-9c8d4c8b1827\">\n",
              "  <button class=\"colab-df-quickchart\" onclick=\"quickchart('df-a75b448e-2525-497e-a896-9c8d4c8b1827')\"\n",
              "            title=\"Suggest charts.\"\n",
              "            style=\"display:none;\">\n",
              "\n",
              "<svg xmlns=\"http://www.w3.org/2000/svg\" height=\"24px\"viewBox=\"0 0 24 24\"\n",
              "     width=\"24px\">\n",
              "    <g>\n",
              "        <path d=\"M19 3H5c-1.1 0-2 .9-2 2v14c0 1.1.9 2 2 2h14c1.1 0 2-.9 2-2V5c0-1.1-.9-2-2-2zM9 17H7v-7h2v7zm4 0h-2V7h2v10zm4 0h-2v-4h2v4z\"/>\n",
              "    </g>\n",
              "</svg>\n",
              "  </button>\n",
              "\n",
              "<style>\n",
              "  .colab-df-quickchart {\n",
              "      --bg-color: #E8F0FE;\n",
              "      --fill-color: #1967D2;\n",
              "      --hover-bg-color: #E2EBFA;\n",
              "      --hover-fill-color: #174EA6;\n",
              "      --disabled-fill-color: #AAA;\n",
              "      --disabled-bg-color: #DDD;\n",
              "  }\n",
              "\n",
              "  [theme=dark] .colab-df-quickchart {\n",
              "      --bg-color: #3B4455;\n",
              "      --fill-color: #D2E3FC;\n",
              "      --hover-bg-color: #434B5C;\n",
              "      --hover-fill-color: #FFFFFF;\n",
              "      --disabled-bg-color: #3B4455;\n",
              "      --disabled-fill-color: #666;\n",
              "  }\n",
              "\n",
              "  .colab-df-quickchart {\n",
              "    background-color: var(--bg-color);\n",
              "    border: none;\n",
              "    border-radius: 50%;\n",
              "    cursor: pointer;\n",
              "    display: none;\n",
              "    fill: var(--fill-color);\n",
              "    height: 32px;\n",
              "    padding: 0;\n",
              "    width: 32px;\n",
              "  }\n",
              "\n",
              "  .colab-df-quickchart:hover {\n",
              "    background-color: var(--hover-bg-color);\n",
              "    box-shadow: 0 1px 2px rgba(60, 64, 67, 0.3), 0 1px 3px 1px rgba(60, 64, 67, 0.15);\n",
              "    fill: var(--button-hover-fill-color);\n",
              "  }\n",
              "\n",
              "  .colab-df-quickchart-complete:disabled,\n",
              "  .colab-df-quickchart-complete:disabled:hover {\n",
              "    background-color: var(--disabled-bg-color);\n",
              "    fill: var(--disabled-fill-color);\n",
              "    box-shadow: none;\n",
              "  }\n",
              "\n",
              "  .colab-df-spinner {\n",
              "    border: 2px solid var(--fill-color);\n",
              "    border-color: transparent;\n",
              "    border-bottom-color: var(--fill-color);\n",
              "    animation:\n",
              "      spin 1s steps(1) infinite;\n",
              "  }\n",
              "\n",
              "  @keyframes spin {\n",
              "    0% {\n",
              "      border-color: transparent;\n",
              "      border-bottom-color: var(--fill-color);\n",
              "      border-left-color: var(--fill-color);\n",
              "    }\n",
              "    20% {\n",
              "      border-color: transparent;\n",
              "      border-left-color: var(--fill-color);\n",
              "      border-top-color: var(--fill-color);\n",
              "    }\n",
              "    30% {\n",
              "      border-color: transparent;\n",
              "      border-left-color: var(--fill-color);\n",
              "      border-top-color: var(--fill-color);\n",
              "      border-right-color: var(--fill-color);\n",
              "    }\n",
              "    40% {\n",
              "      border-color: transparent;\n",
              "      border-right-color: var(--fill-color);\n",
              "      border-top-color: var(--fill-color);\n",
              "    }\n",
              "    60% {\n",
              "      border-color: transparent;\n",
              "      border-right-color: var(--fill-color);\n",
              "    }\n",
              "    80% {\n",
              "      border-color: transparent;\n",
              "      border-right-color: var(--fill-color);\n",
              "      border-bottom-color: var(--fill-color);\n",
              "    }\n",
              "    90% {\n",
              "      border-color: transparent;\n",
              "      border-bottom-color: var(--fill-color);\n",
              "    }\n",
              "  }\n",
              "</style>\n",
              "\n",
              "  <script>\n",
              "    async function quickchart(key) {\n",
              "      const quickchartButtonEl =\n",
              "        document.querySelector('#' + key + ' button');\n",
              "      quickchartButtonEl.disabled = true;  // To prevent multiple clicks.\n",
              "      quickchartButtonEl.classList.add('colab-df-spinner');\n",
              "      try {\n",
              "        const charts = await google.colab.kernel.invokeFunction(\n",
              "            'suggestCharts', [key], {});\n",
              "      } catch (error) {\n",
              "        console.error('Error during call to suggestCharts:', error);\n",
              "      }\n",
              "      quickchartButtonEl.classList.remove('colab-df-spinner');\n",
              "      quickchartButtonEl.classList.add('colab-df-quickchart-complete');\n",
              "    }\n",
              "    (() => {\n",
              "      let quickchartButtonEl =\n",
              "        document.querySelector('#df-a75b448e-2525-497e-a896-9c8d4c8b1827 button');\n",
              "      quickchartButtonEl.style.display =\n",
              "        google.colab.kernel.accessAllowed ? 'block' : 'none';\n",
              "    })();\n",
              "  </script>\n",
              "</div>\n",
              "    </div>\n",
              "  </div>\n"
            ],
            "text/plain": [
              "                             Row  \\\n",
              "21                   OWN_CAR_AGE   \n",
              "41                  EXT_SOURCE_1   \n",
              "44                APARTMENTS_AVG   \n",
              "45              BASEMENTAREA_AVG   \n",
              "46   YEARS_BEGINEXPLUATATION_AVG   \n",
              "47               YEARS_BUILD_AVG   \n",
              "48                COMMONAREA_AVG   \n",
              "49                 ELEVATORS_AVG   \n",
              "50                 ENTRANCES_AVG   \n",
              "51                 FLOORSMAX_AVG   \n",
              "52                 FLOORSMIN_AVG   \n",
              "53                  LANDAREA_AVG   \n",
              "54          LIVINGAPARTMENTS_AVG   \n",
              "55                LIVINGAREA_AVG   \n",
              "56       NONLIVINGAPARTMENTS_AVG   \n",
              "57             NONLIVINGAREA_AVG   \n",
              "58               APARTMENTS_MODE   \n",
              "59             BASEMENTAREA_MODE   \n",
              "60  YEARS_BEGINEXPLUATATION_MODE   \n",
              "61              YEARS_BUILD_MODE   \n",
              "62               COMMONAREA_MODE   \n",
              "63                ELEVATORS_MODE   \n",
              "64                ENTRANCES_MODE   \n",
              "65                FLOORSMAX_MODE   \n",
              "66                FLOORSMIN_MODE   \n",
              "67                 LANDAREA_MODE   \n",
              "68         LIVINGAPARTMENTS_MODE   \n",
              "69               LIVINGAREA_MODE   \n",
              "70      NONLIVINGAPARTMENTS_MODE   \n",
              "71            NONLIVINGAREA_MODE   \n",
              "72               APARTMENTS_MEDI   \n",
              "73             BASEMENTAREA_MEDI   \n",
              "74  YEARS_BEGINEXPLUATATION_MEDI   \n",
              "75              YEARS_BUILD_MEDI   \n",
              "76               COMMONAREA_MEDI   \n",
              "77                ELEVATORS_MEDI   \n",
              "78                ENTRANCES_MEDI   \n",
              "79                FLOORSMAX_MEDI   \n",
              "80                FLOORSMIN_MEDI   \n",
              "81                 LANDAREA_MEDI   \n",
              "82         LIVINGAPARTMENTS_MEDI   \n",
              "83               LIVINGAREA_MEDI   \n",
              "84      NONLIVINGAPARTMENTS_MEDI   \n",
              "85            NONLIVINGAREA_MEDI   \n",
              "86            FONDKAPREMONT_MODE   \n",
              "87                HOUSETYPE_MODE   \n",
              "88                TOTALAREA_MODE   \n",
              "89            WALLSMATERIAL_MODE   \n",
              "90           EMERGENCYSTATE_MODE   \n",
              "\n",
              "                                          Description  \n",
              "21                                Age of client's car  \n",
              "41         Normalized score from external data source  \n",
              "44  Normalized information about building where th...  \n",
              "45  Normalized information about building where th...  \n",
              "46  Normalized information about building where th...  \n",
              "47  Normalized information about building where th...  \n",
              "48  Normalized information about building where th...  \n",
              "49  Normalized information about building where th...  \n",
              "50  Normalized information about building where th...  \n",
              "51  Normalized information about building where th...  \n",
              "52  Normalized information about building where th...  \n",
              "53  Normalized information about building where th...  \n",
              "54  Normalized information about building where th...  \n",
              "55  Normalized information about building where th...  \n",
              "56  Normalized information about building where th...  \n",
              "57  Normalized information about building where th...  \n",
              "58  Normalized information about building where th...  \n",
              "59  Normalized information about building where th...  \n",
              "60  Normalized information about building where th...  \n",
              "61  Normalized information about building where th...  \n",
              "62  Normalized information about building where th...  \n",
              "63  Normalized information about building where th...  \n",
              "64  Normalized information about building where th...  \n",
              "65  Normalized information about building where th...  \n",
              "66  Normalized information about building where th...  \n",
              "67  Normalized information about building where th...  \n",
              "68  Normalized information about building where th...  \n",
              "69  Normalized information about building where th...  \n",
              "70  Normalized information about building where th...  \n",
              "71  Normalized information about building where th...  \n",
              "72  Normalized information about building where th...  \n",
              "73  Normalized information about building where th...  \n",
              "74  Normalized information about building where th...  \n",
              "75  Normalized information about building where th...  \n",
              "76  Normalized information about building where th...  \n",
              "77  Normalized information about building where th...  \n",
              "78  Normalized information about building where th...  \n",
              "79  Normalized information about building where th...  \n",
              "80  Normalized information about building where th...  \n",
              "81  Normalized information about building where th...  \n",
              "82  Normalized information about building where th...  \n",
              "83  Normalized information about building where th...  \n",
              "84  Normalized information about building where th...  \n",
              "85  Normalized information about building where th...  \n",
              "86  Normalized information about building where th...  \n",
              "87  Normalized information about building where th...  \n",
              "88  Normalized information about building where th...  \n",
              "89  Normalized information about building where th...  \n",
              "90  Normalized information about building where th...  "
            ]
          },
          "execution_count": 36,
          "metadata": {},
          "output_type": "execute_result"
        }
      ],
      "source": [
        "# A quoi correspondent ces données manquantes ?\n",
        "col_na = df_ap[df_ap.columns[df_ap.isna().mean() > 0.45]].columns\n",
        "# col_na.tolist()\n",
        "df_col_desc.loc[\n",
        "    df_col_desc['Row'].isin(col_na),\n",
        "    ['Row','Description']\n",
        "]\n",
        "# Données sur habitations\n",
        "# Est ce que le fait de ne pas avoir d'information sur le lieu d'habitation est une info ?\n",
        "# 65 % NA OWN_CAR_AGE ==> client avec Na ou sans voiture ?\n",
        "# FLAG_OWN_CAR ==> si client a une voiture ou non"
      ]
    },
    {
      "cell_type": "code",
      "execution_count": null,
      "metadata": {
        "colab": {
          "base_uri": "https://localhost:8080/",
          "height": 423
        },
        "id": "2xvxgIEY4G-7",
        "outputId": "0b422e77-2c5f-496f-b692-376d0fce9b36"
      },
      "outputs": [
        {
          "data": {
            "text/html": [
              "\n",
              "  <div id=\"df-251d1115-8ef1-4741-a36a-2d017bf3ccd4\" class=\"colab-df-container\">\n",
              "    <div>\n",
              "<style scoped>\n",
              "    .dataframe tbody tr th:only-of-type {\n",
              "        vertical-align: middle;\n",
              "    }\n",
              "\n",
              "    .dataframe tbody tr th {\n",
              "        vertical-align: top;\n",
              "    }\n",
              "\n",
              "    .dataframe thead th {\n",
              "        text-align: right;\n",
              "    }\n",
              "</style>\n",
              "<table border=\"1\" class=\"dataframe\">\n",
              "  <thead>\n",
              "    <tr style=\"text-align: right;\">\n",
              "      <th></th>\n",
              "      <th>Row</th>\n",
              "      <th>Description</th>\n",
              "    </tr>\n",
              "  </thead>\n",
              "  <tbody>\n",
              "    <tr>\n",
              "      <th>0</th>\n",
              "      <td>SK_ID_CURR</td>\n",
              "      <td>ID of loan in our sample</td>\n",
              "    </tr>\n",
              "    <tr>\n",
              "      <th>1</th>\n",
              "      <td>TARGET</td>\n",
              "      <td>Target variable (1 - client with payment diffi...</td>\n",
              "    </tr>\n",
              "    <tr>\n",
              "      <th>2</th>\n",
              "      <td>NAME_CONTRACT_TYPE</td>\n",
              "      <td>Identification if loan is cash or revolving</td>\n",
              "    </tr>\n",
              "    <tr>\n",
              "      <th>3</th>\n",
              "      <td>CODE_GENDER</td>\n",
              "      <td>Gender of the client</td>\n",
              "    </tr>\n",
              "    <tr>\n",
              "      <th>4</th>\n",
              "      <td>FLAG_OWN_CAR</td>\n",
              "      <td>Flag if the client owns a car</td>\n",
              "    </tr>\n",
              "    <tr>\n",
              "      <th>...</th>\n",
              "      <td>...</td>\n",
              "      <td>...</td>\n",
              "    </tr>\n",
              "    <tr>\n",
              "      <th>214</th>\n",
              "      <td>NUM_INSTALMENT_NUMBER</td>\n",
              "      <td>On which installment we observe payment</td>\n",
              "    </tr>\n",
              "    <tr>\n",
              "      <th>215</th>\n",
              "      <td>DAYS_INSTALMENT</td>\n",
              "      <td>When the installment of previous credit was su...</td>\n",
              "    </tr>\n",
              "    <tr>\n",
              "      <th>216</th>\n",
              "      <td>DAYS_ENTRY_PAYMENT</td>\n",
              "      <td>When was the installments of previous credit p...</td>\n",
              "    </tr>\n",
              "    <tr>\n",
              "      <th>217</th>\n",
              "      <td>AMT_INSTALMENT</td>\n",
              "      <td>What was the prescribed installment amount of ...</td>\n",
              "    </tr>\n",
              "    <tr>\n",
              "      <th>218</th>\n",
              "      <td>AMT_PAYMENT</td>\n",
              "      <td>What the client actually paid on previous cred...</td>\n",
              "    </tr>\n",
              "  </tbody>\n",
              "</table>\n",
              "<p>170 rows × 2 columns</p>\n",
              "</div>\n",
              "    <div class=\"colab-df-buttons\">\n",
              "\n",
              "  <div class=\"colab-df-container\">\n",
              "    <button class=\"colab-df-convert\" onclick=\"convertToInteractive('df-251d1115-8ef1-4741-a36a-2d017bf3ccd4')\"\n",
              "            title=\"Convert this dataframe to an interactive table.\"\n",
              "            style=\"display:none;\">\n",
              "\n",
              "  <svg xmlns=\"http://www.w3.org/2000/svg\" height=\"24px\" viewBox=\"0 -960 960 960\">\n",
              "    <path d=\"M120-120v-720h720v720H120Zm60-500h600v-160H180v160Zm220 220h160v-160H400v160Zm0 220h160v-160H400v160ZM180-400h160v-160H180v160Zm440 0h160v-160H620v160ZM180-180h160v-160H180v160Zm440 0h160v-160H620v160Z\"/>\n",
              "  </svg>\n",
              "    </button>\n",
              "\n",
              "  <style>\n",
              "    .colab-df-container {\n",
              "      display:flex;\n",
              "      gap: 12px;\n",
              "    }\n",
              "\n",
              "    .colab-df-convert {\n",
              "      background-color: #E8F0FE;\n",
              "      border: none;\n",
              "      border-radius: 50%;\n",
              "      cursor: pointer;\n",
              "      display: none;\n",
              "      fill: #1967D2;\n",
              "      height: 32px;\n",
              "      padding: 0 0 0 0;\n",
              "      width: 32px;\n",
              "    }\n",
              "\n",
              "    .colab-df-convert:hover {\n",
              "      background-color: #E2EBFA;\n",
              "      box-shadow: 0px 1px 2px rgba(60, 64, 67, 0.3), 0px 1px 3px 1px rgba(60, 64, 67, 0.15);\n",
              "      fill: #174EA6;\n",
              "    }\n",
              "\n",
              "    .colab-df-buttons div {\n",
              "      margin-bottom: 4px;\n",
              "    }\n",
              "\n",
              "    [theme=dark] .colab-df-convert {\n",
              "      background-color: #3B4455;\n",
              "      fill: #D2E3FC;\n",
              "    }\n",
              "\n",
              "    [theme=dark] .colab-df-convert:hover {\n",
              "      background-color: #434B5C;\n",
              "      box-shadow: 0px 1px 3px 1px rgba(0, 0, 0, 0.15);\n",
              "      filter: drop-shadow(0px 1px 2px rgba(0, 0, 0, 0.3));\n",
              "      fill: #FFFFFF;\n",
              "    }\n",
              "  </style>\n",
              "\n",
              "    <script>\n",
              "      const buttonEl =\n",
              "        document.querySelector('#df-251d1115-8ef1-4741-a36a-2d017bf3ccd4 button.colab-df-convert');\n",
              "      buttonEl.style.display =\n",
              "        google.colab.kernel.accessAllowed ? 'block' : 'none';\n",
              "\n",
              "      async function convertToInteractive(key) {\n",
              "        const element = document.querySelector('#df-251d1115-8ef1-4741-a36a-2d017bf3ccd4');\n",
              "        const dataTable =\n",
              "          await google.colab.kernel.invokeFunction('convertToInteractive',\n",
              "                                                    [key], {});\n",
              "        if (!dataTable) return;\n",
              "\n",
              "        const docLinkHtml = 'Like what you see? Visit the ' +\n",
              "          '<a target=\"_blank\" href=https://colab.research.google.com/notebooks/data_table.ipynb>data table notebook</a>'\n",
              "          + ' to learn more about interactive tables.';\n",
              "        element.innerHTML = '';\n",
              "        dataTable['output_type'] = 'display_data';\n",
              "        await google.colab.output.renderOutput(dataTable, element);\n",
              "        const docLink = document.createElement('div');\n",
              "        docLink.innerHTML = docLinkHtml;\n",
              "        element.appendChild(docLink);\n",
              "      }\n",
              "    </script>\n",
              "  </div>\n",
              "\n",
              "\n",
              "<div id=\"df-3b17b9b0-cfdc-465c-b4d3-f264731eb9aa\">\n",
              "  <button class=\"colab-df-quickchart\" onclick=\"quickchart('df-3b17b9b0-cfdc-465c-b4d3-f264731eb9aa')\"\n",
              "            title=\"Suggest charts.\"\n",
              "            style=\"display:none;\">\n",
              "\n",
              "<svg xmlns=\"http://www.w3.org/2000/svg\" height=\"24px\"viewBox=\"0 0 24 24\"\n",
              "     width=\"24px\">\n",
              "    <g>\n",
              "        <path d=\"M19 3H5c-1.1 0-2 .9-2 2v14c0 1.1.9 2 2 2h14c1.1 0 2-.9 2-2V5c0-1.1-.9-2-2-2zM9 17H7v-7h2v7zm4 0h-2V7h2v10zm4 0h-2v-4h2v4z\"/>\n",
              "    </g>\n",
              "</svg>\n",
              "  </button>\n",
              "\n",
              "<style>\n",
              "  .colab-df-quickchart {\n",
              "      --bg-color: #E8F0FE;\n",
              "      --fill-color: #1967D2;\n",
              "      --hover-bg-color: #E2EBFA;\n",
              "      --hover-fill-color: #174EA6;\n",
              "      --disabled-fill-color: #AAA;\n",
              "      --disabled-bg-color: #DDD;\n",
              "  }\n",
              "\n",
              "  [theme=dark] .colab-df-quickchart {\n",
              "      --bg-color: #3B4455;\n",
              "      --fill-color: #D2E3FC;\n",
              "      --hover-bg-color: #434B5C;\n",
              "      --hover-fill-color: #FFFFFF;\n",
              "      --disabled-bg-color: #3B4455;\n",
              "      --disabled-fill-color: #666;\n",
              "  }\n",
              "\n",
              "  .colab-df-quickchart {\n",
              "    background-color: var(--bg-color);\n",
              "    border: none;\n",
              "    border-radius: 50%;\n",
              "    cursor: pointer;\n",
              "    display: none;\n",
              "    fill: var(--fill-color);\n",
              "    height: 32px;\n",
              "    padding: 0;\n",
              "    width: 32px;\n",
              "  }\n",
              "\n",
              "  .colab-df-quickchart:hover {\n",
              "    background-color: var(--hover-bg-color);\n",
              "    box-shadow: 0 1px 2px rgba(60, 64, 67, 0.3), 0 1px 3px 1px rgba(60, 64, 67, 0.15);\n",
              "    fill: var(--button-hover-fill-color);\n",
              "  }\n",
              "\n",
              "  .colab-df-quickchart-complete:disabled,\n",
              "  .colab-df-quickchart-complete:disabled:hover {\n",
              "    background-color: var(--disabled-bg-color);\n",
              "    fill: var(--disabled-fill-color);\n",
              "    box-shadow: none;\n",
              "  }\n",
              "\n",
              "  .colab-df-spinner {\n",
              "    border: 2px solid var(--fill-color);\n",
              "    border-color: transparent;\n",
              "    border-bottom-color: var(--fill-color);\n",
              "    animation:\n",
              "      spin 1s steps(1) infinite;\n",
              "  }\n",
              "\n",
              "  @keyframes spin {\n",
              "    0% {\n",
              "      border-color: transparent;\n",
              "      border-bottom-color: var(--fill-color);\n",
              "      border-left-color: var(--fill-color);\n",
              "    }\n",
              "    20% {\n",
              "      border-color: transparent;\n",
              "      border-left-color: var(--fill-color);\n",
              "      border-top-color: var(--fill-color);\n",
              "    }\n",
              "    30% {\n",
              "      border-color: transparent;\n",
              "      border-left-color: var(--fill-color);\n",
              "      border-top-color: var(--fill-color);\n",
              "      border-right-color: var(--fill-color);\n",
              "    }\n",
              "    40% {\n",
              "      border-color: transparent;\n",
              "      border-right-color: var(--fill-color);\n",
              "      border-top-color: var(--fill-color);\n",
              "    }\n",
              "    60% {\n",
              "      border-color: transparent;\n",
              "      border-right-color: var(--fill-color);\n",
              "    }\n",
              "    80% {\n",
              "      border-color: transparent;\n",
              "      border-right-color: var(--fill-color);\n",
              "      border-bottom-color: var(--fill-color);\n",
              "    }\n",
              "    90% {\n",
              "      border-color: transparent;\n",
              "      border-bottom-color: var(--fill-color);\n",
              "    }\n",
              "  }\n",
              "</style>\n",
              "\n",
              "  <script>\n",
              "    async function quickchart(key) {\n",
              "      const quickchartButtonEl =\n",
              "        document.querySelector('#' + key + ' button');\n",
              "      quickchartButtonEl.disabled = true;  // To prevent multiple clicks.\n",
              "      quickchartButtonEl.classList.add('colab-df-spinner');\n",
              "      try {\n",
              "        const charts = await google.colab.kernel.invokeFunction(\n",
              "            'suggestCharts', [key], {});\n",
              "      } catch (error) {\n",
              "        console.error('Error during call to suggestCharts:', error);\n",
              "      }\n",
              "      quickchartButtonEl.classList.remove('colab-df-spinner');\n",
              "      quickchartButtonEl.classList.add('colab-df-quickchart-complete');\n",
              "    }\n",
              "    (() => {\n",
              "      let quickchartButtonEl =\n",
              "        document.querySelector('#df-3b17b9b0-cfdc-465c-b4d3-f264731eb9aa button');\n",
              "      quickchartButtonEl.style.display =\n",
              "        google.colab.kernel.accessAllowed ? 'block' : 'none';\n",
              "    })();\n",
              "  </script>\n",
              "</div>\n",
              "    </div>\n",
              "  </div>\n"
            ],
            "text/plain": [
              "                       Row                                        Description\n",
              "0               SK_ID_CURR                           ID of loan in our sample\n",
              "1                   TARGET  Target variable (1 - client with payment diffi...\n",
              "2       NAME_CONTRACT_TYPE        Identification if loan is cash or revolving\n",
              "3              CODE_GENDER                               Gender of the client\n",
              "4             FLAG_OWN_CAR                      Flag if the client owns a car\n",
              "..                     ...                                                ...\n",
              "214  NUM_INSTALMENT_NUMBER            On which installment we observe payment\n",
              "215        DAYS_INSTALMENT  When the installment of previous credit was su...\n",
              "216     DAYS_ENTRY_PAYMENT  When was the installments of previous credit p...\n",
              "217         AMT_INSTALMENT  What was the prescribed installment amount of ...\n",
              "218            AMT_PAYMENT  What the client actually paid on previous cred...\n",
              "\n",
              "[170 rows x 2 columns]"
            ]
          },
          "execution_count": 37,
          "metadata": {},
          "output_type": "execute_result"
        }
      ],
      "source": [
        "df_col_desc.loc[\n",
        "    ~df_col_desc['Row'].isin(col_na),\n",
        "    ['Row','Description']\n",
        "]"
      ]
    },
    {
      "cell_type": "markdown",
      "metadata": {
        "id": "XpEJjfBG5eCn"
      },
      "source": [
        "# Feature Engineering\n",
        "  From AGUIAR's kaggle\n",
        "  link : https://www.kaggle.com/code/jsaguiar/lightgbm-with-simple-features/script"
      ]
    },
    {
      "cell_type": "code",
      "execution_count": 7,
      "metadata": {
        "id": "gw8n-bSOiO0B"
      },
      "outputs": [],
      "source": [
        "# Most features are created by applying min, max, mean, sum and var functions to grouped tables.\n",
        "# Little feature selection is done and overfitting might be a problem since many features are related.\n",
        "# The following key ideas were used:\n",
        "# - Divide or subtract important features to get rates (like annuity and income)\n",
        "# - In Bureau Data: create specific features for Active credits and Closed credits\n",
        "# - In Previous Applications: create specific features for Approved and Refused applications\n",
        "# - Modularity: one function for each table (except bureau_balance and application_test)\n",
        "# - One-hot encoding for categorical features\n",
        "# All tables are joined with the application DF using the SK_ID_CURR key (except bureau_balance).\n",
        "# You can use LightGBM with KFold or Stratified KFold.\n",
        "\n",
        "# Update 16/06/2018:\n",
        "# - Added Payment Rate feature\n",
        "# - Removed index from features\n",
        "# - Use standard KFold CV (not stratified)\n",
        "\n",
        "import numpy as np\n",
        "import pandas as pd\n",
        "import gc\n",
        "import time\n",
        "from contextlib import contextmanager\n",
        "from lightgbm import LGBMClassifier\n",
        "from sklearn.metrics import roc_auc_score, roc_curve\n",
        "from sklearn.model_selection import KFold, StratifiedKFold\n",
        "import matplotlib.pyplot as plt\n",
        "import seaborn as sns\n",
        "import warnings\n",
        "warnings.simplefilter(action='ignore', category=FutureWarning)\n",
        "\n",
        "@contextmanager\n",
        "def timer(title):\n",
        "    t0 = time.time()\n",
        "    yield\n",
        "    print(\"{} - done in {:.0f}s\".format(title, time.time() - t0))\n",
        "\n",
        "# One-hot encoding for categorical columns with get_dummies\n",
        "def one_hot_encoder(df, nan_as_category = True):\n",
        "    original_columns = list(df.columns)\n",
        "    categorical_columns = [col for col in df.columns if df[col].dtype == 'object']\n",
        "    df = pd.get_dummies(df, columns= categorical_columns, dummy_na= nan_as_category)\n",
        "    new_columns = [c for c in df.columns if c not in original_columns]\n",
        "    return df, new_columns\n",
        "\n",
        "# Preprocess application_train.csv and application_test.csv\n",
        "def application_train_test(num_rows = None, nan_as_category = False):\n",
        "    # Read data and merge\n",
        "    df = pd.read_csv('application_train.csv', nrows= num_rows)\n",
        "    test_df = pd.read_csv('application_test.csv', nrows= num_rows)\n",
        "    print(\"Train samples: {}, test samples: {}\".format(len(df), len(test_df)))\n",
        "    df = df.append(test_df).reset_index()\n",
        "    # Optional: Remove 4 applications with XNA CODE_GENDER (train set)\n",
        "    df = df[df['CODE_GENDER'] != 'XNA']\n",
        "\n",
        "    # Categorical features with Binary encode (0 or 1; two categories)\n",
        "    for bin_feature in ['CODE_GENDER', 'FLAG_OWN_CAR', 'FLAG_OWN_REALTY']:\n",
        "        df[bin_feature], uniques = pd.factorize(df[bin_feature])\n",
        "    # Categorical features with One-Hot encode\n",
        "    df, cat_cols = one_hot_encoder(df, nan_as_category)\n",
        "\n",
        "    # NaN values for DAYS_EMPLOYED: 365.243 -> nan\n",
        "    df['DAYS_EMPLOYED'].replace(365243, np.nan, inplace= True)\n",
        "    # Some simple new features (percentages)\n",
        "    df['DAYS_EMPLOYED_PERC'] = df['DAYS_EMPLOYED'] / df['DAYS_BIRTH']\n",
        "    df['INCOME_CREDIT_PERC'] = df['AMT_INCOME_TOTAL'] / df['AMT_CREDIT']\n",
        "    df['INCOME_PER_PERSON'] = df['AMT_INCOME_TOTAL'] / df['CNT_FAM_MEMBERS']\n",
        "    df['ANNUITY_INCOME_PERC'] = df['AMT_ANNUITY'] / df['AMT_INCOME_TOTAL']\n",
        "    df['PAYMENT_RATE'] = df['AMT_ANNUITY'] / df['AMT_CREDIT']\n",
        "    del test_df\n",
        "    gc.collect()\n",
        "    return df\n",
        "\n",
        "# Preprocess bureau.csv and bureau_balance.csv\n",
        "def bureau_and_balance(num_rows = None, nan_as_category = True):\n",
        "    bureau = pd.read_csv('bureau.csv', nrows = num_rows)\n",
        "    bb = pd.read_csv('bureau_balance.csv', nrows = num_rows)\n",
        "    bb, bb_cat = one_hot_encoder(bb, nan_as_category)\n",
        "    bureau, bureau_cat = one_hot_encoder(bureau, nan_as_category)\n",
        "\n",
        "    # Bureau balance: Perform aggregations and merge with bureau.csv\n",
        "    bb_aggregations = {'MONTHS_BALANCE': ['min', 'max', 'size']}\n",
        "    for col in bb_cat:\n",
        "        bb_aggregations[col] = ['mean']\n",
        "    bb_agg = bb.groupby('SK_ID_BUREAU').agg(bb_aggregations)\n",
        "    bb_agg.columns = pd.Index([e[0] + \"_\" + e[1].upper() for e in bb_agg.columns.tolist()])\n",
        "    bureau = bureau.join(bb_agg, how='left', on='SK_ID_BUREAU')\n",
        "    bureau.drop(['SK_ID_BUREAU'], axis=1, inplace= True)\n",
        "    del bb, bb_agg\n",
        "    gc.collect()\n",
        "\n",
        "    # Bureau and bureau_balance numeric features\n",
        "    num_aggregations = {\n",
        "        'DAYS_CREDIT': ['min', 'max', 'mean', 'var'],\n",
        "        'DAYS_CREDIT_ENDDATE': ['min', 'max', 'mean'],\n",
        "        'DAYS_CREDIT_UPDATE': ['mean'],\n",
        "        'CREDIT_DAY_OVERDUE': ['max', 'mean'],\n",
        "        'AMT_CREDIT_MAX_OVERDUE': ['mean'],\n",
        "        'AMT_CREDIT_SUM': ['max', 'mean', 'sum'],\n",
        "        'AMT_CREDIT_SUM_DEBT': ['max', 'mean', 'sum'],\n",
        "        'AMT_CREDIT_SUM_OVERDUE': ['mean'],\n",
        "        'AMT_CREDIT_SUM_LIMIT': ['mean', 'sum'],\n",
        "        'AMT_ANNUITY': ['max', 'mean'],\n",
        "        'CNT_CREDIT_PROLONG': ['sum'],\n",
        "        'MONTHS_BALANCE_MIN': ['min'],\n",
        "        'MONTHS_BALANCE_MAX': ['max'],\n",
        "        'MONTHS_BALANCE_SIZE': ['mean', 'sum']\n",
        "    }\n",
        "    # Bureau and bureau_balance categorical features\n",
        "    cat_aggregations = {}\n",
        "    for cat in bureau_cat: cat_aggregations[cat] = ['mean']\n",
        "    for cat in bb_cat: cat_aggregations[cat + \"_MEAN\"] = ['mean']\n",
        "\n",
        "    bureau_agg = bureau.groupby('SK_ID_CURR').agg({**num_aggregations, **cat_aggregations})\n",
        "    bureau_agg.columns = pd.Index(['BURO_' + e[0] + \"_\" + e[1].upper() for e in bureau_agg.columns.tolist()])\n",
        "    # Bureau: Active credits - using only numerical aggregations\n",
        "    active = bureau[bureau['CREDIT_ACTIVE_Active'] == 1]\n",
        "    active_agg = active.groupby('SK_ID_CURR').agg(num_aggregations)\n",
        "    active_agg.columns = pd.Index(['ACTIVE_' + e[0] + \"_\" + e[1].upper() for e in active_agg.columns.tolist()])\n",
        "    bureau_agg = bureau_agg.join(active_agg, how='left', on='SK_ID_CURR')\n",
        "    del active, active_agg\n",
        "    gc.collect()\n",
        "    # Bureau: Closed credits - using only numerical aggregations\n",
        "    closed = bureau[bureau['CREDIT_ACTIVE_Closed'] == 1]\n",
        "    closed_agg = closed.groupby('SK_ID_CURR').agg(num_aggregations)\n",
        "    closed_agg.columns = pd.Index(['CLOSED_' + e[0] + \"_\" + e[1].upper() for e in closed_agg.columns.tolist()])\n",
        "    bureau_agg = bureau_agg.join(closed_agg, how='left', on='SK_ID_CURR')\n",
        "    del closed, closed_agg, bureau\n",
        "    gc.collect()\n",
        "    return bureau_agg\n",
        "\n",
        "# Preprocess previous_applications.csv\n",
        "def previous_applications(num_rows = None, nan_as_category = True):\n",
        "    prev = pd.read_csv('previous_application.csv', nrows = num_rows)\n",
        "    prev, cat_cols = one_hot_encoder(prev, nan_as_category= True)\n",
        "    # Days 365.243 values -> nan\n",
        "    prev['DAYS_FIRST_DRAWING'].replace(365243, np.nan, inplace= True)\n",
        "    prev['DAYS_FIRST_DUE'].replace(365243, np.nan, inplace= True)\n",
        "    prev['DAYS_LAST_DUE_1ST_VERSION'].replace(365243, np.nan, inplace= True)\n",
        "    prev['DAYS_LAST_DUE'].replace(365243, np.nan, inplace= True)\n",
        "    prev['DAYS_TERMINATION'].replace(365243, np.nan, inplace= True)\n",
        "    # Add feature: value ask / value received percentage\n",
        "    prev['APP_CREDIT_PERC'] = prev['AMT_APPLICATION'] / prev['AMT_CREDIT']\n",
        "    # Previous applications numeric features\n",
        "    num_aggregations = {\n",
        "        'AMT_ANNUITY': ['min', 'max', 'mean'],\n",
        "        'AMT_APPLICATION': ['min', 'max', 'mean'],\n",
        "        'AMT_CREDIT': ['min', 'max', 'mean'],\n",
        "        'APP_CREDIT_PERC': ['min', 'max', 'mean', 'var'],\n",
        "        'AMT_DOWN_PAYMENT': ['min', 'max', 'mean'],\n",
        "        'AMT_GOODS_PRICE': ['min', 'max', 'mean'],\n",
        "        'HOUR_APPR_PROCESS_START': ['min', 'max', 'mean'],\n",
        "        'RATE_DOWN_PAYMENT': ['min', 'max', 'mean'],\n",
        "        'DAYS_DECISION': ['min', 'max', 'mean'],\n",
        "        'CNT_PAYMENT': ['mean', 'sum'],\n",
        "    }\n",
        "    # Previous applications categorical features\n",
        "    cat_aggregations = {}\n",
        "    for cat in cat_cols:\n",
        "        cat_aggregations[cat] = ['mean']\n",
        "\n",
        "    prev_agg = prev.groupby('SK_ID_CURR').agg({**num_aggregations, **cat_aggregations})\n",
        "    prev_agg.columns = pd.Index(['PREV_' + e[0] + \"_\" + e[1].upper() for e in prev_agg.columns.tolist()])\n",
        "    # Previous Applications: Approved Applications - only numerical features\n",
        "    approved = prev[prev['NAME_CONTRACT_STATUS_Approved'] == 1]\n",
        "    approved_agg = approved.groupby('SK_ID_CURR').agg(num_aggregations)\n",
        "    approved_agg.columns = pd.Index(['APPROVED_' + e[0] + \"_\" + e[1].upper() for e in approved_agg.columns.tolist()])\n",
        "    prev_agg = prev_agg.join(approved_agg, how='left', on='SK_ID_CURR')\n",
        "    # Previous Applications: Refused Applications - only numerical features\n",
        "    refused = prev[prev['NAME_CONTRACT_STATUS_Refused'] == 1]\n",
        "    refused_agg = refused.groupby('SK_ID_CURR').agg(num_aggregations)\n",
        "    refused_agg.columns = pd.Index(['REFUSED_' + e[0] + \"_\" + e[1].upper() for e in refused_agg.columns.tolist()])\n",
        "    prev_agg = prev_agg.join(refused_agg, how='left', on='SK_ID_CURR')\n",
        "    del refused, refused_agg, approved, approved_agg, prev\n",
        "    gc.collect()\n",
        "    return prev_agg\n",
        "\n",
        "# Preprocess POS_CASH_balance.csv\n",
        "def pos_cash(num_rows = None, nan_as_category = True):\n",
        "    pos = pd.read_csv('POS_CASH_balance.csv', nrows = num_rows)\n",
        "    pos, cat_cols = one_hot_encoder(pos, nan_as_category= True)\n",
        "    # Features\n",
        "    aggregations = {\n",
        "        'MONTHS_BALANCE': ['max', 'mean', 'size'],\n",
        "        'SK_DPD': ['max', 'mean'],\n",
        "        'SK_DPD_DEF': ['max', 'mean']\n",
        "    }\n",
        "    for cat in cat_cols:\n",
        "        aggregations[cat] = ['mean']\n",
        "\n",
        "    pos_agg = pos.groupby('SK_ID_CURR').agg(aggregations)\n",
        "    pos_agg.columns = pd.Index(['POS_' + e[0] + \"_\" + e[1].upper() for e in pos_agg.columns.tolist()])\n",
        "    # Count pos cash accounts\n",
        "    pos_agg['POS_COUNT'] = pos.groupby('SK_ID_CURR').size()\n",
        "    del pos\n",
        "    gc.collect()\n",
        "    return pos_agg\n",
        "\n",
        "# Preprocess installments_payments.csv\n",
        "def installments_payments(num_rows = None, nan_as_category = True):\n",
        "    ins = pd.read_csv('installments_payments.csv', nrows = num_rows)\n",
        "    ins, cat_cols = one_hot_encoder(ins, nan_as_category= True)\n",
        "    # Percentage and difference paid in each installment (amount paid and installment value)\n",
        "    ins['PAYMENT_PERC'] = ins['AMT_PAYMENT'] / ins['AMT_INSTALMENT']\n",
        "    ins['PAYMENT_DIFF'] = ins['AMT_INSTALMENT'] - ins['AMT_PAYMENT']\n",
        "    # Days past due and days before due (no negative values)\n",
        "    ins['DPD'] = ins['DAYS_ENTRY_PAYMENT'] - ins['DAYS_INSTALMENT']\n",
        "    ins['DBD'] = ins['DAYS_INSTALMENT'] - ins['DAYS_ENTRY_PAYMENT']\n",
        "    ins['DPD'] = ins['DPD'].apply(lambda x: x if x > 0 else 0)\n",
        "    ins['DBD'] = ins['DBD'].apply(lambda x: x if x > 0 else 0)\n",
        "    # Features: Perform aggregations\n",
        "    aggregations = {\n",
        "        'NUM_INSTALMENT_VERSION': ['nunique'],\n",
        "        'DPD': ['max', 'mean', 'sum'],\n",
        "        'DBD': ['max', 'mean', 'sum'],\n",
        "        'PAYMENT_PERC': ['max', 'mean', 'sum', 'var'],\n",
        "        'PAYMENT_DIFF': ['max', 'mean', 'sum', 'var'],\n",
        "        'AMT_INSTALMENT': ['max', 'mean', 'sum'],\n",
        "        'AMT_PAYMENT': ['min', 'max', 'mean', 'sum'],\n",
        "        'DAYS_ENTRY_PAYMENT': ['max', 'mean', 'sum']\n",
        "    }\n",
        "    for cat in cat_cols:\n",
        "        aggregations[cat] = ['mean']\n",
        "    ins_agg = ins.groupby('SK_ID_CURR').agg(aggregations)\n",
        "    ins_agg.columns = pd.Index(['INSTAL_' + e[0] + \"_\" + e[1].upper() for e in ins_agg.columns.tolist()])\n",
        "    # Count installments accounts\n",
        "    ins_agg['INSTAL_COUNT'] = ins.groupby('SK_ID_CURR').size()\n",
        "    del ins\n",
        "    gc.collect()\n",
        "    return ins_agg\n",
        "\n",
        "# Preprocess credit_card_balance.csv\n",
        "def credit_card_balance(num_rows = None, nan_as_category = True):\n",
        "    cc = pd.read_csv('credit_card_balance.csv', nrows = num_rows)\n",
        "    cc, cat_cols = one_hot_encoder(cc, nan_as_category= True)\n",
        "    # General aggregations\n",
        "    cc.drop(['SK_ID_PREV'], axis= 1, inplace = True)\n",
        "    cc_agg = cc.groupby('SK_ID_CURR').agg(['min', 'max', 'mean', 'sum', 'var'])\n",
        "    cc_agg.columns = pd.Index(['CC_' + e[0] + \"_\" + e[1].upper() for e in cc_agg.columns.tolist()])\n",
        "    # Count credit card lines\n",
        "    cc_agg['CC_COUNT'] = cc.groupby('SK_ID_CURR').size()\n",
        "    del cc\n",
        "    gc.collect()\n",
        "    return cc_agg\n",
        "\n",
        "# LightGBM GBDT with KFold or Stratified KFold\n",
        "# Parameters from Tilii kernel: https://www.kaggle.com/tilii7/olivier-lightgbm-parameters-by-bayesian-opt/code\n",
        "def kfold_lightgbm(df, num_folds, stratified = False, debug= False):\n",
        "    # Divide in training/validation and test data\n",
        "    train_df = df[df['TARGET'].notnull()]\n",
        "    test_df = df[df['TARGET'].isnull()]\n",
        "    print(\"Starting LightGBM. Train shape: {}, test shape: {}\".format(train_df.shape, test_df.shape))\n",
        "    del df\n",
        "    gc.collect()\n",
        "    # Cross validation model\n",
        "    if stratified:\n",
        "        folds = StratifiedKFold(n_splits= num_folds, shuffle=True, random_state=1001)\n",
        "    else:\n",
        "        folds = KFold(n_splits= num_folds, shuffle=True, random_state=1001)\n",
        "    # Create arrays and dataframes to store results\n",
        "    oof_preds = np.zeros(train_df.shape[0])\n",
        "    sub_preds = np.zeros(test_df.shape[0])\n",
        "    feature_importance_df = pd.DataFrame()\n",
        "    feats = [f for f in train_df.columns if f not in ['TARGET','SK_ID_CURR','SK_ID_BUREAU','SK_ID_PREV','index']]\n",
        "\n",
        "    for n_fold, (train_idx, valid_idx) in enumerate(folds.split(train_df[feats], train_df['TARGET'])):\n",
        "        train_x, train_y = train_df[feats].iloc[train_idx], train_df['TARGET'].iloc[train_idx]\n",
        "        valid_x, valid_y = train_df[feats].iloc[valid_idx], train_df['TARGET'].iloc[valid_idx]\n",
        "\n",
        "        # LightGBM parameters found by Bayesian optimization\n",
        "        clf = LGBMClassifier(\n",
        "            nthread=4,\n",
        "            n_estimators=10000,\n",
        "            learning_rate=0.02,\n",
        "            num_leaves=34,\n",
        "            colsample_bytree=0.9497036,\n",
        "            subsample=0.8715623,\n",
        "            max_depth=8,\n",
        "            reg_alpha=0.041545473,\n",
        "            reg_lambda=0.0735294,\n",
        "            min_split_gain=0.0222415,\n",
        "            min_child_weight=39.3259775,\n",
        "            silent=-1,\n",
        "            verbose=-1, )\n",
        "\n",
        "        clf.fit(train_x, train_y, eval_set=[(train_x, train_y), (valid_x, valid_y)],\n",
        "            eval_metric= 'auc', verbose= 200, early_stopping_rounds= 200)\n",
        "\n",
        "        oof_preds[valid_idx] = clf.predict_proba(valid_x, num_iteration=clf.best_iteration_)[:, 1]\n",
        "        sub_preds += clf.predict_proba(test_df[feats], num_iteration=clf.best_iteration_)[:, 1] / folds.n_splits\n",
        "\n",
        "        fold_importance_df = pd.DataFrame()\n",
        "        fold_importance_df[\"feature\"] = feats\n",
        "        fold_importance_df[\"importance\"] = clf.feature_importances_\n",
        "        fold_importance_df[\"fold\"] = n_fold + 1\n",
        "        feature_importance_df = pd.concat([feature_importance_df, fold_importance_df], axis=0)\n",
        "        print('Fold %2d AUC : %.6f' % (n_fold + 1, roc_auc_score(valid_y, oof_preds[valid_idx])))\n",
        "        del clf, train_x, train_y, valid_x, valid_y\n",
        "        gc.collect()\n",
        "\n",
        "    print('Full AUC score %.6f' % roc_auc_score(train_df['TARGET'], oof_preds))\n",
        "    # Write submission file and plot feature importance\n",
        "    if not debug:\n",
        "        test_df['TARGET'] = sub_preds\n",
        "        test_df[['SK_ID_CURR', 'TARGET']].to_csv(submission_file_name, index= False)\n",
        "    display_importances(feature_importance_df)\n",
        "    return feature_importance_df\n",
        "\n",
        "# Display/plot feature importance\n",
        "def display_importances(feature_importance_df_):\n",
        "    cols = feature_importance_df_[[\"feature\", \"importance\"]].groupby(\"feature\").mean().sort_values(by=\"importance\", ascending=False)[:40].index\n",
        "    best_features = feature_importance_df_.loc[feature_importance_df_.feature.isin(cols)]\n",
        "    plt.figure(figsize=(8, 10))\n",
        "    sns.barplot(x=\"importance\", y=\"feature\", data=best_features.sort_values(by=\"importance\", ascending=False))\n",
        "    plt.title('LightGBM Features (avg over folds)')\n",
        "    plt.tight_layout()\n",
        "    plt.savefig('lgbm_importances01.png')\n",
        "\n",
        "\n",
        "def main(debug = False):\n",
        "    num_rows = 10000 if debug else None\n",
        "    df = application_train_test(num_rows)\n",
        "    with timer(\"Process bureau and bureau_balance\"):\n",
        "        bureau = bureau_and_balance(num_rows)\n",
        "        print(\"Bureau df shape:\", bureau.shape)\n",
        "        df = df.join(bureau, how='left', on='SK_ID_CURR')\n",
        "        # del bureau\n",
        "        # gc.collect()\n",
        "    with timer(\"Process previous_applications\"):\n",
        "        prev = previous_applications(num_rows)\n",
        "        print(\"Previous applications df shape:\", prev.shape)\n",
        "        df = df.join(prev, how='left', on='SK_ID_CURR')\n",
        "        # del prev\n",
        "        # gc.collect()\n",
        "    with timer(\"Process POS-CASH balance\"):\n",
        "        pos = pos_cash(num_rows)\n",
        "        print(\"Pos-cash balance df shape:\", pos.shape)\n",
        "        df = df.join(pos, how='left', on='SK_ID_CURR')\n",
        "        # del pos\n",
        "        # gc.collect()\n",
        "    with timer(\"Process installments payments\"):\n",
        "        ins = installments_payments(num_rows)\n",
        "        print(\"Installments payments df shape:\", ins.shape)\n",
        "        df = df.join(ins, how='left', on='SK_ID_CURR')\n",
        "        # del ins\n",
        "        # gc.collect()\n",
        "    with timer(\"Process credit card balance\"):\n",
        "        cc = credit_card_balance(num_rows)\n",
        "        print(\"Credit card balance df shape:\", cc.shape)\n",
        "        df = df.join(cc, how='left', on='SK_ID_CURR')\n",
        "        # del cc\n",
        "    return df\n",
        "        # gc.collect()\n",
        "        # return df\n",
        "    # with timer(\"Run LightGBM with kfold\"):\n",
        "    #     feat_importance = kfold_lightgbm(df, num_folds= 10, stratified= False, debug= debug)\n",
        "\n",
        "# if __name__ == \"__main__\":\n",
        "#     submission_file_name = \"submission_kernel02.csv\"\n",
        "#     with timer(\"Full model run\"):\n",
        "#         main()"
      ]
    },
    {
      "cell_type": "code",
      "execution_count": 8,
      "metadata": {
        "colab": {
          "base_uri": "https://localhost:8080/"
        },
        "id": "tDqfArSikQ9X",
        "outputId": "b21311d4-f27f-4af8-94c1-e79e0873b33f"
      },
      "outputs": [
        {
          "output_type": "stream",
          "name": "stdout",
          "text": [
            "Train samples: 307511, test samples: 48744\n",
            "Bureau df shape: (305811, 116)\n",
            "Process bureau and bureau_balance - done in 22s\n",
            "Previous applications df shape: (338857, 249)\n",
            "Process previous_applications - done in 26s\n",
            "Pos-cash balance df shape: (337252, 18)\n",
            "Process POS-CASH balance - done in 12s\n",
            "Installments payments df shape: (339587, 26)\n",
            "Process installments payments - done in 31s\n",
            "Credit card balance df shape: (103558, 141)\n",
            "Process credit card balance - done in 18s\n"
          ]
        }
      ],
      "source": [
        "df = main(debug=False)"
      ]
    },
    {
      "cell_type": "code",
      "execution_count": 9,
      "metadata": {
        "id": "vUQEorTa87yh"
      },
      "outputs": [],
      "source": [
        "df.to_pickle('df_P7_Scoring.plk')"
      ]
    },
    {
      "cell_type": "markdown",
      "metadata": {
        "id": "tpbzW9RTT33R"
      },
      "source": [
        "# Modélisation"
      ]
    },
    {
      "cell_type": "code",
      "source": [
        "# pip install mlflow"
      ],
      "metadata": {
        "id": "EQrmGrvdZTgy"
      },
      "execution_count": 21,
      "outputs": []
    },
    {
      "cell_type": "code",
      "execution_count": null,
      "metadata": {
        "id": "itjv8KgHT82A"
      },
      "outputs": [],
      "source": [
        "# df = pd.read_pickle('df_P7_Scoring.plk')\n",
        "# pd.read_pickle('df_P7_Scoring.plk')"
      ]
    },
    {
      "cell_type": "code",
      "source": [
        "import mlflow\n",
        "import mlflow.sklearn\n",
        "\n",
        "# fonction du MLFlow permettant d'enregistrer les expériences\n",
        "def run_mlflow_experiment(model,\n",
        "                          exp_name,\n",
        "                          #hyperparams,\n",
        "                          scores,\n",
        "                          custom_score\n",
        "                          ):\n",
        "\n",
        "\n",
        "    # Nom de l'expérience\n",
        "    experiment_name = exp_name\n",
        "\n",
        "    # Initialisation de l'expérience\n",
        "    mlflow.set_experiment(experiment_name)\n",
        "\n",
        "    # Démarrage d'un run\n",
        "    with mlflow.start_run(run_name = exp_name) as run:\n",
        "       for metrics, values in scores.items():\n",
        "               mlflow.log_metric(metrics,values)\n",
        "\n",
        "       mlflow.log_metric('custom_metrics',custom_score)\n",
        "       # Enregistrement des hyperparamètres\n",
        "      #  mlflow.log_params(hyperparams)\n",
        "\n",
        "        # Enregistrement du modèle entraîné\n",
        "       mlflow.sklearn.log_model(model, exp_name)\n",
        "\n",
        "    mlflow.end_run()"
      ],
      "metadata": {
        "id": "KqjVDsUVYHaQ"
      },
      "execution_count": 72,
      "outputs": []
    },
    {
      "cell_type": "code",
      "source": [
        "# classification_report"
      ],
      "metadata": {
        "id": "pFWLUlVe3T-M"
      },
      "execution_count": 56,
      "outputs": []
    },
    {
      "cell_type": "code",
      "execution_count": 10,
      "metadata": {
        "id": "O7op8pefp07m"
      },
      "outputs": [],
      "source": [
        "import re\n",
        "df = df.rename(columns = lambda x:re.sub('[^A-Za-z0-9_]+', '', x))\n",
        "train_df = df[df['TARGET'].notnull()]\n",
        "test_df = df[df['TARGET'].isnull()]\n",
        "# df.shape"
      ]
    },
    {
      "cell_type": "code",
      "execution_count": 24,
      "metadata": {
        "colab": {
          "base_uri": "https://localhost:8080/"
        },
        "id": "Zpch1ANUz8eX",
        "outputId": "4b195ded-323d-47b0-8139-6b46d7d0d98e"
      },
      "outputs": [
        {
          "output_type": "stream",
          "name": "stdout",
          "text": [
            "Nombre de ligne 356251\n",
            "Nombre de colonne 798\n",
            "\n",
            "fréquence de la cible\n",
            "0.0    0.92\n",
            "1.0    0.08\n",
            "Name: TARGET, dtype: float64\n"
          ]
        }
      ],
      "source": [
        "print(f'Nombre de ligne {df.shape[0]}')\n",
        "print(f'Nombre de colonne {df.shape[1]}')\n",
        "print()\n",
        "print('fréquence de la cible')\n",
        "print(df['TARGET'].value_counts(normalize =True).round(2))"
      ]
    },
    {
      "cell_type": "code",
      "execution_count": 14,
      "metadata": {
        "id": "2VmO7iTnQe6w"
      },
      "outputs": [],
      "source": [
        "import lightgbm as lgb\n",
        "from sklearn.model_selection import train_test_split, cross_val_score\n",
        "from sklearn.metrics import classification_report, f1_score\n",
        "from sklearn.model_selection import GridSearchCV\n",
        "from sklearn.ensemble import HistGradientBoostingClassifier\n",
        "from sklearn.dummy import DummyClassifier\n",
        "from sklearn.metrics import precision_recall_curve, average_precision_score\n",
        "from sklearn.metrics import confusion_matrix\n",
        "from sklearn.metrics import fbeta_score\n",
        "from sklearn.model_selection import KFold\n"
      ]
    },
    {
      "cell_type": "code",
      "execution_count": 15,
      "metadata": {
        "id": "u3-0v48B4k8p"
      },
      "outputs": [],
      "source": [
        "# Train test split\n",
        "\n",
        "feats = [f for f in train_df.columns if f not in ['TARGET','SK_ID_CURR','SK_ID_BUREAU','SK_ID_PREV','index']]\n",
        "\n",
        "X, y =  train_df[feats].copy(), train_df['TARGET'].copy()\n",
        "\n",
        "X_train, X_test, y_train, y_test = train_test_split(X, y, test_size=0.2, random_state=42)\n",
        "\n",
        "# Déséquilibre des classes\n",
        "class_weight = {0: 0.08, 1: 0.91}\n",
        "\n",
        "# Créez un dataset Light GBM pour l'ensemble d'entraînement\n",
        "# train_data = lgb.Dataset(X_train, label= y_train)\n",
        "\n",
        "# Pénalité plus élevée pour la classe positive (FN plus coûteux)\n",
        "# class_weight = {0: 0.08, 1: 0.91}"
      ]
    },
    {
      "cell_type": "code",
      "execution_count": 16,
      "metadata": {
        "id": "Refz11Rdzw7s"
      },
      "outputs": [],
      "source": [
        "from sklearn.metrics import make_scorer\n",
        "\n",
        "# Définition d'une fonction de métrique personnalisée\n",
        "def custom_metric(y_true, y_pred, seuil=.5):\n",
        "    # Calcul de la matrice de confusion\n",
        "    tn, fp, fn, tp = confusion_matrix(y_true,(y_pred>seuil).astype('int')).ravel()\n",
        "\n",
        "    # Pénalisation des faux négatifs (FN) en multipliant par 2\n",
        "    penalty = 10.0\n",
        "\n",
        "    # Calcul de la métrique personnalisée\n",
        "    custom_score = ((penalty * fn) + fp) /(tp+fn+fp+tn) #/ (tp + fp)\n",
        "\n",
        "    return custom_score\n",
        "\n",
        "\n",
        "custom_scorer = make_scorer(custom_metric, greater_is_better=False)"
      ]
    },
    {
      "cell_type": "markdown",
      "metadata": {
        "id": "gl6rzkNEheML"
      },
      "source": [
        "# Dummy Classifier"
      ]
    },
    {
      "cell_type": "code",
      "execution_count": 17,
      "metadata": {
        "colab": {
          "base_uri": "https://localhost:8080/"
        },
        "id": "XVZHHLrvhdf-",
        "outputId": "dda7cfb3-7e43-4b45-b3cf-ba9192fe2074"
      },
      "outputs": [
        {
          "output_type": "stream",
          "name": "stdout",
          "text": [
            "Score de validation pour le pli 1: 0.9184\n",
            "Score de validation pour le pli 2: 0.9207\n",
            "Score de validation pour le pli 3: 0.9179\n",
            "Score de validation pour le pli 4: 0.9205\n",
            "Score de validation pour le pli 5: 0.9190\n",
            "Moyenne des scores de validation sur les 5 plis : 0.9193\n"
          ]
        }
      ],
      "source": [
        "# Définir le nombre de plis (kfolds = 5)\n",
        "n_splits = 5\n",
        "kf = KFold(n_splits=n_splits, shuffle=True, random_state=42)\n",
        "\n",
        "# Liste pour stocker les scores de validation\n",
        "validation_scores = []\n",
        "preds = []\n",
        "trues = []\n",
        "\n",
        "# Effectuer la validation croisée\n",
        "for train_index, val_index in kf.split(X):\n",
        "    X_train, X_val = X.iloc[train_index], X.iloc[val_index]\n",
        "    y_train, y_val = y.iloc[train_index], y.iloc[val_index]\n",
        "\n",
        "    # Créer et entraîner le modèle DummyClassifier\n",
        "    clf = DummyClassifier()\n",
        "    # clf.set_params(verbosity=-1)\n",
        "    clf.fit(X_train, y_train)\n",
        "\n",
        "    pred = clf.predict_proba(X_val)\n",
        "    preds.append(pred)\n",
        "    trues.append(y_val)\n",
        "\n",
        "    # Évaluer le modèle sur l'ensemble de validation\n",
        "    val_score = clf.score(X_val, y_val)\n",
        "    validation_scores.append(val_score)\n",
        "\n",
        "# Afficher les scores de validation pour chaque pli\n",
        "for i, score in enumerate(validation_scores):\n",
        "    print(f\"Score de validation pour le pli {i + 1}: {score:.4f}\")\n",
        "\n",
        "# Calculer la moyenne des scores de validation\n",
        "mean_validation_score = np.mean(validation_scores)\n",
        "print(f\"Moyenne des scores de validation sur les {n_splits} plis : {mean_validation_score:.4f}\")"
      ]
    },
    {
      "cell_type": "code",
      "execution_count": 29,
      "metadata": {
        "id": "hv_iAOZciMVJ"
      },
      "outputs": [],
      "source": [
        "# Sauvegarde du modèle & Résultats\n",
        "model_dummy_baseline = clf\n",
        "prediction_proba_dummy= np.concatenate(preds)\n",
        "trues_proba = np.concatenate(trues)\n",
        "# custom_metric(y_true=trues_proba,y_pred=prediction_proba_dummy[:,1])"
      ]
    },
    {
      "cell_type": "code",
      "execution_count": 30,
      "metadata": {
        "colab": {
          "base_uri": "https://localhost:8080/"
        },
        "id": "8Ncv3jVZU_Y3",
        "outputId": "2dbd34f4-f2e0-4fc5-af8a-0ebcfcf54dee"
      },
      "outputs": [
        {
          "output_type": "stream",
          "name": "stdout",
          "text": [
            "Score personnalisé avec pénalité :  0.8073\n"
          ]
        }
      ],
      "source": [
        "print(\n",
        "    'Score personnalisé avec pénalité : ',\n",
        "    round(custom_metric(y_true=trues_proba,\n",
        "                        y_pred=prediction_proba_dummy[:,1]),\n",
        "          4)\n",
        "    )"
      ]
    },
    {
      "cell_type": "code",
      "execution_count": 44,
      "metadata": {
        "colab": {
          "base_uri": "https://localhost:8080/"
        },
        "id": "ByMjhzJSihdO",
        "outputId": "65a41504-8d0e-41a9-f68d-ac96e07fee7d"
      },
      "outputs": [
        {
          "output_type": "stream",
          "name": "stdout",
          "text": [
            "              precision    recall  f1-score   support\n",
            "\n",
            "         0.0       0.92      1.00      0.96    282682\n",
            "         1.0       0.00      0.00      0.00     24825\n",
            "\n",
            "    accuracy                           0.92    307507\n",
            "   macro avg       0.46      0.50      0.48    307507\n",
            "weighted avg       0.85      0.92      0.88    307507\n",
            "\n"
          ]
        }
      ],
      "source": [
        "print(\n",
        "    classification_report(trues_proba, (prediction_proba_dummy[:,1] > 0.5).astype(int), zero_division = 0 )\n",
        "    )"
      ]
    },
    {
      "cell_type": "code",
      "source": [
        "tmp = classification_report(trues_proba, (prediction_proba_dummy[:,1] > 0.5).astype(int), zero_division = 0,output_dict=True )\n",
        "tmp"
      ],
      "metadata": {
        "colab": {
          "base_uri": "https://localhost:8080/"
        },
        "id": "gbiAcf5ODcqr",
        "outputId": "aa83780b-cde6-4d7d-fa34-0ea1d832e420"
      },
      "execution_count": 50,
      "outputs": [
        {
          "output_type": "execute_result",
          "data": {
            "text/plain": [
              "{'0.0': {'precision': 0.9192701304360551,\n",
              "  'recall': 1.0,\n",
              "  'f1-score': 0.957937203167121,\n",
              "  'support': 282682},\n",
              " '1.0': {'precision': 0.0, 'recall': 0.0, 'f1-score': 0.0, 'support': 24825},\n",
              " 'accuracy': 0.9192701304360551,\n",
              " 'macro avg': {'precision': 0.45963506521802755,\n",
              "  'recall': 0.5,\n",
              "  'f1-score': 0.4789686015835605,\n",
              "  'support': 307507},\n",
              " 'weighted avg': {'precision': 0.8450575727119217,\n",
              "  'recall': 0.9192701304360551,\n",
              "  'f1-score': 0.8806030577049891,\n",
              "  'support': 307507}}"
            ]
          },
          "metadata": {},
          "execution_count": 50
        }
      ]
    },
    {
      "cell_type": "code",
      "source": [
        "custom_metric_dummy = custom_metric(y_true=trues_proba,\n",
        "                        y_pred=prediction_proba_dummy[:,1])\n",
        "\n",
        "run_mlflow_experiment(DummyClassifier,\n",
        "                      'Baseline_dummy',\n",
        "                      tmp['macro avg'],\n",
        "                      custom_metric_dummy\n",
        "                      )"
      ],
      "metadata": {
        "id": "uzCyuSSLhZVx"
      },
      "execution_count": 70,
      "outputs": []
    },
    {
      "cell_type": "markdown",
      "metadata": {
        "id": "5YQV56sNwevw"
      },
      "source": [
        "# Baseline LGBM Cross Validation no class weights\n"
      ]
    },
    {
      "cell_type": "code",
      "execution_count": 36,
      "metadata": {
        "colab": {
          "base_uri": "https://localhost:8080/"
        },
        "id": "zRX5mEvkwqGH",
        "outputId": "998f0467-c1b0-4660-d275-6f89853b3695"
      },
      "outputs": [
        {
          "output_type": "stream",
          "name": "stdout",
          "text": [
            "Score de validation pour le pli 1: 0.9194\n",
            "Score de validation pour le pli 2: 0.9213\n",
            "Score de validation pour le pli 3: 0.9181\n",
            "Score de validation pour le pli 4: 0.9213\n",
            "Score de validation pour le pli 5: 0.9197\n",
            "Moyenne des scores de validation sur les 5 plis : 0.9200\n"
          ]
        }
      ],
      "source": [
        "# Définir le nombre de plis (kfolds = 5)\n",
        "n_splits = 5\n",
        "kf = KFold(n_splits=n_splits, shuffle=True, random_state=42)\n",
        "\n",
        "# Liste pour stocker les scores de validation\n",
        "validation_scores = []\n",
        "preds = []\n",
        "trues = []\n",
        "\n",
        "# Effectuer la validation croisée\n",
        "for train_index, val_index in kf.split(X):\n",
        "    X_train, X_val = X.iloc[train_index], X.iloc[val_index]\n",
        "    y_train, y_val = y.iloc[train_index], y.iloc[val_index]\n",
        "\n",
        "    # Créer et entraîner le modèle LightGBM\n",
        "    clf = lgb.LGBMClassifier()\n",
        "    clf.set_params(verbosity = -1)\n",
        "    clf.fit(X_train, y_train)\n",
        "\n",
        "    pred = clf.predict_proba(X_val)\n",
        "    preds.append(pred)\n",
        "    trues.append(y_val)\n",
        "\n",
        "    # Évaluer le modèle sur l'ensemble de validation\n",
        "    val_score = clf.score(X_val, y_val)\n",
        "    validation_scores.append(val_score)\n",
        "\n",
        "# Afficher les scores de validation pour chaque pli\n",
        "for i, score in enumerate(validation_scores):\n",
        "    print(f\"Score de validation pour le pli {i + 1}: {score:.4f}\")\n",
        "\n",
        "# Calculer la moyenne des scores de validation\n",
        "mean_validation_score = np.mean(validation_scores)\n",
        "print(f\"Moyenne des scores de validation sur les {n_splits} plis : {mean_validation_score:.4f}\")"
      ]
    },
    {
      "cell_type": "code",
      "execution_count": 37,
      "metadata": {
        "id": "914Hu7_TzPGW"
      },
      "outputs": [],
      "source": [
        "# Sauvegarde du modèle & Résultats\n",
        "model_lgbm_class_baseline = clf\n",
        "prediction_proba_baseline = np.concatenate(preds)\n",
        "trues_proba = np.concatenate(trues)\n",
        "# custom_metric(y_true=trues_proba,y_pred=prediction_proba_baseline[:,1])"
      ]
    },
    {
      "cell_type": "code",
      "execution_count": 76,
      "metadata": {
        "colab": {
          "base_uri": "https://localhost:8080/"
        },
        "id": "TgN6wUpxaPJH",
        "outputId": "c2f62e2b-1847-4c6b-9283-122abad2391b"
      },
      "outputs": [
        {
          "output_type": "stream",
          "name": "stdout",
          "text": [
            "Score personnalisé avec pénalité :  0.7766\n"
          ]
        }
      ],
      "source": [
        "print(\n",
        "    'Score personnalisé avec pénalité : ',\n",
        "    round(custom_metric(y_true=trues_proba,y_pred=prediction_proba_baseline[:,1]),4)\n",
        "    )"
      ]
    },
    {
      "cell_type": "code",
      "execution_count": 74,
      "metadata": {
        "colab": {
          "base_uri": "https://localhost:8080/",
          "height": 333
        },
        "id": "uSD00wPz0EEc",
        "outputId": "152dfd4d-8e0e-4c31-e2fc-d77157460291"
      },
      "outputs": [
        {
          "output_type": "display_data",
          "data": {
            "text/plain": [
              "<Figure size 300x300 with 2 Axes>"
            ],
            "image/png": "[encoded data removed]"
          },
          "metadata": {}
        }
      ],
      "source": [
        "def matrice_conf_plot(y_test, y_pred, seuil):\n",
        "  from sklearn.metrics import confusion_matrix\n",
        "  conf_matrix = confusion_matrix(y_test, (y_pred[:,1] > seuil).astype(int))\n",
        "  # Affichez la matrice de confusion\n",
        "  plt.figure(figsize=(3, 3))\n",
        "  sns.heatmap(conf_matrix, annot=True, fmt='d', cmap='Blues')\n",
        "  plt.xlabel('Prédictions')\n",
        "  plt.ylabel('Vraies étiquettes')\n",
        "  plt.title('Matrice de Confusion')\n",
        "  return plt.show()\n",
        "\n",
        "matrice_conf_plot(y_test = trues_proba, y_pred = prediction_proba_baseline, seuil = .7)"
      ]
    },
    {
      "cell_type": "code",
      "source": [
        "cls_report_baseline = classification_report(trues_proba, (prediction_proba_baseline[:,1] > 0.5).astype(int), zero_division = 0,output_dict=True )\n",
        "custom_metric_lgbm_baseline = custom_metric(y_true=trues_proba,y_pred=prediction_proba_baseline[:,1])"
      ],
      "metadata": {
        "id": "whtVfKNX2XAZ"
      },
      "execution_count": 78,
      "outputs": []
    },
    {
      "cell_type": "code",
      "source": [
        "# Sauvegarde du modèle via Mlflow\n",
        "run_mlflow_experiment(\n",
        "    model_lgbm_class_baseline,\n",
        "    'model_lgbm_class_baseline',\n",
        "    cls_report_baseline['macro avg'],\n",
        "    custom_metric_lgbm_baseline\n",
        ")"
      ],
      "metadata": {
        "colab": {
          "base_uri": "https://localhost:8080/"
        },
        "id": "L9Ji_76J2jmD",
        "outputId": "ea8a6510-1a37-4a80-bd78-940638e2586a"
      },
      "execution_count": 79,
      "outputs": [
        {
          "output_type": "stream",
          "name": "stderr",
          "text": [
            "2023/12/06 16:01:37 INFO mlflow.tracking.fluent: Experiment with name 'model_lgbm_class_baseline' does not exist. Creating a new experiment.\n"
          ]
        }
      ]
    },
    {
      "cell_type": "code",
      "execution_count": 75,
      "metadata": {
        "colab": {
          "base_uri": "https://localhost:8080/"
        },
        "id": "o9rjd3rG0jSk",
        "outputId": "3cfc8df2-32de-40d7-efbb-5a386323ffb4"
      },
      "outputs": [
        {
          "output_type": "stream",
          "name": "stdout",
          "text": [
            "              precision    recall  f1-score   support\n",
            "\n",
            "         0.0       0.92      1.00      0.96    282682\n",
            "         1.0       0.63      0.01      0.03     24825\n",
            "\n",
            "    accuracy                           0.92    307507\n",
            "   macro avg       0.77      0.51      0.49    307507\n",
            "weighted avg       0.90      0.92      0.88    307507\n",
            "\n",
            "              precision    recall  f1-score   support\n",
            "\n",
            "         0.0       0.92      1.00      0.96    282682\n",
            "         1.0       0.70      0.00      0.01     24825\n",
            "\n",
            "    accuracy                           0.92    307507\n",
            "   macro avg       0.81      0.50      0.48    307507\n",
            "weighted avg       0.90      0.92      0.88    307507\n",
            "\n",
            "              precision    recall  f1-score   support\n",
            "\n",
            "         0.0       0.92      1.00      0.96    282682\n",
            "         1.0       0.88      0.00      0.00     24825\n",
            "\n",
            "    accuracy                           0.92    307507\n",
            "   macro avg       0.90      0.50      0.48    307507\n",
            "weighted avg       0.92      0.92      0.88    307507\n",
            "\n"
          ]
        }
      ],
      "source": [
        "y_pred = prediction_proba_baseline[:,1]\n",
        "# y_test = trues_proba\n",
        "\n",
        "# # Évaluez le modèle\n",
        "print(classification_report(trues_proba, (y_pred > 0.6).astype(int)))\n",
        "print(classification_report(trues_proba, (y_pred > 0.7).astype(int)))\n",
        "print(classification_report(trues_proba, (y_pred > 0.8).astype(int)))"
      ]
    },
    {
      "cell_type": "code",
      "execution_count": null,
      "metadata": {
        "colab": {
          "base_uri": "https://localhost:8080/",
          "height": 410
        },
        "id": "DrI5AbMrzeyR",
        "outputId": "ebcb9a97-27b9-44d7-bc3a-28415cb30b46"
      },
      "outputs": [
        {
          "data": {
            "image/png": "[encoded data removed]",
            "text/plain": [
              "<Figure size 400x400 with 1 Axes>"
            ]
          },
          "metadata": {},
          "output_type": "display_data"
        }
      ],
      "source": [
        "def courbe_precision_recall(y_test,y_pred):\n",
        "  # Calculer la courbe de précision-recall\n",
        "  precision, recall, thresholds = precision_recall_curve(y_test, y_pred[:,1])\n",
        "\n",
        "  # Calculer l'aire sous la courbe de précision-recall (AUC-PR)\n",
        "  auc_pr = average_precision_score(y_test, y_pred[:,1])\n",
        "\n",
        "  # Tracer la courbe de précision-recall\n",
        "  plt.figure(figsize=(4, 4))\n",
        "  plt.plot(recall, precision, marker='.', markersize=0.1)\n",
        "  plt.xlabel('Rappel (Recall)')\n",
        "  plt.ylabel('Précision (Precision)')\n",
        "  plt.title('Courbe de Précision-Recall')\n",
        "  plt.legend([f'AUC-PR = {auc_pr:.2f}'], loc='lower left')\n",
        "  plt.grid(True)\n",
        "  return plt.show()\n",
        "\n",
        "courbe_precision_recall(y_test=trues_proba,y_pred=prediction_proba_baseline)"
      ]
    },
    {
      "cell_type": "markdown",
      "metadata": {
        "id": "0zOQxS7AvRTx"
      },
      "source": [
        "# I. validation croisée d'un modèle lightgbm avec class_weights"
      ]
    },
    {
      "cell_type": "code",
      "execution_count": null,
      "metadata": {
        "id": "_a-l62SMf3jg"
      },
      "outputs": [],
      "source": [
        "# ?clf"
      ]
    },
    {
      "cell_type": "code",
      "execution_count": 80,
      "metadata": {
        "colab": {
          "base_uri": "https://localhost:8080/"
        },
        "id": "n0pU5zyjzLbI",
        "outputId": "99031e3d-58e1-4f14-8dca-b36387134e45"
      },
      "outputs": [
        {
          "output_type": "stream",
          "name": "stdout",
          "text": [
            "Score de validation pour le pli 1: 0.7352\n",
            "Score de validation pour le pli 2: 0.7298\n",
            "Score de validation pour le pli 3: 0.7311\n",
            "Score de validation pour le pli 4: 0.7322\n",
            "Score de validation pour le pli 5: 0.7322\n",
            "Moyenne des scores de validation sur les 5 plis : 0.7321\n"
          ]
        }
      ],
      "source": [
        "# Définir le nombre de plis (kfolds = 5)\n",
        "n_splits = 5\n",
        "kf = KFold(n_splits=n_splits, shuffle=True, random_state=42)\n",
        "\n",
        "# Liste pour stocker les scores de validation\n",
        "validation_scores = []\n",
        "preds = []\n",
        "trues = []\n",
        "\n",
        "# Effectuer la validation croisée\n",
        "for train_index, val_index in kf.split(X):\n",
        "    X_train, X_val = X.iloc[train_index], X.iloc[val_index]\n",
        "    y_train, y_val = y.iloc[train_index], y.iloc[val_index]\n",
        "\n",
        "    # Créer et entraîner le modèle LightGBM avec les poids de classe\n",
        "    clf = lgb.LGBMClassifier(class_weight=class_weight)\n",
        "    clf.set_params(verbosity=-1)\n",
        "    clf.fit(X_train, y_train)\n",
        "\n",
        "    pred = clf.predict_proba(X_val)\n",
        "    preds.append(pred)\n",
        "    trues.append(y_val)\n",
        "\n",
        "    # Évaluer le modèle sur l'ensemble de validation\n",
        "    val_score = clf.score(X_val, y_val)\n",
        "    validation_scores.append(val_score)\n",
        "\n",
        "# Afficher les scores de validation pour chaque pli\n",
        "for i, score in enumerate(validation_scores):\n",
        "    print(f\"Score de validation pour le pli {i + 1}: {score:.4f}\")\n",
        "\n",
        "# Calculer la moyenne des scores de validation\n",
        "mean_validation_score = np.mean(validation_scores)\n",
        "print(f\"Moyenne des scores de validation sur les {n_splits} plis : {mean_validation_score:.4f}\")"
      ]
    },
    {
      "cell_type": "code",
      "execution_count": 81,
      "metadata": {
        "id": "QiBqgBEV0muZ"
      },
      "outputs": [],
      "source": [
        "# Sauvegarde du modèle & Résultats\n",
        "model_lgbm_class_weight = clf\n",
        "prediction_proba_weights = np.concatenate(preds)\n",
        "trues_proba = np.concatenate(trues)\n",
        "# custom_metric(y_true=trues_proba,y_pred=prediction_proba_weights[:,1])"
      ]
    },
    {
      "cell_type": "code",
      "execution_count": 82,
      "metadata": {
        "colab": {
          "base_uri": "https://localhost:8080/"
        },
        "id": "NnbV7UmEefbE",
        "outputId": "37042b90-b01c-4bdc-9f3f-5c49e7f49e50"
      },
      "outputs": [
        {
          "output_type": "stream",
          "name": "stdout",
          "text": [
            "Score personnalisé avec pénalité :  0.4923\n"
          ]
        }
      ],
      "source": [
        "print(\n",
        "    'Score personnalisé avec pénalité : ',\n",
        "    round(custom_metric(y_true=trues_proba,y_pred=prediction_proba_weights[:,1]),4)\n",
        "    )"
      ]
    },
    {
      "cell_type": "code",
      "source": [
        "# Sauvegarde du modèle via mlflow\n",
        "\n",
        "cls_report_class_weights = classification_report(trues_proba, (prediction_proba_weights[:,1] > 0.5).astype(int), zero_division = 0,output_dict=True )\n",
        "custom_metric_class_weights = custom_metric(y_true=trues_proba,y_pred=prediction_proba_weights[:,1])\n",
        "\n",
        "run_mlflow_experiment(\n",
        "    model_lgbm_class_weight,\n",
        "    'model_lgbm_class_weight',\n",
        "    cls_report_class_weights['macro avg'],\n",
        "    custom_metric_class_weights\n",
        ")"
      ],
      "metadata": {
        "colab": {
          "base_uri": "https://localhost:8080/"
        },
        "id": "bfzNUGW7409P",
        "outputId": "0c659b3b-9173-446a-908f-f89e585560f3"
      },
      "execution_count": 83,
      "outputs": [
        {
          "output_type": "stream",
          "name": "stderr",
          "text": [
            "2023/12/06 16:15:52 INFO mlflow.tracking.fluent: Experiment with name 'model_lgbm_class_weight' does not exist. Creating a new experiment.\n"
          ]
        }
      ]
    },
    {
      "cell_type": "code",
      "execution_count": null,
      "metadata": {
        "colab": {
          "base_uri": "https://localhost:8080/"
        },
        "id": "A7AF4SmzSPiU",
        "outputId": "80c9827e-f985-478e-e3ac-680f8ac67c41"
      },
      "outputs": [
        {
          "name": "stdout",
          "output_type": "stream",
          "text": [
            "              precision    recall  f1-score   support\n",
            "\n",
            "         0.0       0.97      0.61      0.75    282682\n",
            "         1.0       0.15      0.80      0.26     24825\n",
            "\n",
            "    accuracy                           0.63    307507\n",
            "   macro avg       0.56      0.71      0.50    307507\n",
            "weighted avg       0.91      0.63      0.71    307507\n",
            "\n",
            "              precision    recall  f1-score   support\n",
            "\n",
            "         0.0       0.96      0.74      0.83    282682\n",
            "         1.0       0.19      0.69      0.29     24825\n",
            "\n",
            "    accuracy                           0.73    307507\n",
            "   macro avg       0.58      0.71      0.56    307507\n",
            "weighted avg       0.90      0.73      0.79    307507\n",
            "\n",
            "              precision    recall  f1-score   support\n",
            "\n",
            "         0.0       0.96      0.84      0.89    282682\n",
            "         1.0       0.23      0.55      0.32     24825\n",
            "\n",
            "    accuracy                           0.81    307507\n",
            "   macro avg       0.59      0.69      0.61    307507\n",
            "weighted avg       0.90      0.81      0.85    307507\n",
            "\n",
            "              precision    recall  f1-score   support\n",
            "\n",
            "         0.0       0.94      0.92      0.93    282682\n",
            "         1.0       0.29      0.39      0.33     24825\n",
            "\n",
            "    accuracy                           0.87    307507\n",
            "   macro avg       0.62      0.65      0.63    307507\n",
            "weighted avg       0.89      0.87      0.88    307507\n",
            "\n",
            "              precision    recall  f1-score   support\n",
            "\n",
            "         0.0       0.93      0.97      0.95    282682\n",
            "         1.0       0.39      0.19      0.26     24825\n",
            "\n",
            "    accuracy                           0.91    307507\n",
            "   macro avg       0.66      0.58      0.60    307507\n",
            "weighted avg       0.89      0.91      0.90    307507\n",
            "\n"
          ]
        }
      ],
      "source": [
        "y_pred = prediction_proba_weights[:,1]\n",
        "\n",
        "# # Évaluez le modèle\n",
        "print(classification_report(trues_proba, (y_pred > 0.4).astype(int)))\n",
        "print(classification_report(trues_proba, (y_pred > 0.5).astype(int)))\n",
        "print(classification_report(trues_proba, (y_pred > 0.6).astype(int)))\n",
        "print(classification_report(trues_proba, (y_pred > 0.7).astype(int)))\n",
        "print(classification_report(trues_proba, (y_pred > 0.8).astype(int)))"
      ]
    },
    {
      "cell_type": "code",
      "execution_count": null,
      "metadata": {
        "id": "P32yj4oBfKIR"
      },
      "outputs": [],
      "source": [
        "# def courbe_precision_recall(y_test,y_pred):\n",
        "#   # Calculer la courbe de précision-recall\n",
        "#   precision, recall, thresholds = precision_recall_curve(y_test, y_pred)\n",
        "\n",
        "#   # Calculer l'aire sous la courbe de précision-recall (AUC-PR)\n",
        "#   auc_pr = average_precision_score(y_test, y_pred)\n",
        "\n",
        "#   # Tracer la courbe de précision-recall\n",
        "#   plt.figure(figsize=(4, 4))\n",
        "#   plt.plot(recall, precision, marker='.', markersize=0.1)\n",
        "#   plt.xlabel('Rappel (Recall)')\n",
        "#   plt.ylabel('Précision (Precision)')\n",
        "#   plt.title('Courbe de Précision-Recall')\n",
        "#   plt.legend([f'AUC-PR = {auc_pr:.2f}'], loc='lower left')\n",
        "#   plt.grid(True)\n",
        "#   return plt.show()\n",
        "\n",
        "# courbe_precision_recall(trues_proba,y_pred)"
      ]
    },
    {
      "cell_type": "code",
      "execution_count": null,
      "metadata": {
        "id": "W6xRQriAd42K"
      },
      "outputs": [],
      "source": [
        "# # Calculer le score F1 pour chaque seuil\n",
        "# precision, recall, thresholds = precision_recall_curve(y_test, y_pred)\n",
        "# f1_scores = [2 * (p * r) / (p + r) if (p + r) > 0 else 0 for p, r in zip(precision, recall)]\n",
        "# # thresholds = f1_scores[:-1]\n",
        "# # Tracer la courbe F1-score en fonction du seuil\n",
        "# plt.figure(figsize=(8, 6))\n",
        "# plt.plot(thresholds, f1_scores, marker='.')\n",
        "# plt.xlabel('Seuil de Classification')\n",
        "# plt.ylabel('Score F1')\n",
        "# plt.title('Courbe F1-score en fonction du seuil de classification')\n",
        "# plt.grid(True)\n",
        "# plt.show()"
      ]
    },
    {
      "cell_type": "code",
      "execution_count": null,
      "metadata": {
        "id": "KZMjMAHOYO4c"
      },
      "outputs": [],
      "source": [
        "# Définition des seuils de classification pour lesquels on va calculer\n",
        "# les f1 scores\n",
        "# threshold_array = np.linspace(0, 1, 100)\n",
        "# f1_list = []\n",
        "\n",
        "# for threshold in threshold_array:\n",
        "#     # Labels prédits pour un seuil donné\n",
        "#     label_pred_threshold = (y_pred > threshold).astype(int)\n",
        "#     # Calcul du f1 pour un seuil donné\n",
        "#     f1_threshold = f1_score(\n",
        "#         y_true=y_test, y_pred=label_pred_threshold\n",
        "#     )\n",
        "\n",
        "#     f1_list.append(f1_threshold)\n",
        "# plt.figure(figsize=(4,4))\n",
        "# plt.plot(threshold_array, f1_list)\n",
        "# plt.show()\n",
        "# print('Valeur max de f1_score : ',max(f1_list))"
      ]
    },
    {
      "cell_type": "code",
      "execution_count": 84,
      "metadata": {
        "colab": {
          "base_uri": "https://localhost:8080/",
          "height": 333
        },
        "id": "ebq_5DUxScNK",
        "outputId": "4285a48d-da05-4731-f4ac-f8c2fa81f2ac"
      },
      "outputs": [
        {
          "output_type": "display_data",
          "data": {
            "text/plain": [
              "<Figure size 300x300 with 2 Axes>"
            ],
            "image/png": "[encoded data removed]"
          },
          "metadata": {}
        }
      ],
      "source": [
        "\n",
        "matrice_conf_plot(\n",
        "    y_test = trues_proba,\n",
        "    y_pred = prediction_proba_weights,\n",
        "    seuil = .7\n",
        "    )"
      ]
    },
    {
      "cell_type": "code",
      "execution_count": null,
      "metadata": {
        "id": "i8SBvdy2-MD1"
      },
      "outputs": [],
      "source": [
        "# from sklearn.metrics import get_scorer_names\n",
        "# custom_metric.get_scorer_names()"
      ]
    },
    {
      "cell_type": "code",
      "execution_count": 85,
      "metadata": {
        "colab": {
          "base_uri": "https://localhost:8080/",
          "height": 116
        },
        "id": "ZZTC0IDw6vu9",
        "outputId": "fccb5810-fbc7-41ee-bca7-77c72a6d1e83"
      },
      "outputs": [
        {
          "output_type": "execute_result",
          "data": {
            "text/plain": [
              "RandomizedSearchCV(cv=5,\n",
              "                   estimator=LGBMClassifier(class_weight={0: 0.08, 1: 0.91},\n",
              "                                            verbosity=-1),\n",
              "                   param_distributions={'bagging_fraction': array([0.6, 0.7, 0.8, 0.9]),\n",
              "                                        'bagging_freq': array([1, 2, 3, 4, 5, 6, 7, 8, 9]),\n",
              "                                        'boosting_type': ['gbdt', 'dart',\n",
              "                                                          'goss'],\n",
              "                                        'feature_fraction': array([0.6, 0.7, 0.8, 0.9]),\n",
              "                                        'learning_rate': [0.01, 0.05, 0.1, 0.2],\n",
              "                                        'metric': ['binary_logloss'],\n",
              "                                        'num_leaves': array([ 20,  30,  40,  50,  60,  70,  80,  90, 100, 110, 120, 130, 140]),\n",
              "                                        'objective': ['binary'],\n",
              "                                        'verbose': [0]},\n",
              "                   random_state=42,\n",
              "                   scoring=make_scorer(custom_metric, greater_is_better=False))"
            ],
            "text/html": [
              "<style>#sk-container-id-2 {color: black;background-color: white;}#sk-container-id-2 pre{padding: 0;}#sk-container-id-2 div.sk-toggleable {background-color: white;}#sk-container-id-2 label.sk-toggleable__label {cursor: pointer;display: block;width: 100%;margin-bottom: 0;padding: 0.3em;box-sizing: border-box;text-align: center;}#sk-container-id-2 label.sk-toggleable__label-arrow:before {content: \"▸\";float: left;margin-right: 0.25em;color: #696969;}#sk-container-id-2 label.sk-toggleable__label-arrow:hover:before {color: black;}#sk-container-id-2 div.sk-estimator:hover label.sk-toggleable__label-arrow:before {color: black;}#sk-container-id-2 div.sk-toggleable__content {max-height: 0;max-width: 0;overflow: hidden;text-align: left;background-color: #f0f8ff;}#sk-container-id-2 div.sk-toggleable__content pre {margin: 0.2em;color: black;border-radius: 0.25em;background-color: #f0f8ff;}#sk-container-id-2 input.sk-toggleable__control:checked~div.sk-toggleable__content {max-height: 200px;max-width: 100%;overflow: auto;}#sk-container-id-2 input.sk-toggleable__control:checked~label.sk-toggleable__label-arrow:before {content: \"▾\";}#sk-container-id-2 div.sk-estimator input.sk-toggleable__control:checked~label.sk-toggleable__label {background-color: #d4ebff;}#sk-container-id-2 div.sk-label input.sk-toggleable__control:checked~label.sk-toggleable__label {background-color: #d4ebff;}#sk-container-id-2 input.sk-hidden--visually {border: 0;clip: rect(1px 1px 1px 1px);clip: rect(1px, 1px, 1px, 1px);height: 1px;margin: -1px;overflow: hidden;padding: 0;position: absolute;width: 1px;}#sk-container-id-2 div.sk-estimator {font-family: monospace;background-color: #f0f8ff;border: 1px dotted black;border-radius: 0.25em;box-sizing: border-box;margin-bottom: 0.5em;}#sk-container-id-2 div.sk-estimator:hover {background-color: #d4ebff;}#sk-container-id-2 div.sk-parallel-item::after {content: \"\";width: 100%;border-bottom: 1px solid gray;flex-grow: 1;}#sk-container-id-2 div.sk-label:hover label.sk-toggleable__label {background-color: #d4ebff;}#sk-container-id-2 div.sk-serial::before {content: \"\";position: absolute;border-left: 1px solid gray;box-sizing: border-box;top: 0;bottom: 0;left: 50%;z-index: 0;}#sk-container-id-2 div.sk-serial {display: flex;flex-direction: column;align-items: center;background-color: white;padding-right: 0.2em;padding-left: 0.2em;position: relative;}#sk-container-id-2 div.sk-item {position: relative;z-index: 1;}#sk-container-id-2 div.sk-parallel {display: flex;align-items: stretch;justify-content: center;background-color: white;position: relative;}#sk-container-id-2 div.sk-item::before, #sk-container-id-2 div.sk-parallel-item::before {content: \"\";position: absolute;border-left: 1px solid gray;box-sizing: border-box;top: 0;bottom: 0;left: 50%;z-index: -1;}#sk-container-id-2 div.sk-parallel-item {display: flex;flex-direction: column;z-index: 1;position: relative;background-color: white;}#sk-container-id-2 div.sk-parallel-item:first-child::after {align-self: flex-end;width: 50%;}#sk-container-id-2 div.sk-parallel-item:last-child::after {align-self: flex-start;width: 50%;}#sk-container-id-2 div.sk-parallel-item:only-child::after {width: 0;}#sk-container-id-2 div.sk-dashed-wrapped {border: 1px dashed gray;margin: 0 0.4em 0.5em 0.4em;box-sizing: border-box;padding-bottom: 0.4em;background-color: white;}#sk-container-id-2 div.sk-label label {font-family: monospace;font-weight: bold;display: inline-block;line-height: 1.2em;}#sk-container-id-2 div.sk-label-container {text-align: center;}#sk-container-id-2 div.sk-container {/* jupyter's `normalize.less` sets `[hidden] { display: none; }` but bootstrap.min.css set `[hidden] { display: none !important; }` so we also need the `!important` here to be able to override the default hidden behavior on the sphinx rendered scikit-learn.org. See: https://github.com/scikit-learn/scikit-learn/issues/21755 */display: inline-block !important;position: relative;}#sk-container-id-2 div.sk-text-repr-fallback {display: none;}</style><div id=\"sk-container-id-2\" class=\"sk-top-container\"><div class=\"sk-text-repr-fallback\"><pre>RandomizedSearchCV(cv=5,\n",
              "                   estimator=LGBMClassifier(class_weight={0: 0.08, 1: 0.91},\n",
              "                                            verbosity=-1),\n",
              "                   param_distributions={&#x27;bagging_fraction&#x27;: array([0.6, 0.7, 0.8, 0.9]),\n",
              "                                        &#x27;bagging_freq&#x27;: array([1, 2, 3, 4, 5, 6, 7, 8, 9]),\n",
              "                                        &#x27;boosting_type&#x27;: [&#x27;gbdt&#x27;, &#x27;dart&#x27;,\n",
              "                                                          &#x27;goss&#x27;],\n",
              "                                        &#x27;feature_fraction&#x27;: array([0.6, 0.7, 0.8, 0.9]),\n",
              "                                        &#x27;learning_rate&#x27;: [0.01, 0.05, 0.1, 0.2],\n",
              "                                        &#x27;metric&#x27;: [&#x27;binary_logloss&#x27;],\n",
              "                                        &#x27;num_leaves&#x27;: array([ 20,  30,  40,  50,  60,  70,  80,  90, 100, 110, 120, 130, 140]),\n",
              "                                        &#x27;objective&#x27;: [&#x27;binary&#x27;],\n",
              "                                        &#x27;verbose&#x27;: [0]},\n",
              "                   random_state=42,\n",
              "                   scoring=make_scorer(custom_metric, greater_is_better=False))</pre><b>In a Jupyter environment, please rerun this cell to show the HTML representation or trust the notebook. <br />On GitHub, the HTML representation is unable to render, please try loading this page with nbviewer.org.</b></div><div class=\"sk-container\" hidden><div class=\"sk-item sk-dashed-wrapped\"><div class=\"sk-label-container\"><div class=\"sk-label sk-toggleable\"><input class=\"sk-toggleable__control sk-hidden--visually\" id=\"sk-estimator-id-2\" type=\"checkbox\" ><label for=\"sk-estimator-id-2\" class=\"sk-toggleable__label sk-toggleable__label-arrow\">RandomizedSearchCV</label><div class=\"sk-toggleable__content\"><pre>RandomizedSearchCV(cv=5,\n",
              "                   estimator=LGBMClassifier(class_weight={0: 0.08, 1: 0.91},\n",
              "                                            verbosity=-1),\n",
              "                   param_distributions={&#x27;bagging_fraction&#x27;: array([0.6, 0.7, 0.8, 0.9]),\n",
              "                                        &#x27;bagging_freq&#x27;: array([1, 2, 3, 4, 5, 6, 7, 8, 9]),\n",
              "                                        &#x27;boosting_type&#x27;: [&#x27;gbdt&#x27;, &#x27;dart&#x27;,\n",
              "                                                          &#x27;goss&#x27;],\n",
              "                                        &#x27;feature_fraction&#x27;: array([0.6, 0.7, 0.8, 0.9]),\n",
              "                                        &#x27;learning_rate&#x27;: [0.01, 0.05, 0.1, 0.2],\n",
              "                                        &#x27;metric&#x27;: [&#x27;binary_logloss&#x27;],\n",
              "                                        &#x27;num_leaves&#x27;: array([ 20,  30,  40,  50,  60,  70,  80,  90, 100, 110, 120, 130, 140]),\n",
              "                                        &#x27;objective&#x27;: [&#x27;binary&#x27;],\n",
              "                                        &#x27;verbose&#x27;: [0]},\n",
              "                   random_state=42,\n",
              "                   scoring=make_scorer(custom_metric, greater_is_better=False))</pre></div></div></div><div class=\"sk-parallel\"><div class=\"sk-parallel-item\"><div class=\"sk-item\"><div class=\"sk-label-container\"><div class=\"sk-label sk-toggleable\"><input class=\"sk-toggleable__control sk-hidden--visually\" id=\"sk-estimator-id-3\" type=\"checkbox\" ><label for=\"sk-estimator-id-3\" class=\"sk-toggleable__label sk-toggleable__label-arrow\">estimator: LGBMClassifier</label><div class=\"sk-toggleable__content\"><pre>LGBMClassifier(class_weight={0: 0.08, 1: 0.91}, verbosity=-1)</pre></div></div></div><div class=\"sk-serial\"><div class=\"sk-item\"><div class=\"sk-estimator sk-toggleable\"><input class=\"sk-toggleable__control sk-hidden--visually\" id=\"sk-estimator-id-4\" type=\"checkbox\" ><label for=\"sk-estimator-id-4\" class=\"sk-toggleable__label sk-toggleable__label-arrow\">LGBMClassifier</label><div class=\"sk-toggleable__content\"><pre>LGBMClassifier(class_weight={0: 0.08, 1: 0.91}, verbosity=-1)</pre></div></div></div></div></div></div></div></div></div></div>"
            ]
          },
          "metadata": {},
          "execution_count": 85
        }
      ],
      "source": [
        "from sklearn.model_selection import RandomizedSearchCV\n",
        "from sklearn.metrics import get_scorer_names\n",
        "\n",
        "# Définir l'espace des hyperparamètres\n",
        "param_dist = {\n",
        "    'boosting_type': ['gbdt', 'dart', 'goss'],\n",
        "    'objective': ['binary'],\n",
        "    'metric': ['binary_logloss'],\n",
        "    'num_leaves': np.arange(20, 150, 10),\n",
        "    'learning_rate': [0.01, 0.05, 0.1, 0.2],\n",
        "    'feature_fraction': np.arange(0.6, 1.0, 0.1),\n",
        "    'bagging_fraction': np.arange(0.6, 1.0, 0.1),\n",
        "    'bagging_freq': np.arange(1, 10),\n",
        "    'verbose': [0],\n",
        "}\n",
        "\n",
        "clf = lgb.LGBMClassifier(class_weight=class_weight)\n",
        "clf.set_params(verbosity=-1)\n",
        "\n",
        "# Initialiser RandomizedSearchCV\n",
        "random_search = RandomizedSearchCV(\n",
        "    clf,\n",
        "    param_distributions=param_dist,\n",
        "    n_iter=10, scoring= custom_scorer,\n",
        "    cv=5,\n",
        "    random_state=42\n",
        ")\n",
        "\n",
        "# Exécuter la recherche aléatoire\n",
        "random_search.fit(X_train, y_train)\n"
      ]
    },
    {
      "cell_type": "code",
      "execution_count": 86,
      "metadata": {
        "colab": {
          "base_uri": "https://localhost:8080/"
        },
        "id": "VJLnqtggDoQD",
        "outputId": "d5ffb2ef-005d-4dc7-c893-2f837eade45e"
      },
      "outputs": [
        {
          "output_type": "execute_result",
          "data": {
            "text/plain": [
              "{'verbose': 0,\n",
              " 'objective': 'binary',\n",
              " 'num_leaves': 20,\n",
              " 'metric': 'binary_logloss',\n",
              " 'learning_rate': 0.2,\n",
              " 'feature_fraction': 0.8999999999999999,\n",
              " 'boosting_type': 'gbdt',\n",
              " 'bagging_freq': 8,\n",
              " 'bagging_fraction': 0.7999999999999999}"
            ]
          },
          "metadata": {},
          "execution_count": 86
        }
      ],
      "source": [
        "random_search.best_params_"
      ]
    },
    {
      "cell_type": "code",
      "execution_count": null,
      "metadata": {
        "colab": {
          "base_uri": "https://localhost:8080/"
        },
        "id": "93JpVrD4Lsnx",
        "outputId": "0dd1e619-643e-4db4-903e-aac633e02bd8"
      },
      "outputs": [
        {
          "data": {
            "text/plain": [
              "{'verbose': 0,\n",
              " 'objective': 'binary',\n",
              " 'num_leaves': 20,\n",
              " 'metric': 'binary_logloss',\n",
              " 'learning_rate': 0.2,\n",
              " 'feature_fraction': 0.8999999999999999,\n",
              " 'boosting_type': 'gbdt',\n",
              " 'bagging_freq': 8,\n",
              " 'bagging_fraction': 0.7999999999999999}"
            ]
          },
          "execution_count": 40,
          "metadata": {},
          "output_type": "execute_result"
        }
      ],
      "source": [
        "random_search.best_params_"
      ]
    },
    {
      "cell_type": "code",
      "execution_count": 87,
      "metadata": {
        "id": "QMCMFuNUDrn8",
        "colab": {
          "base_uri": "https://localhost:8080/"
        },
        "outputId": "448261a4-c357-4a72-94b8-d07e150e0c4e"
      },
      "outputs": [
        {
          "output_type": "stream",
          "name": "stdout",
          "text": [
            "[LightGBM] [Warning] feature_fraction is set=0.8999999999999999, colsample_bytree=1.0 will be ignored. Current value: feature_fraction=0.8999999999999999\n",
            "[LightGBM] [Warning] bagging_fraction is set=0.7999999999999999, subsample=1.0 will be ignored. Current value: bagging_fraction=0.7999999999999999\n",
            "[LightGBM] [Warning] bagging_freq is set=8, subsample_freq=0 will be ignored. Current value: bagging_freq=8\n",
            "[LightGBM] [Warning] feature_fraction is set=0.8999999999999999, colsample_bytree=1.0 will be ignored. Current value: feature_fraction=0.8999999999999999\n",
            "[LightGBM] [Warning] bagging_fraction is set=0.7999999999999999, subsample=1.0 will be ignored. Current value: bagging_fraction=0.7999999999999999\n",
            "[LightGBM] [Warning] bagging_freq is set=8, subsample_freq=0 will be ignored. Current value: bagging_freq=8\n",
            "[LightGBM] [Warning] feature_fraction is set=0.8999999999999999, colsample_bytree=1.0 will be ignored. Current value: feature_fraction=0.8999999999999999\n",
            "[LightGBM] [Warning] bagging_fraction is set=0.7999999999999999, subsample=1.0 will be ignored. Current value: bagging_fraction=0.7999999999999999\n",
            "[LightGBM] [Warning] bagging_freq is set=8, subsample_freq=0 will be ignored. Current value: bagging_freq=8\n",
            "[LightGBM] [Warning] feature_fraction is set=0.8999999999999999, colsample_bytree=1.0 will be ignored. Current value: feature_fraction=0.8999999999999999\n",
            "[LightGBM] [Warning] bagging_fraction is set=0.7999999999999999, subsample=1.0 will be ignored. Current value: bagging_fraction=0.7999999999999999\n",
            "[LightGBM] [Warning] bagging_freq is set=8, subsample_freq=0 will be ignored. Current value: bagging_freq=8\n",
            "[LightGBM] [Warning] feature_fraction is set=0.8999999999999999, colsample_bytree=1.0 will be ignored. Current value: feature_fraction=0.8999999999999999\n",
            "[LightGBM] [Warning] bagging_fraction is set=0.7999999999999999, subsample=1.0 will be ignored. Current value: bagging_fraction=0.7999999999999999\n",
            "[LightGBM] [Warning] bagging_freq is set=8, subsample_freq=0 will be ignored. Current value: bagging_freq=8\n",
            "[LightGBM] [Warning] feature_fraction is set=0.8999999999999999, colsample_bytree=1.0 will be ignored. Current value: feature_fraction=0.8999999999999999\n",
            "[LightGBM] [Warning] bagging_fraction is set=0.7999999999999999, subsample=1.0 will be ignored. Current value: bagging_fraction=0.7999999999999999\n",
            "[LightGBM] [Warning] bagging_freq is set=8, subsample_freq=0 will be ignored. Current value: bagging_freq=8\n",
            "[LightGBM] [Warning] feature_fraction is set=0.8999999999999999, colsample_bytree=1.0 will be ignored. Current value: feature_fraction=0.8999999999999999\n",
            "[LightGBM] [Warning] bagging_fraction is set=0.7999999999999999, subsample=1.0 will be ignored. Current value: bagging_fraction=0.7999999999999999\n",
            "[LightGBM] [Warning] bagging_freq is set=8, subsample_freq=0 will be ignored. Current value: bagging_freq=8\n",
            "[LightGBM] [Warning] feature_fraction is set=0.8999999999999999, colsample_bytree=1.0 will be ignored. Current value: feature_fraction=0.8999999999999999\n",
            "[LightGBM] [Warning] bagging_fraction is set=0.7999999999999999, subsample=1.0 will be ignored. Current value: bagging_fraction=0.7999999999999999\n",
            "[LightGBM] [Warning] bagging_freq is set=8, subsample_freq=0 will be ignored. Current value: bagging_freq=8\n",
            "[LightGBM] [Warning] feature_fraction is set=0.8999999999999999, colsample_bytree=1.0 will be ignored. Current value: feature_fraction=0.8999999999999999\n",
            "[LightGBM] [Warning] bagging_fraction is set=0.7999999999999999, subsample=1.0 will be ignored. Current value: bagging_fraction=0.7999999999999999\n",
            "[LightGBM] [Warning] bagging_freq is set=8, subsample_freq=0 will be ignored. Current value: bagging_freq=8\n",
            "[LightGBM] [Warning] feature_fraction is set=0.8999999999999999, colsample_bytree=1.0 will be ignored. Current value: feature_fraction=0.8999999999999999\n",
            "[LightGBM] [Warning] bagging_fraction is set=0.7999999999999999, subsample=1.0 will be ignored. Current value: bagging_fraction=0.7999999999999999\n",
            "[LightGBM] [Warning] bagging_freq is set=8, subsample_freq=0 will be ignored. Current value: bagging_freq=8\n",
            "[LightGBM] [Warning] feature_fraction is set=0.8999999999999999, colsample_bytree=1.0 will be ignored. Current value: feature_fraction=0.8999999999999999\n",
            "[LightGBM] [Warning] bagging_fraction is set=0.7999999999999999, subsample=1.0 will be ignored. Current value: bagging_fraction=0.7999999999999999\n",
            "[LightGBM] [Warning] bagging_freq is set=8, subsample_freq=0 will be ignored. Current value: bagging_freq=8\n",
            "[LightGBM] [Warning] feature_fraction is set=0.8999999999999999, colsample_bytree=1.0 will be ignored. Current value: feature_fraction=0.8999999999999999\n",
            "[LightGBM] [Warning] bagging_fraction is set=0.7999999999999999, subsample=1.0 will be ignored. Current value: bagging_fraction=0.7999999999999999\n",
            "[LightGBM] [Warning] bagging_freq is set=8, subsample_freq=0 will be ignored. Current value: bagging_freq=8\n",
            "[LightGBM] [Warning] feature_fraction is set=0.8999999999999999, colsample_bytree=1.0 will be ignored. Current value: feature_fraction=0.8999999999999999\n",
            "[LightGBM] [Warning] bagging_fraction is set=0.7999999999999999, subsample=1.0 will be ignored. Current value: bagging_fraction=0.7999999999999999\n",
            "[LightGBM] [Warning] bagging_freq is set=8, subsample_freq=0 will be ignored. Current value: bagging_freq=8\n",
            "[LightGBM] [Warning] feature_fraction is set=0.8999999999999999, colsample_bytree=1.0 will be ignored. Current value: feature_fraction=0.8999999999999999\n",
            "[LightGBM] [Warning] bagging_fraction is set=0.7999999999999999, subsample=1.0 will be ignored. Current value: bagging_fraction=0.7999999999999999\n",
            "[LightGBM] [Warning] bagging_freq is set=8, subsample_freq=0 will be ignored. Current value: bagging_freq=8\n",
            "[LightGBM] [Warning] feature_fraction is set=0.8999999999999999, colsample_bytree=1.0 will be ignored. Current value: feature_fraction=0.8999999999999999\n",
            "[LightGBM] [Warning] bagging_fraction is set=0.7999999999999999, subsample=1.0 will be ignored. Current value: bagging_fraction=0.7999999999999999\n",
            "[LightGBM] [Warning] bagging_freq is set=8, subsample_freq=0 will be ignored. Current value: bagging_freq=8\n"
          ]
        }
      ],
      "source": [
        "from sklearn.model_selection import cross_val_predict\n",
        "\n",
        "my_best_model = lgb.LGBMClassifier(class_weight=class_weight)\n",
        "my_best_model.set_params(**random_search.best_params_)\n",
        "\n",
        "preds_best_model = cross_val_predict(my_best_model,X_train,y_train,cv=5, method = 'predict_proba')"
      ]
    },
    {
      "cell_type": "code",
      "execution_count": null,
      "metadata": {
        "colab": {
          "base_uri": "https://localhost:8080/"
        },
        "id": "snXPJTRmFBds",
        "outputId": "e3d2d548-5dd5-4f73-dafc-f65957946b17"
      },
      "outputs": [
        {
          "data": {
            "text/plain": [
              "array([0.83420254, 0.15755978, 0.26225855, ..., 0.48718369, 0.43719017,\n",
              "       0.56784534])"
            ]
          },
          "execution_count": 42,
          "metadata": {},
          "output_type": "execute_result"
        }
      ],
      "source": [
        "preds_best_model[:,1]"
      ]
    },
    {
      "cell_type": "code",
      "execution_count": 89,
      "metadata": {
        "id": "OGR4zMAUFLpp"
      },
      "outputs": [],
      "source": [
        "# Liste qui récupère les résultats\n",
        "res_best_model = []\n",
        "\n",
        "for seuil in np.linspace(0,1,50):\n",
        "  res_best_model.append(\n",
        "      custom_metric(\n",
        "        y_true = y_train,\n",
        "        y_pred = preds_best_model[:,1],\n",
        "        seuil = seuil\n",
        "                )\n",
        "  )\n"
      ]
    },
    {
      "cell_type": "code",
      "execution_count": 90,
      "metadata": {
        "colab": {
          "base_uri": "https://localhost:8080/"
        },
        "id": "fLzMswyHGA2N",
        "outputId": "a73336ea-a5e7-4066-91bb-df24a3587876"
      },
      "outputs": [
        {
          "output_type": "stream",
          "name": "stdout",
          "text": [
            "Le seuil optimal qui minimise la fonction de coût métier est : 0.49\n"
          ]
        }
      ],
      "source": [
        "# Calcul du seuil optimal qui minimise la fonction de coût personnalisée\n",
        "seuil_optimal =  np.linspace(0,1,50)[np.argmin(res_best_model)]\n",
        "print(f'Le seuil optimal qui minimise la fonction de coût métier est : {seuil_optimal:.3}')"
      ]
    },
    {
      "cell_type": "code",
      "execution_count": 91,
      "metadata": {
        "colab": {
          "base_uri": "https://localhost:8080/",
          "height": 448
        },
        "id": "ey7Nyof1F6GQ",
        "outputId": "f6ae1e18-7676-47ce-ed7a-cd4791e50fe1"
      },
      "outputs": [
        {
          "output_type": "execute_result",
          "data": {
            "text/plain": [
              "[]"
            ]
          },
          "metadata": {},
          "execution_count": 91
        },
        {
          "output_type": "display_data",
          "data": {
            "text/plain": [
              "<Figure size 640x480 with 1 Axes>"
            ],
            "image/png": "[encoded data removed]"
          },
          "metadata": {}
        }
      ],
      "source": [
        "# Visulation de la minimisation de du score métier\n",
        "sns.lineplot(\n",
        "   x =  np.linspace(0,1,50)[20:30],\n",
        "   y = res_best_model[20:30]\n",
        ")\n",
        "plt.plot()"
      ]
    },
    {
      "cell_type": "markdown",
      "metadata": {
        "id": "vSvY7Ychj3Ro"
      },
      "source": [
        "### Exportation du modèle"
      ]
    },
    {
      "cell_type": "code",
      "execution_count": 92,
      "metadata": {
        "colab": {
          "base_uri": "https://localhost:8080/",
          "height": 144
        },
        "id": "oUu8sOgydFQb",
        "outputId": "03ed0243-132c-4283-ddbd-94adf3375b86"
      },
      "outputs": [
        {
          "output_type": "execute_result",
          "data": {
            "text/plain": [
              "LGBMClassifier(bagging_fraction=0.7999999999999999, bagging_freq=8,\n",
              "               class_weight={0: 0.08, 1: 0.91},\n",
              "               feature_fraction=0.8999999999999999, learning_rate=0.2,\n",
              "               metric='binary_logloss', num_leaves=20, objective='binary',\n",
              "               verbose=0, verbosity=-1)"
            ],
            "text/html": [
              "<style>#sk-container-id-3 {color: black;background-color: white;}#sk-container-id-3 pre{padding: 0;}#sk-container-id-3 div.sk-toggleable {background-color: white;}#sk-container-id-3 label.sk-toggleable__label {cursor: pointer;display: block;width: 100%;margin-bottom: 0;padding: 0.3em;box-sizing: border-box;text-align: center;}#sk-container-id-3 label.sk-toggleable__label-arrow:before {content: \"▸\";float: left;margin-right: 0.25em;color: #696969;}#sk-container-id-3 label.sk-toggleable__label-arrow:hover:before {color: black;}#sk-container-id-3 div.sk-estimator:hover label.sk-toggleable__label-arrow:before {color: black;}#sk-container-id-3 div.sk-toggleable__content {max-height: 0;max-width: 0;overflow: hidden;text-align: left;background-color: #f0f8ff;}#sk-container-id-3 div.sk-toggleable__content pre {margin: 0.2em;color: black;border-radius: 0.25em;background-color: #f0f8ff;}#sk-container-id-3 input.sk-toggleable__control:checked~div.sk-toggleable__content {max-height: 200px;max-width: 100%;overflow: auto;}#sk-container-id-3 input.sk-toggleable__control:checked~label.sk-toggleable__label-arrow:before {content: \"▾\";}#sk-container-id-3 div.sk-estimator input.sk-toggleable__control:checked~label.sk-toggleable__label {background-color: #d4ebff;}#sk-container-id-3 div.sk-label input.sk-toggleable__control:checked~label.sk-toggleable__label {background-color: #d4ebff;}#sk-container-id-3 input.sk-hidden--visually {border: 0;clip: rect(1px 1px 1px 1px);clip: rect(1px, 1px, 1px, 1px);height: 1px;margin: -1px;overflow: hidden;padding: 0;position: absolute;width: 1px;}#sk-container-id-3 div.sk-estimator {font-family: monospace;background-color: #f0f8ff;border: 1px dotted black;border-radius: 0.25em;box-sizing: border-box;margin-bottom: 0.5em;}#sk-container-id-3 div.sk-estimator:hover {background-color: #d4ebff;}#sk-container-id-3 div.sk-parallel-item::after {content: \"\";width: 100%;border-bottom: 1px solid gray;flex-grow: 1;}#sk-container-id-3 div.sk-label:hover label.sk-toggleable__label {background-color: #d4ebff;}#sk-container-id-3 div.sk-serial::before {content: \"\";position: absolute;border-left: 1px solid gray;box-sizing: border-box;top: 0;bottom: 0;left: 50%;z-index: 0;}#sk-container-id-3 div.sk-serial {display: flex;flex-direction: column;align-items: center;background-color: white;padding-right: 0.2em;padding-left: 0.2em;position: relative;}#sk-container-id-3 div.sk-item {position: relative;z-index: 1;}#sk-container-id-3 div.sk-parallel {display: flex;align-items: stretch;justify-content: center;background-color: white;position: relative;}#sk-container-id-3 div.sk-item::before, #sk-container-id-3 div.sk-parallel-item::before {content: \"\";position: absolute;border-left: 1px solid gray;box-sizing: border-box;top: 0;bottom: 0;left: 50%;z-index: -1;}#sk-container-id-3 div.sk-parallel-item {display: flex;flex-direction: column;z-index: 1;position: relative;background-color: white;}#sk-container-id-3 div.sk-parallel-item:first-child::after {align-self: flex-end;width: 50%;}#sk-container-id-3 div.sk-parallel-item:last-child::after {align-self: flex-start;width: 50%;}#sk-container-id-3 div.sk-parallel-item:only-child::after {width: 0;}#sk-container-id-3 div.sk-dashed-wrapped {border: 1px dashed gray;margin: 0 0.4em 0.5em 0.4em;box-sizing: border-box;padding-bottom: 0.4em;background-color: white;}#sk-container-id-3 div.sk-label label {font-family: monospace;font-weight: bold;display: inline-block;line-height: 1.2em;}#sk-container-id-3 div.sk-label-container {text-align: center;}#sk-container-id-3 div.sk-container {/* jupyter's `normalize.less` sets `[hidden] { display: none; }` but bootstrap.min.css set `[hidden] { display: none !important; }` so we also need the `!important` here to be able to override the default hidden behavior on the sphinx rendered scikit-learn.org. See: https://github.com/scikit-learn/scikit-learn/issues/21755 */display: inline-block !important;position: relative;}#sk-container-id-3 div.sk-text-repr-fallback {display: none;}</style><div id=\"sk-container-id-3\" class=\"sk-top-container\"><div class=\"sk-text-repr-fallback\"><pre>LGBMClassifier(bagging_fraction=0.7999999999999999, bagging_freq=8,\n",
              "               class_weight={0: 0.08, 1: 0.91},\n",
              "               feature_fraction=0.8999999999999999, learning_rate=0.2,\n",
              "               metric=&#x27;binary_logloss&#x27;, num_leaves=20, objective=&#x27;binary&#x27;,\n",
              "               verbose=0, verbosity=-1)</pre><b>In a Jupyter environment, please rerun this cell to show the HTML representation or trust the notebook. <br />On GitHub, the HTML representation is unable to render, please try loading this page with nbviewer.org.</b></div><div class=\"sk-container\" hidden><div class=\"sk-item\"><div class=\"sk-estimator sk-toggleable\"><input class=\"sk-toggleable__control sk-hidden--visually\" id=\"sk-estimator-id-5\" type=\"checkbox\" checked><label for=\"sk-estimator-id-5\" class=\"sk-toggleable__label sk-toggleable__label-arrow\">LGBMClassifier</label><div class=\"sk-toggleable__content\"><pre>LGBMClassifier(bagging_fraction=0.7999999999999999, bagging_freq=8,\n",
              "               class_weight={0: 0.08, 1: 0.91},\n",
              "               feature_fraction=0.8999999999999999, learning_rate=0.2,\n",
              "               metric=&#x27;binary_logloss&#x27;, num_leaves=20, objective=&#x27;binary&#x27;,\n",
              "               verbose=0, verbosity=-1)</pre></div></div></div></div></div>"
            ]
          },
          "metadata": {},
          "execution_count": 92
        }
      ],
      "source": [
        "import pickle\n",
        "\n",
        "# Récupération du meilleur modèle\n",
        "my_best_model = lgb.LGBMClassifier(class_weight=class_weight)\n",
        "my_best_model.set_params(**random_search.best_params_)\n",
        "my_best_model.set_params(verbosity= -1)\n",
        "# Entrainement\n",
        "my_best_model.fit(X, y)"
      ]
    },
    {
      "cell_type": "code",
      "execution_count": 93,
      "metadata": {
        "id": "p2cr0d6ypIj6"
      },
      "outputs": [],
      "source": [
        "# Save the model using pickle\n",
        "with open(\"best_lgbm_class_weights.pkl\", \"wb\") as f:\n",
        "    pickle.dump(my_best_model, f)"
      ]
    },
    {
      "cell_type": "code",
      "source": [
        "# via mlflow\n",
        "cls_report_class_weights = classification_report(trues_proba, (prediction_proba_weights[:,1] > 0.5).astype(int), zero_division = 0,output_dict=True )\n",
        "custom_metric_class_weights = custom_metric(y_true=trues_proba,y_pred=prediction_proba_weights[:,1])\n",
        "\n",
        "run_mlflow_experiment(\n",
        "    my_best_model,\n",
        "    'model_lgbm_class_weight_best_model',\n",
        "    cls_report_class_weights['macro avg'],\n",
        "    custom_metric_class_weights\n",
        ")"
      ],
      "metadata": {
        "id": "tC4UNxJ5F3tU"
      },
      "execution_count": null,
      "outputs": []
    },
    {
      "cell_type": "markdown",
      "metadata": {
        "id": "tfTElVXDp7C9"
      },
      "source": [
        "### Shap values"
      ]
    },
    {
      "cell_type": "code",
      "execution_count": null,
      "metadata": {
        "id": "oVlcwNYcp0TV"
      },
      "outputs": [],
      "source": [
        "\n",
        "# !pip install dalex\n",
        "import shap\n",
        "import dalex\n"
      ]
    },
    {
      "cell_type": "code",
      "execution_count": null,
      "metadata": {
        "colab": {
          "base_uri": "https://localhost:8080/"
        },
        "id": "pwbUtUdxhE06",
        "outputId": "22e81e67-4029-4fec-e290-f114058e82d8"
      },
      "outputs": [
        {
          "name": "stdout",
          "output_type": "stream",
          "text": [
            "4.1.0\n"
          ]
        }
      ],
      "source": [
        "# Affiche la version de LightGBM\n",
        "print(lgb.__version__)"
      ]
    },
    {
      "cell_type": "code",
      "execution_count": null,
      "metadata": {
        "colab": {
          "background_save": true,
          "base_uri": "https://localhost:8080/"
        },
        "id": "H-CWUNragb0c",
        "outputId": "0519a2ac-a10b-4c19-e0c3-4711f03d603b"
      },
      "outputs": [
        {
          "name": "stderr",
          "output_type": "stream",
          "text": [
            "100%|===================| 307358/307507 [23:22<00:00]       "
          ]
        },
        {
          "ename": "ExplainerError",
          "evalue": "ignored",
          "output_type": "error",
          "traceback": [
            "\u001b[0;31m---------------------------------------------------------------------------\u001b[0m",
            "\u001b[0;31mExplainerError\u001b[0m                            Traceback (most recent call last)",
            "\u001b[0;32m<ipython-input-94-a741f6949349>\u001b[0m in \u001b[0;36m<cell line: 10>\u001b[0;34m()\u001b[0m\n\u001b[1;32m      8\u001b[0m \u001b[0;31m# compute SHAP values\u001b[0m\u001b[0;34m\u001b[0m\u001b[0;34m\u001b[0m\u001b[0m\n\u001b[1;32m      9\u001b[0m \u001b[0mexplainer\u001b[0m \u001b[0;34m=\u001b[0m \u001b[0mshap\u001b[0m\u001b[0;34m.\u001b[0m\u001b[0mExplainer\u001b[0m\u001b[0;34m(\u001b[0m\u001b[0mmy_best_model\u001b[0m\u001b[0;34m,\u001b[0m \u001b[0mX\u001b[0m\u001b[0;34m)\u001b[0m\u001b[0;34m\u001b[0m\u001b[0;34m\u001b[0m\u001b[0m\n\u001b[0;32m---> 10\u001b[0;31m \u001b[0mshap_values\u001b[0m \u001b[0;34m=\u001b[0m \u001b[0mexplainer\u001b[0m\u001b[0;34m(\u001b[0m\u001b[0mX\u001b[0m\u001b[0;34m)\u001b[0m\u001b[0;34m\u001b[0m\u001b[0;34m\u001b[0m\u001b[0m\n\u001b[0m",
            "\u001b[0;32m/usr/local/lib/python3.10/dist-packages/shap/explainers/_tree.py\u001b[0m in \u001b[0;36m__call__\u001b[0;34m(self, X, y, interactions, check_additivity)\u001b[0m\n\u001b[1;32m    231\u001b[0m \u001b[0;34m\u001b[0m\u001b[0m\n\u001b[1;32m    232\u001b[0m         \u001b[0;32mif\u001b[0m \u001b[0;32mnot\u001b[0m \u001b[0minteractions\u001b[0m\u001b[0;34m:\u001b[0m\u001b[0;34m\u001b[0m\u001b[0;34m\u001b[0m\u001b[0m\n\u001b[0;32m--> 233\u001b[0;31m             \u001b[0mv\u001b[0m \u001b[0;34m=\u001b[0m \u001b[0mself\u001b[0m\u001b[0;34m.\u001b[0m\u001b[0mshap_values\u001b[0m\u001b[0;34m(\u001b[0m\u001b[0mX\u001b[0m\u001b[0;34m,\u001b[0m \u001b[0my\u001b[0m\u001b[0;34m=\u001b[0m\u001b[0my\u001b[0m\u001b[0;34m,\u001b[0m \u001b[0mfrom_call\u001b[0m\u001b[0;34m=\u001b[0m\u001b[0;32mTrue\u001b[0m\u001b[0;34m,\u001b[0m \u001b[0mcheck_additivity\u001b[0m\u001b[0;34m=\u001b[0m\u001b[0mcheck_additivity\u001b[0m\u001b[0;34m,\u001b[0m \u001b[0mapproximate\u001b[0m\u001b[0;34m=\u001b[0m\u001b[0mself\u001b[0m\u001b[0;34m.\u001b[0m\u001b[0mapproximate\u001b[0m\u001b[0;34m)\u001b[0m\u001b[0;34m\u001b[0m\u001b[0;34m\u001b[0m\u001b[0m\n\u001b[0m\u001b[1;32m    234\u001b[0m             \u001b[0;32mif\u001b[0m \u001b[0misinstance\u001b[0m\u001b[0;34m(\u001b[0m\u001b[0mv\u001b[0m\u001b[0;34m,\u001b[0m \u001b[0mlist\u001b[0m\u001b[0;34m)\u001b[0m\u001b[0;34m:\u001b[0m\u001b[0;34m\u001b[0m\u001b[0;34m\u001b[0m\u001b[0m\n\u001b[1;32m    235\u001b[0m                 \u001b[0mv\u001b[0m \u001b[0;34m=\u001b[0m \u001b[0mnp\u001b[0m\u001b[0;34m.\u001b[0m\u001b[0mstack\u001b[0m\u001b[0;34m(\u001b[0m\u001b[0mv\u001b[0m\u001b[0;34m,\u001b[0m \u001b[0maxis\u001b[0m\u001b[0;34m=\u001b[0m\u001b[0;34m-\u001b[0m\u001b[0;36m1\u001b[0m\u001b[0;34m)\u001b[0m  \u001b[0;31m# put outputs at the end\u001b[0m\u001b[0;34m\u001b[0m\u001b[0;34m\u001b[0m\u001b[0m\n",
            "\u001b[0;32m/usr/local/lib/python3.10/dist-packages/shap/explainers/_tree.py\u001b[0m in \u001b[0;36mshap_values\u001b[0;34m(self, X, y, tree_limit, approximate, check_additivity, from_call)\u001b[0m\n\u001b[1;32m    444\u001b[0m         \u001b[0mout\u001b[0m \u001b[0;34m=\u001b[0m \u001b[0mself\u001b[0m\u001b[0;34m.\u001b[0m\u001b[0m_get_shap_output\u001b[0m\u001b[0;34m(\u001b[0m\u001b[0mphi\u001b[0m\u001b[0;34m,\u001b[0m \u001b[0mflat_output\u001b[0m\u001b[0;34m)\u001b[0m\u001b[0;34m\u001b[0m\u001b[0;34m\u001b[0m\u001b[0m\n\u001b[1;32m    445\u001b[0m         \u001b[0;32mif\u001b[0m \u001b[0mcheck_additivity\u001b[0m \u001b[0;32mand\u001b[0m \u001b[0mself\u001b[0m\u001b[0;34m.\u001b[0m\u001b[0mmodel\u001b[0m\u001b[0;34m.\u001b[0m\u001b[0mmodel_output\u001b[0m \u001b[0;34m==\u001b[0m \u001b[0;34m\"raw\"\u001b[0m\u001b[0;34m:\u001b[0m\u001b[0;34m\u001b[0m\u001b[0;34m\u001b[0m\u001b[0m\n\u001b[0;32m--> 446\u001b[0;31m             \u001b[0mself\u001b[0m\u001b[0;34m.\u001b[0m\u001b[0massert_additivity\u001b[0m\u001b[0;34m(\u001b[0m\u001b[0mout\u001b[0m\u001b[0;34m,\u001b[0m \u001b[0mself\u001b[0m\u001b[0;34m.\u001b[0m\u001b[0mmodel\u001b[0m\u001b[0;34m.\u001b[0m\u001b[0mpredict\u001b[0m\u001b[0;34m(\u001b[0m\u001b[0mX\u001b[0m\u001b[0;34m)\u001b[0m\u001b[0;34m)\u001b[0m\u001b[0;34m\u001b[0m\u001b[0;34m\u001b[0m\u001b[0m\n\u001b[0m\u001b[1;32m    447\u001b[0m \u001b[0;34m\u001b[0m\u001b[0m\n\u001b[1;32m    448\u001b[0m         \u001b[0;32mreturn\u001b[0m \u001b[0mout\u001b[0m\u001b[0;34m\u001b[0m\u001b[0;34m\u001b[0m\u001b[0m\n",
            "\u001b[0;32m/usr/local/lib/python3.10/dist-packages/shap/explainers/_tree.py\u001b[0m in \u001b[0;36massert_additivity\u001b[0;34m(self, phi, model_output)\u001b[0m\n\u001b[1;32m    577\u001b[0m                 \u001b[0mcheck_sum\u001b[0m\u001b[0;34m(\u001b[0m\u001b[0mself\u001b[0m\u001b[0;34m.\u001b[0m\u001b[0mexpected_value\u001b[0m\u001b[0;34m[\u001b[0m\u001b[0mi\u001b[0m\u001b[0;34m]\u001b[0m \u001b[0;34m+\u001b[0m \u001b[0mphi\u001b[0m\u001b[0;34m[\u001b[0m\u001b[0mi\u001b[0m\u001b[0;34m]\u001b[0m\u001b[0;34m.\u001b[0m\u001b[0msum\u001b[0m\u001b[0;34m(\u001b[0m\u001b[0;34m-\u001b[0m\u001b[0;36m1\u001b[0m\u001b[0;34m)\u001b[0m\u001b[0;34m,\u001b[0m \u001b[0mmodel_output\u001b[0m\u001b[0;34m[\u001b[0m\u001b[0;34m:\u001b[0m\u001b[0;34m,\u001b[0m\u001b[0mi\u001b[0m\u001b[0;34m]\u001b[0m\u001b[0;34m)\u001b[0m\u001b[0;34m\u001b[0m\u001b[0;34m\u001b[0m\u001b[0m\n\u001b[1;32m    578\u001b[0m         \u001b[0;32melse\u001b[0m\u001b[0;34m:\u001b[0m\u001b[0;34m\u001b[0m\u001b[0;34m\u001b[0m\u001b[0m\n\u001b[0;32m--> 579\u001b[0;31m             \u001b[0mcheck_sum\u001b[0m\u001b[0;34m(\u001b[0m\u001b[0mself\u001b[0m\u001b[0;34m.\u001b[0m\u001b[0mexpected_value\u001b[0m \u001b[0;34m+\u001b[0m \u001b[0mphi\u001b[0m\u001b[0;34m.\u001b[0m\u001b[0msum\u001b[0m\u001b[0;34m(\u001b[0m\u001b[0;34m-\u001b[0m\u001b[0;36m1\u001b[0m\u001b[0;34m)\u001b[0m\u001b[0;34m,\u001b[0m \u001b[0mmodel_output\u001b[0m\u001b[0;34m)\u001b[0m\u001b[0;34m\u001b[0m\u001b[0;34m\u001b[0m\u001b[0m\n\u001b[0m\u001b[1;32m    580\u001b[0m \u001b[0;34m\u001b[0m\u001b[0m\n\u001b[1;32m    581\u001b[0m     \u001b[0;34m@\u001b[0m\u001b[0mstaticmethod\u001b[0m\u001b[0;34m\u001b[0m\u001b[0;34m\u001b[0m\u001b[0m\n",
            "\u001b[0;32m/usr/local/lib/python3.10/dist-packages/shap/explainers/_tree.py\u001b[0m in \u001b[0;36mcheck_sum\u001b[0;34m(sum_val, model_output)\u001b[0m\n\u001b[1;32m    571\u001b[0m                            \u001b[0;34m\" was {:f}, while the model output was {:f}. If this difference is acceptable\"\u001b[0m\u001b[0;31m \u001b[0m\u001b[0;31m\\\u001b[0m\u001b[0;34m\u001b[0m\u001b[0;34m\u001b[0m\u001b[0m\n\u001b[1;32m    572\u001b[0m                            \u001b[0;34m\" you can set check_additivity=False to disable this check.\"\u001b[0m\u001b[0;34m.\u001b[0m\u001b[0mformat\u001b[0m\u001b[0;34m(\u001b[0m\u001b[0msum_val\u001b[0m\u001b[0;34m[\u001b[0m\u001b[0mind\u001b[0m\u001b[0;34m]\u001b[0m\u001b[0;34m,\u001b[0m \u001b[0mmodel_output\u001b[0m\u001b[0;34m[\u001b[0m\u001b[0mind\u001b[0m\u001b[0;34m]\u001b[0m\u001b[0;34m)\u001b[0m\u001b[0;34m\u001b[0m\u001b[0;34m\u001b[0m\u001b[0m\n\u001b[0;32m--> 573\u001b[0;31m                 \u001b[0;32mraise\u001b[0m \u001b[0mExplainerError\u001b[0m\u001b[0;34m(\u001b[0m\u001b[0merr_msg\u001b[0m\u001b[0;34m)\u001b[0m\u001b[0;34m\u001b[0m\u001b[0;34m\u001b[0m\u001b[0m\n\u001b[0m\u001b[1;32m    574\u001b[0m \u001b[0;34m\u001b[0m\u001b[0m\n\u001b[1;32m    575\u001b[0m         \u001b[0;32mif\u001b[0m \u001b[0misinstance\u001b[0m\u001b[0;34m(\u001b[0m\u001b[0mphi\u001b[0m\u001b[0;34m,\u001b[0m \u001b[0mlist\u001b[0m\u001b[0;34m)\u001b[0m\u001b[0;34m:\u001b[0m\u001b[0;34m\u001b[0m\u001b[0;34m\u001b[0m\u001b[0m\n",
            "\u001b[0;31mExplainerError\u001b[0m: Additivity check failed in TreeExplainer! Please ensure the data matrix you passed to the explainer is the same shape that the model was trained on. If your data shape is correct then please report this on GitHub. This check failed because for one of the samples the sum of the SHAP values was -1.320606, while the model output was -1.620571. If this difference is acceptable you can set check_additivity=False to disable this check."
          ]
        }
      ],
      "source": [
        "# explainer = shap.TreeExplainer(my_best_model)\n",
        "# shap_values = explainer.shap_values(X_train)\n",
        "# shap_values = np.array(shap_values)\n",
        "\n",
        "# shap.initjs()\n",
        "# shap.force_plot(explainer.expected_value, shap_values[0,:], X_train[0,:])\n",
        "\n",
        "# compute SHAP values\n",
        "explainer = shap.Explainer(my_best_model, X)\n",
        "shap_values = explainer(X)"
      ]
    },
    {
      "cell_type": "markdown",
      "metadata": {
        "id": "Yq49vqApIPWT"
      },
      "source": [
        "#### Shap values Global"
      ]
    },
    {
      "cell_type": "code",
      "execution_count": null,
      "metadata": {
        "id": "w96S8ex5Lg61"
      },
      "outputs": [],
      "source": [
        "shap_values = shap.TreeExplainer(my_best_model).shap_values(X)"
      ]
    },
    {
      "cell_type": "code",
      "execution_count": null,
      "metadata": {
        "colab": {
          "base_uri": "https://localhost:8080/",
          "height": 957
        },
        "id": "1xXSgS4akBts",
        "outputId": "8a441781-1d15-4126-9672-c53329aebc53"
      },
      "outputs": [
        {
          "data": {
            "image/png": "[encoded data removed]",
            "text/plain": [
              "<Figure size 800x950 with 1 Axes>"
            ]
          },
          "metadata": {},
          "output_type": "display_data"
        }
      ],
      "source": [
        "# shap_values = shap.TreeExplainer(my_best_model).shap_values(X)\n",
        "shap.summary_plot(shap_values, X, feature_names=feats)"
      ]
    },
    {
      "cell_type": "markdown",
      "metadata": {
        "id": "Uuy6-sidJlli"
      },
      "source": [
        "#### Shap values local"
      ]
    },
    {
      "cell_type": "code",
      "execution_count": null,
      "metadata": {
        "colab": {
          "base_uri": "https://localhost:8080/",
          "height": 306
        },
        "id": "WcfaUNcIJs75",
        "outputId": "c7f28822-84e7-4041-8e7a-0b19b2cd8d85"
      },
      "outputs": [
        {
          "ename": "TypeError",
          "evalue": "ignored",
          "output_type": "error",
          "traceback": [
            "\u001b[0;31m---------------------------------------------------------------------------\u001b[0m",
            "\u001b[0;31mTypeError\u001b[0m                                 Traceback (most recent call last)",
            "\u001b[0;32m<ipython-input-93-09f62f536042>\u001b[0m in \u001b[0;36m<cell line: 1>\u001b[0;34m()\u001b[0m\n\u001b[0;32m----> 1\u001b[0;31m \u001b[0mshap\u001b[0m\u001b[0;34m.\u001b[0m\u001b[0mplots\u001b[0m\u001b[0;34m.\u001b[0m\u001b[0mwaterfall\u001b[0m\u001b[0;34m(\u001b[0m\u001b[0mshap_values\u001b[0m\u001b[0;34m[\u001b[0m\u001b[0;36m0\u001b[0m\u001b[0;34m]\u001b[0m\u001b[0;34m)\u001b[0m\u001b[0;34m\u001b[0m\u001b[0;34m\u001b[0m\u001b[0m\n\u001b[0m",
            "\u001b[0;32m/usr/local/lib/python3.10/dist-packages/shap/plots/_waterfall.py\u001b[0m in \u001b[0;36mwaterfall\u001b[0;34m(shap_values, max_display, show)\u001b[0m\n\u001b[1;32m     55\u001b[0m             \u001b[0;34m\"`shap_values` argument.\"\u001b[0m\u001b[0;34m\u001b[0m\u001b[0;34m\u001b[0m\u001b[0m\n\u001b[1;32m     56\u001b[0m         )\n\u001b[0;32m---> 57\u001b[0;31m         \u001b[0;32mraise\u001b[0m \u001b[0mTypeError\u001b[0m\u001b[0;34m(\u001b[0m\u001b[0memsg\u001b[0m\u001b[0;34m)\u001b[0m\u001b[0;34m\u001b[0m\u001b[0;34m\u001b[0m\u001b[0m\n\u001b[0m\u001b[1;32m     58\u001b[0m \u001b[0;34m\u001b[0m\u001b[0m\n\u001b[1;32m     59\u001b[0m     \u001b[0;31m# make sure we only have a single explanation to plot\u001b[0m\u001b[0;34m\u001b[0m\u001b[0;34m\u001b[0m\u001b[0m\n",
            "\u001b[0;31mTypeError\u001b[0m: The waterfall plot requires an `Explanation` object as the `shap_values` argument."
          ]
        }
      ],
      "source": [
        "shap.plots.waterfall(shap_values[0])"
      ]
    },
    {
      "cell_type": "code",
      "execution_count": null,
      "metadata": {
        "colab": {
          "base_uri": "https://localhost:8080/"
        },
        "id": "2NJd4aKyUnef",
        "outputId": "50cad5b1-8066-46be-ec5f-d31645d5a1c6"
      },
      "outputs": [
        {
          "data": {
            "text/plain": [
              "4"
            ]
          },
          "execution_count": 79,
          "metadata": {},
          "output_type": "execute_result"
        }
      ],
      "source": [
        "# SHap values en local\n",
        "# Water fall de Shap\n",
        "#\n",
        "# Etrainement sur X,y"
      ]
    },
    {
      "cell_type": "code",
      "execution_count": null,
      "metadata": {
        "id": "iHLt3NUlA6lc"
      },
      "outputs": [],
      "source": [
        "# fonction du MLFlow permettant d'enregistrer les expériences\n",
        "def run_mlflow_experiment(model, exp_name, fig_name, hyperparams, scores, time, curve):\n",
        "    plt.savefig(fig_name)\n",
        "\n",
        "    if str(type(model)).split('.')[1] in ['sklearn', 'dummy', 'linear_model', 'ensemble']:\n",
        "        model_name = str(type(model)).split('.')[-1][0:-2]\n",
        "    else:\n",
        "        model_name = 'Smote' + '/' + str(type(model.named_steps['classifier'])).split('.')[-1][0:-2]\n",
        "\n",
        "    # Nom de l'expérience\n",
        "    experiment_name = exp_name\n",
        "\n",
        "    # Initialisation de l'expérience\n",
        "    mlflow.set_experiment(experiment_name)\n",
        "\n",
        "    # Démarrage d'un run\n",
        "    with mlflow.start_run(run_name = exp_name) as run:\n",
        "\n",
        "        # Enregistrement des hyperparamètres\n",
        "        mlflow.log_params(hyperparams)\n",
        "\n",
        "        # Enregistrement des métriques\n",
        "        mlflow.log_metric(\"Accuracy\", scores[0])\n",
        "        mlflow.log_metric(\"Precision\", scores[1])\n",
        "        mlflow.log_metric(\"Recall\", scores[2])\n",
        "        mlflow.log_metric(\"F1_score\", scores[3])\n",
        "        mlflow.log_metric(\"Auc_score\", scores[4])\n",
        "        mlflow.log_metric(\"Business_score\", scores[5])\n",
        "        mlflow.log_metric(\"Threshold\", scores[6])\n",
        "        mlflow.log_metric(\"Fit_time\", time)\n",
        "\n",
        "        # Enregistrement des graphiques\n",
        "        mlflow.log_figure(curve, artifact_file = fig_name)\n",
        "\n",
        "        # Enregistrement du modèle entraîné\n",
        "        mlflow.sklearn.log_model(model, model_name)"
      ]
    },
    {
      "cell_type": "markdown",
      "metadata": {
        "id": "qZWWgJMGwAgl"
      },
      "source": [
        "# Sous échantillonnage"
      ]
    },
    {
      "cell_type": "code",
      "execution_count": null,
      "metadata": {
        "colab": {
          "base_uri": "https://localhost:8080/"
        },
        "id": "BPBKvw7L4Dgy",
        "outputId": "15ef02c3-c6f9-452b-b00a-765b885ea67a"
      },
      "outputs": [
        {
          "name": "stdout",
          "output_type": "stream",
          "text": [
            "[LightGBM] [Info] Number of positive: 19804, number of negative: 19804\n",
            "[LightGBM] [Info] Auto-choosing col-wise multi-threading, the overhead of testing was 0.154507 seconds.\n",
            "You can set `force_col_wise=true` to remove the overhead.\n",
            "[LightGBM] [Info] Total Bins 93132\n",
            "[LightGBM] [Info] Number of data points in the train set: 39608, number of used features: 772\n",
            "[LightGBM] [Info] [binary:BoostFromScore]: pavg=0.500000 -> initscore=0.000000\n",
            "[LightGBM] [Info] Number of positive: 19948, number of negative: 19948\n",
            "[LightGBM] [Info] Auto-choosing col-wise multi-threading, the overhead of testing was 0.147857 seconds.\n",
            "You can set `force_col_wise=true` to remove the overhead.\n",
            "[LightGBM] [Info] Total Bins 93175\n",
            "[LightGBM] [Info] Number of data points in the train set: 39896, number of used features: 774\n",
            "[LightGBM] [Info] [binary:BoostFromScore]: pavg=0.500000 -> initscore=0.000000\n",
            "[LightGBM] [Info] Number of positive: 19773, number of negative: 19773\n",
            "[LightGBM] [Info] Auto-choosing col-wise multi-threading, the overhead of testing was 0.153380 seconds.\n",
            "You can set `force_col_wise=true` to remove the overhead.\n",
            "[LightGBM] [Info] Total Bins 93160\n",
            "[LightGBM] [Info] Number of data points in the train set: 39546, number of used features: 772\n",
            "[LightGBM] [Info] [binary:BoostFromScore]: pavg=0.500000 -> initscore=0.000000\n",
            "[LightGBM] [Info] Number of positive: 19934, number of negative: 19934\n",
            "[LightGBM] [Info] Auto-choosing row-wise multi-threading, the overhead of testing was 0.063138 seconds.\n",
            "You can set `force_row_wise=true` to remove the overhead.\n",
            "And if memory is not enough, you can set `force_col_wise=true`.\n",
            "[LightGBM] [Info] Total Bins 93245\n",
            "[LightGBM] [Info] Number of data points in the train set: 39868, number of used features: 772\n",
            "[LightGBM] [Info] [binary:BoostFromScore]: pavg=0.500000 -> initscore=0.000000\n",
            "[LightGBM] [Info] Number of positive: 19841, number of negative: 19841\n",
            "[LightGBM] [Info] Auto-choosing col-wise multi-threading, the overhead of testing was 0.181814 seconds.\n",
            "You can set `force_col_wise=true` to remove the overhead.\n",
            "[LightGBM] [Info] Total Bins 93116\n",
            "[LightGBM] [Info] Number of data points in the train set: 39682, number of used features: 772\n",
            "[LightGBM] [Info] [binary:BoostFromScore]: pavg=0.500000 -> initscore=0.000000\n",
            "Score de validation pour le pli 1: 0.7107736333777763\n",
            "Score de validation pour le pli 2: 0.7081070534291568\n",
            "Score de validation pour le pli 3: 0.7056795824458139\n",
            "Score de validation pour le pli 4: 0.7115331458025073\n",
            "Score de validation pour le pli 5: 0.7110128290596901\n",
            "Moyenne des scores de validation sur les 5 plis : 0.7094212488229888\n"
          ]
        }
      ],
      "source": [
        "# Définir le nombre de plis (kfolds = 5)\n",
        "n_splits = 5\n",
        "kf = KFold(n_splits=n_splits, shuffle=True, random_state=42)\n",
        "\n",
        "# Liste pour stocker les scores de validation\n",
        "validation_scores = []\n",
        "preds = []\n",
        "trues = []\n",
        "\n",
        "# Effectuer la validation croisée\n",
        "for train_index, val_index in kf.split(X):\n",
        "    X_train, X_val = X.iloc[train_index], X.iloc[val_index]\n",
        "    y_train, y_val = y.iloc[train_index], y.iloc[val_index]\n",
        "\n",
        "    # Comptage positif/négatif y_train\n",
        "    n_0 = np.sum(y_train==0)\n",
        "    n_1 = np.sum(y_train==1)\n",
        "\n",
        "    # Sélection par index\n",
        "    index_1 = np.where(y_train==1)[0]\n",
        "    index_0 = np.where(y_train==0)[0]\n",
        "\n",
        "    # Echantillonnage\n",
        "    index = np.random.choice(index_0, size = n_1, replace = False)\n",
        "\n",
        "    X_train = np.concatenate([X_train.iloc[index,:],X_train.iloc[index_1,:]], axis=0)\n",
        "    y_train = np.concatenate([y_train.iloc[index],y_train.iloc[index_1]], axis=0)\n",
        "\n",
        "    # Créer et entraîner le modèle LightGBM avec les poids de classe\n",
        "    clf = lgb.LGBMClassifier()\n",
        "    clf.fit(X_train, y_train)\n",
        "\n",
        "    pred = clf.predict_proba(X_val)\n",
        "    preds.append(pred)\n",
        "    trues.append(y_val)\n",
        "\n",
        "    # Évaluer le modèle sur l'ensemble de validation\n",
        "    val_score = clf.score(X_val, y_val)\n",
        "    validation_scores.append(val_score)\n",
        "\n",
        "# Afficher les scores de validation pour chaque pli\n",
        "for i, score in enumerate(validation_scores):\n",
        "    print(f\"Score de validation pour le pli {i + 1}: {score}\")\n",
        "\n",
        "# Calculer la moyenne des scores de validation\n",
        "mean_validation_score = np.mean(validation_scores)\n",
        "print(f\"Moyenne des scores de validation sur les {n_splits} plis : {mean_validation_score}\")"
      ]
    },
    {
      "cell_type": "code",
      "execution_count": null,
      "metadata": {
        "colab": {
          "base_uri": "https://localhost:8080/"
        },
        "id": "SS1IwYgm7D_7",
        "outputId": "a36d7c72-78cc-4337-9379-dbbd5a163b56"
      },
      "outputs": [
        {
          "data": {
            "text/plain": [
              "0.5019495491159551"
            ]
          },
          "execution_count": 55,
          "metadata": {},
          "output_type": "execute_result"
        }
      ],
      "source": [
        "prediction_proba_under = np.concatenate(preds)\n",
        "trues_proba = np.concatenate(trues)\n",
        "custom_metric(y_true=trues_proba,y_pred=prediction_proba_under[:,1])"
      ]
    },
    {
      "cell_type": "code",
      "execution_count": null,
      "metadata": {
        "colab": {
          "base_uri": "https://localhost:8080/",
          "height": 333
        },
        "id": "DNe3Q7vO7VVI",
        "outputId": "02a006c3-0832-45ef-beb7-7aac698af6e3"
      },
      "outputs": [
        {
          "data": {
            "image/png": "[encoded data removed]",
            "text/plain": [
              "<Figure size 300x300 with 2 Axes>"
            ]
          },
          "metadata": {},
          "output_type": "display_data"
        }
      ],
      "source": [
        "matrice_conf_plot(y_test=trues_proba, y_pred = prediction_proba_under, seuil=.5)"
      ]
    },
    {
      "cell_type": "code",
      "execution_count": null,
      "metadata": {
        "colab": {
          "base_uri": "https://localhost:8080/",
          "height": 410
        },
        "id": "iXboh_bC1_Mm",
        "outputId": "a7d23d20-1b83-4707-c998-06491bb5d892"
      },
      "outputs": [
        {
          "data": {
            "image/png": "[encoded data removed]",
            "text/plain": [
              "<Figure size 400x400 with 1 Axes>"
            ]
          },
          "metadata": {},
          "output_type": "display_data"
        }
      ],
      "source": [
        "courbe_precision_recall(y_test=trues_proba,y_pred=prediction_proba_under[:,1])"
      ]
    },
    {
      "cell_type": "code",
      "execution_count": null,
      "metadata": {
        "colab": {
          "base_uri": "https://localhost:8080/"
        },
        "id": "xGzC99VO4AmU",
        "outputId": "0ad5f7ff-72aa-4ebd-92be-f64a434bb34d"
      },
      "outputs": [
        {
          "name": "stdout",
          "output_type": "stream",
          "text": [
            "              precision    recall  f1-score   support\n",
            "\n",
            "         0.0       0.97      0.58      0.73    282682\n",
            "         1.0       0.15      0.81      0.25     24825\n",
            "\n",
            "    accuracy                           0.60    307507\n",
            "   macro avg       0.56      0.70      0.49    307507\n",
            "weighted avg       0.91      0.60      0.69    307507\n",
            "\n",
            "              precision    recall  f1-score   support\n",
            "\n",
            "         0.0       0.97      0.71      0.82    282682\n",
            "         1.0       0.18      0.71      0.28     24825\n",
            "\n",
            "    accuracy                           0.71    307507\n",
            "   macro avg       0.57      0.71      0.55    307507\n",
            "weighted avg       0.90      0.71      0.77    307507\n",
            "\n",
            "              precision    recall  f1-score   support\n",
            "\n",
            "         0.0       0.96      0.82      0.88    282682\n",
            "         1.0       0.22      0.57      0.31     24825\n",
            "\n",
            "    accuracy                           0.80    307507\n",
            "   macro avg       0.59      0.70      0.60    307507\n",
            "weighted avg       0.90      0.80      0.83    307507\n",
            "\n",
            "              precision    recall  f1-score   support\n",
            "\n",
            "         0.0       0.95      0.90      0.92    282682\n",
            "         1.0       0.27      0.41      0.33     24825\n",
            "\n",
            "    accuracy                           0.86    307507\n",
            "   macro avg       0.61      0.66      0.62    307507\n",
            "weighted avg       0.89      0.86      0.88    307507\n",
            "\n",
            "              precision    recall  f1-score   support\n",
            "\n",
            "         0.0       0.93      0.97      0.95    282682\n",
            "         1.0       0.36      0.22      0.27     24825\n",
            "\n",
            "    accuracy                           0.90    307507\n",
            "   macro avg       0.65      0.59      0.61    307507\n",
            "weighted avg       0.89      0.90      0.89    307507\n",
            "\n"
          ]
        }
      ],
      "source": [
        "y_pred_under = prediction_proba_under[:,1]\n",
        "\n",
        "# # Évaluez le modèle\n",
        "print(classification_report(trues_proba, (y_pred_under > 0.4).astype(int)))\n",
        "print(classification_report(trues_proba, (y_pred_under > 0.5).astype(int)))\n",
        "print(classification_report(trues_proba, (y_pred_under > 0.6).astype(int)))\n",
        "print(classification_report(trues_proba, (y_pred_under > 0.7).astype(int)))\n",
        "print(classification_report(trues_proba, (y_pred_under > 0.8).astype(int)))"
      ]
    },
    {
      "cell_type": "code",
      "execution_count": null,
      "metadata": {
        "id": "jqAJ-lIAPFgG"
      },
      "outputs": [],
      "source": []
    },
    {
      "cell_type": "markdown",
      "metadata": {
        "id": "qzPCs-DlDmq-"
      },
      "source": [
        "# Brouillon"
      ]
    },
    {
      "cell_type": "code",
      "execution_count": null,
      "metadata": {
        "colab": {
          "base_uri": "https://localhost:8080/"
        },
        "id": "f4Uq4By-vRNV",
        "outputId": "78601f68-66c7-43f7-828d-c30d8eebdbb2"
      },
      "outputs": [
        {
          "name": "stdout",
          "output_type": "stream",
          "text": [
            "              precision    recall  f1-score   support\n",
            "\n",
            "         0.0       0.92      1.00      0.96     56481\n",
            "         1.0       0.68      0.02      0.04      5021\n",
            "\n",
            "    accuracy                           0.92     61502\n",
            "   macro avg       0.80      0.51      0.50     61502\n",
            "weighted avg       0.90      0.92      0.88     61502\n",
            "\n"
          ]
        }
      ],
      "source": [
        "# # Faites des prédictions sur l'ensemble de test\n",
        "y_pred = model.predict(X_test)\n",
        "\n",
        "# # Évaluez le modèle\n",
        "print(classification_report(y_test, (y_pred > 0.5).astype(int)))"
      ]
    },
    {
      "cell_type": "code",
      "execution_count": null,
      "metadata": {
        "colab": {
          "base_uri": "https://localhost:8080/",
          "height": 333
        },
        "id": "Ib95wpevx5XJ",
        "outputId": "5db54842-03ab-4f11-8745-b0861136b749"
      },
      "outputs": [
        {
          "data": {
            "image/png": "[encoded data removed]",
            "text/plain": [
              "<Figure size 300x300 with 2 Axes>"
            ]
          },
          "metadata": {},
          "output_type": "display_data"
        }
      ],
      "source": [
        "from sklearn.metrics import confusion_matrix\n",
        "conf_matrix = confusion_matrix(y_test, (y_pred > 0.5).astype(int))\n",
        "# Affichez la matrice de confusion\n",
        "plt.figure(figsize=(3, 3))\n",
        "sns.heatmap(conf_matrix, annot=True, fmt='d', cmap='Blues')\n",
        "plt.xlabel('Prédictions')\n",
        "plt.ylabel('Vraies étiquettes')\n",
        "plt.title('Matrice de Confusion')\n",
        "plt.show()"
      ]
    },
    {
      "cell_type": "code",
      "execution_count": null,
      "metadata": {
        "colab": {
          "base_uri": "https://localhost:8080/"
        },
        "id": "wQrOF4fyv3Ve",
        "outputId": "39621e18-471c-44d4-8d9e-508c5945abe8"
      },
      "outputs": [
        {
          "data": {
            "text/plain": [
              "(0, 0.0)"
            ]
          },
          "execution_count": 76,
          "metadata": {},
          "output_type": "execute_result"
        }
      ],
      "source": [
        "pd.Series(y_pred).isna().sum(),pd.Series(y_test).isna().mean()"
      ]
    },
    {
      "cell_type": "code",
      "execution_count": null,
      "metadata": {
        "id": "wuCBCLCRCUI_"
      },
      "outputs": [],
      "source": [
        "# # # Définissez les paramètres du modèle Light GBM\n",
        "# params = {\n",
        "#     \"objective\": \"binary\",\n",
        "#     \"metric\": \"binary_logloss\",\n",
        "#     \"boosting_type\": \"gbdt\",\n",
        "#     # \"is_unbalance\": True,\n",
        "#     \"num_leaves\": 31,\n",
        "#     \"learning_rate\": 0.05,\n",
        "# }\n",
        "# # Créez un dataset Light GBM pour l'ensemble d'entraînement\n",
        "# train_data = lgb.Dataset(X_train, label=y_train)\n",
        "\n",
        "# # # Entraînez le modèle Light GBM\n",
        "# model = lgb.train(params = params, train_set = train_data, num_boost_round=100)"
      ]
    },
    {
      "cell_type": "code",
      "execution_count": null,
      "metadata": {
        "colab": {
          "base_uri": "https://localhost:8080/"
        },
        "id": "JAYbALMWR7tT",
        "outputId": "da4bfebb-23c7-4e04-b47f-11e05a4fac9e"
      },
      "outputs": [
        {
          "name": "stdout",
          "output_type": "stream",
          "text": [
            "Précision : 0.9191245813144288\n"
          ]
        }
      ],
      "source": [
        "# # Créer un classificateur HistGradientBoostingClassifier\n",
        "# clf = HistGradientBoostingClassifier()\n",
        "\n",
        "# # Entrainer le modèle\n",
        "# clf.fit(X_train, y_train)\n",
        "\n",
        "# # Calculer la précision sur les données de test\n",
        "# score = clf.score(X_test, y_test)\n",
        "\n",
        "# # Afficher la précision\n",
        "# print(\"Précision :\", score)"
      ]
    },
    {
      "cell_type": "code",
      "execution_count": null,
      "metadata": {
        "id": "B39FHIUOy80p"
      },
      "outputs": [],
      "source": [
        "# # Créer un classificateur LightGBM\n",
        "# clf = LGBMClassifier(n_jobs=-1)\n",
        "\n",
        "# # Définir l'espace de recherche\n",
        "# params = {\n",
        "#     \"objective\": [\"binary\", \"tweedie\"],\n",
        "#     \"n_estimators\": [100, 200, 300],\n",
        "#     \"learning_rate\": [0.1, 0.05, 0.01],\n",
        "#     \"max_depth\": [3, 5, 7],\n",
        "#     \"min_child_samples\": [5, 10, 15],\n",
        "#     'early_stopping_rounds' : [5]\n",
        "# }\n",
        "\n",
        "# # Ajouter early stopping\n",
        "# # params[\"early_stopping_rounds\"] = 5\n",
        "# # params[\"early_stopping_metric\"] = \"accuracy\"\n",
        "\n",
        "# # Créer un objet GridSearchCV\n",
        "# gscv = GridSearchCV(clf, params, cv=5, scoring=\"accuracy\")\n",
        "\n",
        "# # Entrainer le modèle\n",
        "# gscv.fit(X_train, y_train)\n",
        "\n",
        "# # Afficher les meilleurs paramètres\n",
        "# print(gscv.best_params_)"
      ]
    },
    {
      "cell_type": "code",
      "execution_count": null,
      "metadata": {
        "colab": {
          "base_uri": "https://localhost:8080/"
        },
        "id": "k5a25cpTeHSX",
        "outputId": "43dddeff-7b4f-45e0-d4a6-6909e7015e52"
      },
      "outputs": [
        {
          "name": "stdout",
          "output_type": "stream",
          "text": [
            "Scores de validation croisée (5 plis): [0.92004228 0.9203878  0.91945286 0.92036747 0.92028617]\n",
            "Moyenne des scores de validation croisée: 0.9201073148919738\n",
            "Performance sur l'ensemble de test: 0.9192709180189262\n"
          ]
        }
      ],
      "source": [
        "# # Créer un modèle HistGradientBoostingClassifier\n",
        "# clf = HistGradientBoostingClassifier(random_state=42)\n",
        "\n",
        "# # Effectuer une validation croisée (cross-validation) avec 5 plis\n",
        "# scores = cross_val_score(clf, X_train, y_train, cv=5)\n",
        "\n",
        "# # Entraîner le modèle sur l'ensemble d'entraînement complet\n",
        "# clf.fit(X_train, y_train)\n",
        "\n",
        "# # Évaluer les performances du modèle sur l'ensemble de test\n",
        "# test_score = clf.score(X_test, y_test)\n",
        "\n",
        "# # Afficher les scores de validation croisée\n",
        "# print(\"Scores de validation croisée (5 plis):\", scores)\n",
        "# print(\"Moyenne des scores de validation croisée:\", np.mean(scores))\n",
        "# print(\"Performance sur l'ensemble de test:\", test_score)"
      ]
    }
  ],
  "metadata": {
    "colab": {
      "machine_shape": "hm",
      "provenance": [],
      "authorship_tag": "ABX9TyOuR7/hoioWZxoDsoG3cwsz",
      "include_colab_link": true
    },
    "kernelspec": {
      "display_name": "Python 3",
      "name": "python3"
    },
    "language_info": {
      "name": "python"
    }
  },
  "nbformat": 4,
  "nbformat_minor": 0
}